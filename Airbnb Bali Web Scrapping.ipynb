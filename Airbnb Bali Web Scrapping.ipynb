{
  "nbformat": 4,
  "nbformat_minor": 0,
  "metadata": {
    "kernelspec": {
      "display_name": "Python 3",
      "language": "python",
      "name": "python3"
    },
    "language_info": {
      "codemirror_mode": {
        "name": "ipython",
        "version": 3
      },
      "file_extension": ".py",
      "mimetype": "text/x-python",
      "name": "python",
      "nbconvert_exporter": "python",
      "pygments_lexer": "ipython3",
      "version": "3.6.12"
    },
    "colab": {
      "name": "Final_Code_A2.ipynb",
      "provenance": [],
      "collapsed_sections": [],
      "toc_visible": true
    }
  },
  "cells": [
    {
      "cell_type": "markdown",
      "metadata": {
        "deletable": false,
        "editable": false,
        "nbgrader": {
          "cell_type": "markdown",
          "checksum": "90bc2a10f37790d1364001ef0401ed45",
          "grade": false,
          "grade_id": "cell-aad0d9693d861220",
          "locked": true,
          "schema_version": 3,
          "solution": false,
          "task": false
        },
        "id": "lf8ve7onO5rS"
      },
      "source": [
        "# Assignment 2\n",
        "\n",
        "This notebook contains a set of exercises that will guide you through the different steps of this assignment. The aim of this assignment is to create and save a dataset containing information about different listings in Airbnb. You will then use this dataset during the Artifical Intelligence I course to train a predictive model.\n",
        "\n",
        "<div class=\"alert alert-danger\"><b>Submission deadline:</b> Thursday, December 3, 20:00</div>\n",
        "\n",
        "### Instructions\n",
        "\n",
        "Read carefully the following instructions before starting the exercises.\n",
        "\n",
        "- This notebook is automatically graded. This means that there are several cells embedded into the notebook that take care of checking your code and grading it. It also means that it is important **to follow the instructions for each of the exercises** to make sure that you do everything right.\n",
        "\n",
        "- Write your code in the dedicated cells. You can use as many cells as you like. Just make sure to include all the necessary code **before the corresponding test**.\n",
        "\n",
        "- The tests for the introductory exercises will be open for you to see. This will help you understand how the pipeline works and check that you got the basics right. You can run these checks as many times as you want, **as long as you don't modify them**.  \n",
        "\n",
        "- The tests for the graded exercises will remain hidden. It is important that you **do not write any code, nor do you remove the cells left in blank** for this purpose. \n",
        "\n",
        "- Remember that tests look for specific variable and objects. This means that in order to receive the points for each exercise, you need to **create those objects**.\n",
        "\n",
        "Before moving on, please run the following cell. You only need run it once in order to install the ```nose``` library."
      ]
    },
    {
      "cell_type": "code",
      "metadata": {
        "colab": {
          "base_uri": "https://localhost:8080/"
        },
        "id": "J2nFJfq-O5rS",
        "outputId": "23b48244-c3fb-4c6c-93b8-98f81dbb9acb"
      },
      "source": [
        "pip install nose"
      ],
      "execution_count": 1,
      "outputs": [
        {
          "output_type": "stream",
          "text": [
            "Requirement already satisfied: nose in /usr/local/lib/python3.6/dist-packages (1.3.7)\n"
          ],
          "name": "stdout"
        }
      ]
    },
    {
      "cell_type": "markdown",
      "metadata": {
        "deletable": false,
        "editable": false,
        "nbgrader": {
          "cell_type": "markdown",
          "checksum": "a720f1db42b69945f298ebc0fa7e5834",
          "grade": false,
          "grade_id": "cell-ad8333c5b878d609",
          "locked": true,
          "schema_version": 3,
          "solution": false,
          "task": false
        },
        "id": "cnLNs0euO5rS"
      },
      "source": [
        "## Getting started\n",
        "\n",
        "[Airbnb](https://www.airbnb.com/) allows people to rent out their properties on their online platform. Travelers can then book these properties for shorter or longer periods of time. The company was founded in August 2008 in San Francisco, California, and currently has an annual revenue stream of over 2.5 Billion US Dollars. In the US alone, the platform has 660,000 listings.\n",
        "\n",
        "![airbnb](https://www.dropbox.com/s/njll910mmpzm86z/airbnb.png?raw=1)\n",
        "\n",
        "Every individual listing contains a lot of information like the facilities offered, the location, information about the host and reviews. In this assignment you will build a web scrapper to extract information from these listings using Python.\n",
        "\n",
        "![bali](https://www.dropbox.com/s/5gnj4dsv1qmvji5/bali.png?raw=1)\n",
        "\n",
        "The fact that we are confined at home shouldn't prevent us from dreaming we could go somewhere else. So, let's take a look at the different listings available to spend 5 nights in Bali during these Christmas holidays, from December 29 until January 3. You can check the different options available by in the following [link](https://www.airbnb.com/s/Bali--Indonesia/homes?tab_id=home_tab&refinement_paths%5B%5D=%2Fhomes&query=Bali%2C%20Indonesia&place_id=ChIJoQ8Q6NNB0S0RkOYkS7EPkSQ&checkin=2020-12-29&checkout=2021-01-03&source=structured_search_input_header&search_type=autocomplete_click).\n",
        "\n",
        "The whole url has been copied for you below."
      ]
    },
    {
      "cell_type": "code",
      "metadata": {
        "id": "rJ72yttnO5rS"
      },
      "source": [
        "url = \"https://www.airbnb.com/s/Bali--Indonesia/homes?tab_id=home_tab&refinement_paths%5B%5D=%2Fhomes&query=Bali%2C%20Indonesia&place_id=ChIJoQ8Q6NNB0S0RkOYkS7EPkSQ&checkin=2020-12-29&checkout=2021-01-03&source=structured_search_input_header&search_type=autocomplete_click\""
      ],
      "execution_count": 73,
      "outputs": []
    },
    {
      "cell_type": "markdown",
      "metadata": {
        "deletable": false,
        "editable": false,
        "nbgrader": {
          "cell_type": "markdown",
          "checksum": "e7fda3da48b46144a20e8fa82487ad28",
          "grade": false,
          "grade_id": "cell-42289f056b768008",
          "locked": true,
          "schema_version": 3,
          "solution": false,
          "task": false
        },
        "id": "NBQpEvqRO5rS"
      },
      "source": [
        "Let's begin by making a request to retrieve the HTML code for this website. Since this is an action that you may need to perform several times throughout the assignment, let's encapsulate the corresponding code in a function.\n",
        "\n",
        "<div class=\"alert alert-info\"><b>Exercise 1 </b>Write the code to complete function <i>get_page</i>. This function should take a url as input and return its underlying HTML code as a <b>BeautifulSoup object</b> as output. The required libraries have already been imported for you.</div>"
      ]
    },
    {
      "cell_type": "code",
      "metadata": {
        "deletable": false,
        "nbgrader": {
          "cell_type": "code",
          "checksum": "9b6616f60edc376e1c4bdebe600ed70a",
          "grade": false,
          "grade_id": "cell-880bd6b449823798",
          "locked": false,
          "schema_version": 3,
          "solution": true,
          "task": false
        },
        "id": "aOZURq5gO5rS"
      },
      "source": [
        "import requests\n",
        "import bs4\n",
        "\n",
        "def get_page(url):\n",
        "    response = requests.get(url)\n",
        "    soup = bs4.BeautifulSoup(response.text, \"html.parser\")\n",
        "    return soup"
      ],
      "execution_count": 3,
      "outputs": []
    },
    {
      "cell_type": "markdown",
      "metadata": {
        "deletable": false,
        "editable": false,
        "nbgrader": {
          "cell_type": "markdown",
          "checksum": "9f8d77b45d9deb7f3bc14e5b6576fdab",
          "grade": false,
          "grade_id": "cell-c4fc30e88ca85392",
          "locked": true,
          "schema_version": 3,
          "solution": false,
          "task": false
        },
        "id": "Ul0mSFeCO5rS"
      },
      "source": [
        "The following cell runs additional checks to your code. Please **don't write any code here**. Just leave it as it is."
      ]
    },
    {
      "cell_type": "code",
      "metadata": {
        "deletable": false,
        "editable": false,
        "nbgrader": {
          "cell_type": "code",
          "checksum": "a4620c9edf2990f66a0852e4596f8bc6",
          "grade": true,
          "grade_id": "cell-3756e90208867335",
          "locked": true,
          "points": 0.25,
          "schema_version": 3,
          "solution": false,
          "task": false
        },
        "id": "UfB2lSToO5rS"
      },
      "source": [
        "# LEAVE BLANK"
      ],
      "execution_count": 4,
      "outputs": []
    },
    {
      "cell_type": "markdown",
      "metadata": {
        "deletable": false,
        "editable": false,
        "nbgrader": {
          "cell_type": "markdown",
          "checksum": "6ee7667710801b60683fecc207b3a1c0",
          "grade": false,
          "grade_id": "cell-d417065f24be3822",
          "locked": true,
          "schema_version": 3,
          "solution": false,
          "task": false
        },
        "id": "RldJSYXrO5rS"
      },
      "source": [
        "As you well know, the first step in trying to extract information from a webpage is to check how it is constructed. A brief look at the given webpage shows that the information on the different listings is shown underneath each other in a list form. \n",
        "\n",
        "<img src=\"https://www.dropbox.com/s/jl436b6cc1daent/bali_listing.png?raw=1\" width=\"700\">\n",
        "\n",
        "For every listing a preview image is shown together with some standard information, including a title, a subtitle, the number of guests allowed, the number of bedrooms and bathrooms, the number of beds, information about certain ammenities, the price per night, the total price per stay, the average rating and the number of reviews.\n",
        "\n",
        "<div class=\"alert alert-warning\">For the example shown above, the title would be \"BALIAN TREEHOUSE w beautiful pool\", while the subtitle corresponds to \"Hut in Balian Beach, Bali\".</div>\n",
        "\n",
        "Let's write the code to retrieve these data for each separate listing, let's first identify the separate pieces of code that contain the information for the different results.\n",
        "\n",
        "<div class=\"alert alert-info\"><b>Exercise 2 </b>Write the code to complete function <i>get_listings</i>. This function should take a BeautifulSoup object containing the code for a whole webpage as input and return a <b>list</b> of the individual pieces of code for each listing. Among the different options, select the larger pieces of code that contain a single listing.</div>"
      ]
    },
    {
      "cell_type": "code",
      "metadata": {
        "deletable": false,
        "nbgrader": {
          "cell_type": "code",
          "checksum": "dfdabc2bc15d17076b70a19dabccd9e2",
          "grade": false,
          "grade_id": "cell-e6a05939e4a60230",
          "locked": false,
          "schema_version": 3,
          "solution": true,
          "task": false
        },
        "id": "yhTzZqpWO5rT"
      },
      "source": [
        "def get_listings(soup):\n",
        "  result = []\n",
        "  result.extend(soup.find_all(\"div\", {\"class\": \"_8ssblpx\"})) \n",
        "  \n",
        "  return result"
      ],
      "execution_count": 5,
      "outputs": []
    },
    {
      "cell_type": "code",
      "metadata": {
        "id": "GtgCta5rwXVz"
      },
      "source": [
        "page_1 = get_page(url)"
      ],
      "execution_count": 6,
      "outputs": []
    },
    {
      "cell_type": "code",
      "metadata": {
        "colab": {
          "base_uri": "https://localhost:8080/"
        },
        "id": "axU2kSGPt1fe",
        "outputId": "741a359c-d570-4189-9046-9634b91ca2cf"
      },
      "source": [
        "get_listings(page_1)"
      ],
      "execution_count": 7,
      "outputs": [
        {
          "output_type": "execute_result",
          "data": {
            "text/plain": [
              "[<div class=\"_8ssblpx\"><div class=\"_gig1e7\"><div itemprop=\"itemListElement\" itemscope=\"\" itemtype=\"http://schema.org/ListItem\"><meta content=\"2BR &amp; Private Pool luxury villa Seminyak - null - Kuta Utara\" itemprop=\"name\"/><meta content=\"1\" itemprop=\"position\"/><meta content=\"undefined/rooms/21534327?check_in=2020-12-29&amp;check_out=2021-01-03&amp;previous_page_section_name=1000\" itemprop=\"url\"/><div><div><div style=\"margin-top:12px;margin-bottom:24px\"><div class=\"_7qp4lh\"></div></div><div class=\"_1048zci\"><a aria-label=\"2BR &amp; Private Pool luxury villa Seminyak\" class=\"_gjfol0\" data-check-info-section=\"true\" href=\"/rooms/21534327?check_in=2020-12-29&amp;check_out=2021-01-03&amp;previous_page_section_name=1000&amp;federated_search_id=268eacb7-7083-49b5-8b36-ae8226ab9fa2\" rel=\"noopener noreferrer\" target=\"listing_21534327\"></a><div class=\"_1nz9l7j\"><div class=\"_2n7voam\"><div class=\"_gjw2an\" style=\"padding-top:66.6667%;background:#484848\"><div class=\"_1szwzht\"><div aria-busy=\"false\" aria-label=\"2BR &amp; Private Pool luxury villa Seminyak\" class=\"_hxt6u1e\" role=\"img\" style=\"padding-top:66.6667%\"><div class=\"_4626ulj\"><img alt=\"2BR &amp; Private Pool luxury villa Seminyak\" aria-hidden=\"true\" class=\"_91slf2a\" data-original-uri=\"https://a0.muscache.com/im/pictures/a555021c-7000-4dd7-9724-44e6e544d7c1.jpg?im_w=720\" src=\"https://a0.muscache.com/im/pictures/a555021c-7000-4dd7-9724-44e6e544d7c1.jpg?im_w=720\" style=\"object-fit:cover\"/><div class=\"_10xjrv2u\" style=\"background-image:url(https://a0.muscache.com/im/pictures/a555021c-7000-4dd7-9724-44e6e544d7c1.jpg?im_w=720);background-size:cover\"></div></div></div></div></div><div class=\"_5ogqp7\"><div class=\"_zjunba\" style=\"padding:8px\"><div></div></div><div class=\"_1xzy2\"><div class=\"_hd88sb\"><button aria-label=\"Previous image\" class=\"_1c5c8zn\" type=\"button\"><span class=\"_3hmsj\"><svg aria-hidden=\"true\" focusable=\"false\" role=\"presentation\" style=\"height:10px;width:10px;display:block;fill:currentColor\" viewbox=\"0 0 16 16\"><path d=\"m10.8 16c-.4 0-.7-.1-.9-.4l-6.8-6.7c-.5-.5-.5-1.3 0-1.8l6.8-6.7c.5-.5 1.2-.5 1.7 0s .5 1.2 0 1.7l-5.8 5.9 5.8 5.9c.5.5.5 1.2 0 1.7-.2.3-.5.4-.8.4\"></path></svg></span></button></div><div class=\"_l9kk1hc\"><button aria-label=\"Next image\" class=\"_1c5c8zn\" type=\"button\"><span class=\"_3hmsj\"><svg aria-hidden=\"true\" focusable=\"false\" role=\"presentation\" style=\"height:10px;width:10px;display:block;fill:currentColor\" viewbox=\"0 0 16 16\"><path d=\"m5.3 16c .3 0 .6-.1.8-.4l6.8-6.7c.5-.5.5-1.3 0-1.8l-6.8-6.7c-.5-.5-1.2-.5-1.7 0s-.5 1.2 0 1.7l5.8 5.9-5.8 5.9c-.5.5-.5 1.2 0 1.7.2.3.5.4.9.4\"></path></svg></span></button></div></div><div class=\"_1coc2b2\"></div></div></div></div><div class=\"_tmwq9g\"><div class=\"_r6zroz\"><div class=\"_1jzvdu8\"><div class=\"_1tanv1h\" style=\"margin-bottom:4px\"><div class=\"_167qordg\">Entire villa in Kuta Utara</div></div><div class=\"_bzh5lkq\" style=\"line-height:24px;max-height:24px;overflow:hidden;text-overflow:ellipsis;display:-webkit-box;-webkit-line-clamp:1;-webkit-box-orient:vertical\">2BR &amp; Private Pool luxury villa Seminyak</div></div></div><div class=\"_12xcxtl\" style=\"margin-top:11px;width:32px\"></div><div class=\"_kqh46o\" style=\"margin-top:9px\">4 guests<span aria-hidden=\"true\"> · </span>2 bedrooms<span aria-hidden=\"true\"> · </span>2 beds<span aria-hidden=\"true\"> · </span>2 baths</div><div class=\"_kqh46o\" style=\"margin-top:4px\">Pool<span aria-hidden=\"true\"> · </span>Wifi<span aria-hidden=\"true\"> · </span>Air conditioning<span aria-hidden=\"true\"> · </span>Kitchen</div><div class=\"_1bbeetd\"><div class=\"_vaj62s\"><span class=\"_18khxk1\"><span class=\"_5g1etn\"><svg aria-hidden=\"true\" focusable=\"false\" role=\"presentation\" style=\"height:14px;width:14px;fill:currentColor\" viewbox=\"0 0 1000 1000\"><path d=\"M972 380c9 28 2 50-20 67L725 619l87 280c11 39-18 75-54 75-12 0-23-4-33-12L499 790 273 962a58 58 0 0 1-78-12 50 50 0 0 1-8-51l86-278L46 447c-21-17-28-39-19-67 8-24 29-40 52-40h280l87-279c7-23 28-39 52-39 25 0 47 17 54 41l87 277h280c24 0 45 16 53 40z\"></path></svg></span><span class=\"_krjbj\">Rating 4.58 out of 5;</span><span aria-hidden=\"true\" class=\"_10fy1f8\">4.58</span><span class=\"_krjbj\">39 reviews</span><span aria-hidden=\"true\" class=\"_a7a5sx\"> (<!-- -->39<!-- -->)</span></span></div><div class=\"_ls0e43\"><div class=\"_l2ulkt8\"><div class=\"_1fwiw8gv\"><span><span class=\"_1p7iugi\"><span class=\"_krjbj\">Price:</span>$77</span> / night</span></div><div class=\"_vsjqit\" style=\"margin-top:2px\"><span class=\"_krjbj\">Price:</span><div class=\"_17y0hv9\"><div><button class=\"_ebe4pze\" type=\"button\">$442 total<span class=\"_krjbj\">Show details</span></button></div></div></div></div></div></div></div></div><div></div><div style=\"margin-top:24px;margin-bottom:4px\"><div class=\"_7qp4lh\"></div></div></div></div></div></div></div>,\n",
              " <div class=\"_8ssblpx\"><div class=\"_gig1e7\"><div itemprop=\"itemListElement\" itemscope=\"\" itemtype=\"http://schema.org/ListItem\"><meta content=\"Beautiful villa on the edge of BLUE LAGOON - null - Nusa Ceningan\" itemprop=\"name\"/><meta content=\"2\" itemprop=\"position\"/><meta content=\"undefined/rooms/28698536?check_in=2020-12-29&amp;check_out=2021-01-03&amp;previous_page_section_name=1000\" itemprop=\"url\"/><div><div><div class=\"_1048zci\"><a aria-label=\"Beautiful villa on the edge of BLUE LAGOON\" class=\"_gjfol0\" data-check-info-section=\"true\" href=\"/rooms/28698536?check_in=2020-12-29&amp;check_out=2021-01-03&amp;previous_page_section_name=1000&amp;federated_search_id=268eacb7-7083-49b5-8b36-ae8226ab9fa2\" rel=\"noopener noreferrer\" target=\"listing_28698536\"></a><div class=\"_1nz9l7j\"><div class=\"_2n7voam\"><div class=\"_gjw2an\" style=\"padding-top:66.6667%;background:#484848\"><div class=\"_1szwzht\"><div aria-busy=\"false\" aria-label=\"Beautiful villa on the edge of BLUE LAGOON\" class=\"_hxt6u1e\" role=\"img\" style=\"padding-top:66.6667%\"><div class=\"_4626ulj\"><img alt=\"Beautiful villa on the edge of BLUE LAGOON\" aria-hidden=\"true\" class=\"_91slf2a\" data-original-uri=\"https://a0.muscache.com/im/pictures/a63b7c96-5e6f-46e6-aa6b-499d29fc1562.jpg?im_w=720\" src=\"https://a0.muscache.com/im/pictures/a63b7c96-5e6f-46e6-aa6b-499d29fc1562.jpg?im_w=720\" style=\"object-fit:cover\"/><div class=\"_10xjrv2u\" style=\"background-image:url(https://a0.muscache.com/im/pictures/a63b7c96-5e6f-46e6-aa6b-499d29fc1562.jpg?im_w=720);background-size:cover\"></div></div></div></div></div><div class=\"_5ogqp7\"><div class=\"_zjunba\" style=\"padding:8px\"><div><div class=\"_snufp9\" style=\"background-color:rgba(255, 255, 255, 0.95);border:0.5px solid rgba(0, 0, 0, 0.2);color:#222222\"><div class=\"_ufoy4t\">SUPERHOST</div></div></div></div><div class=\"_1xzy2\"><div class=\"_hd88sb\"><button aria-label=\"Previous image\" class=\"_1c5c8zn\" type=\"button\"><span class=\"_3hmsj\"><svg aria-hidden=\"true\" focusable=\"false\" role=\"presentation\" style=\"height:10px;width:10px;display:block;fill:currentColor\" viewbox=\"0 0 16 16\"><path d=\"m10.8 16c-.4 0-.7-.1-.9-.4l-6.8-6.7c-.5-.5-.5-1.3 0-1.8l6.8-6.7c.5-.5 1.2-.5 1.7 0s .5 1.2 0 1.7l-5.8 5.9 5.8 5.9c.5.5.5 1.2 0 1.7-.2.3-.5.4-.8.4\"></path></svg></span></button></div><div class=\"_l9kk1hc\"><button aria-label=\"Next image\" class=\"_1c5c8zn\" type=\"button\"><span class=\"_3hmsj\"><svg aria-hidden=\"true\" focusable=\"false\" role=\"presentation\" style=\"height:10px;width:10px;display:block;fill:currentColor\" viewbox=\"0 0 16 16\"><path d=\"m5.3 16c .3 0 .6-.1.8-.4l6.8-6.7c.5-.5.5-1.3 0-1.8l-6.8-6.7c-.5-.5-1.2-.5-1.7 0s-.5 1.2 0 1.7l5.8 5.9-5.8 5.9c-.5.5-.5 1.2 0 1.7.2.3.5.4.9.4\"></path></svg></span></button></div></div><div class=\"_1coc2b2\"></div></div></div></div><div class=\"_tmwq9g\"><div class=\"_r6zroz\"><div class=\"_1jzvdu8\"><div class=\"_1tanv1h\" style=\"margin-bottom:4px\"><div class=\"_167qordg\">Entire villa in Nusa Ceningan</div></div><div class=\"_bzh5lkq\" style=\"line-height:24px;max-height:24px;overflow:hidden;text-overflow:ellipsis;display:-webkit-box;-webkit-line-clamp:1;-webkit-box-orient:vertical\">Beautiful villa on the edge of BLUE LAGOON</div></div></div><div class=\"_12xcxtl\" style=\"margin-top:11px;width:32px\"></div><div class=\"_kqh46o\" style=\"margin-top:9px\">2 guests<span aria-hidden=\"true\"> · </span>1 bedroom<span aria-hidden=\"true\"> · </span>1 bed<span aria-hidden=\"true\"> · </span>1 bath</div><div class=\"_kqh46o\" style=\"margin-top:4px\">Pool<span aria-hidden=\"true\"> · </span>Wifi<span aria-hidden=\"true\"> · </span>Air conditioning</div><div class=\"_1wl86jn\" style=\"margin-top:8px\"><div class=\"_132lfqt\"><div class=\"_wi2nk7\"><div class=\"_dqf2jj\"><div class=\"_5qtx03\"><div style=\"height:12px;width:12px;display:block\"></div></div><div class=\"_17bkx6k\">New lower price</div></div></div></div></div><div class=\"_1bbeetd\"><div class=\"_vaj62s\"><span class=\"_18khxk1\"><span class=\"_5g1etn\"><svg aria-hidden=\"true\" focusable=\"false\" role=\"presentation\" style=\"height:14px;width:14px;fill:currentColor\" viewbox=\"0 0 1000 1000\"><path d=\"M972 380c9 28 2 50-20 67L725 619l87 280c11 39-18 75-54 75-12 0-23-4-33-12L499 790 273 962a58 58 0 0 1-78-12 50 50 0 0 1-8-51l86-278L46 447c-21-17-28-39-19-67 8-24 29-40 52-40h280l87-279c7-23 28-39 52-39 25 0 47 17 54 41l87 277h280c24 0 45 16 53 40z\"></path></svg></span><span class=\"_krjbj\">Rating 4.82 out of 5;</span><span aria-hidden=\"true\" class=\"_10fy1f8\">4.82</span><span class=\"_krjbj\">310 reviews</span><span aria-hidden=\"true\" class=\"_a7a5sx\"> (<!-- -->310<!-- -->)</span></span></div><div class=\"_ls0e43\"><div class=\"_l2ulkt8\"><div class=\"_1fwiw8gv\"><span><span class=\"_1p7iugi\"><span class=\"_16shi2n\"><span class=\"_krjbj\">Previous price:</span>$92</span><span class=\"_krjbj\">Discounted price:</span>$70</span> / night</span></div><div class=\"_vsjqit\" style=\"margin-top:2px\"><span class=\"_krjbj\">Price:</span><div class=\"_17y0hv9\"><div><button class=\"_ebe4pze\" type=\"button\">$400 total<span class=\"_krjbj\">Show details</span></button></div></div></div></div></div></div></div></div><div></div><div style=\"margin-top:24px;margin-bottom:4px\"><div class=\"_7qp4lh\"></div></div></div></div></div></div></div>,\n",
              " <div class=\"_8ssblpx\"><div class=\"_gig1e7\"><div itemprop=\"itemListElement\" itemscope=\"\" itemtype=\"http://schema.org/ListItem\"><meta content=\"CENTRAL Canggu. 1 KM to Batu Bolong Beach (4) - null - Canggu\" itemprop=\"name\"/><meta content=\"3\" itemprop=\"position\"/><meta content=\"undefined/rooms/40108475?check_in=2020-12-29&amp;check_out=2021-01-03&amp;previous_page_section_name=1000\" itemprop=\"url\"/><div><div><div class=\"_1048zci\"><a aria-label=\"CENTRAL Canggu. 1 KM to Batu Bolong Beach (4)\" class=\"_gjfol0\" data-check-info-section=\"true\" href=\"/rooms/40108475?check_in=2020-12-29&amp;check_out=2021-01-03&amp;previous_page_section_name=1000&amp;federated_search_id=268eacb7-7083-49b5-8b36-ae8226ab9fa2\" rel=\"noopener noreferrer\" target=\"listing_40108475\"></a><div class=\"_1nz9l7j\"><div class=\"_2n7voam\"><div class=\"_gjw2an\" style=\"padding-top:66.6667%;background:#484848\"><div class=\"_1szwzht\"><div aria-busy=\"false\" aria-label=\"CENTRAL Canggu. 1 KM to Batu Bolong Beach (4)\" class=\"_hxt6u1e\" role=\"img\" style=\"padding-top:66.6667%\"><div class=\"_4626ulj\"><img alt=\"CENTRAL Canggu. 1 KM to Batu Bolong Beach (4)\" aria-hidden=\"true\" class=\"_91slf2a\" data-original-uri=\"https://a0.muscache.com/im/pictures/da344b5c-5bd0-41b1-aca4-61533baea5c6.jpg?im_w=720\" src=\"https://a0.muscache.com/im/pictures/da344b5c-5bd0-41b1-aca4-61533baea5c6.jpg?im_w=720\" style=\"object-fit:cover\"/><div class=\"_10xjrv2u\" style=\"background-image:url(https://a0.muscache.com/im/pictures/da344b5c-5bd0-41b1-aca4-61533baea5c6.jpg?im_w=720);background-size:cover\"></div></div></div></div></div><div class=\"_5ogqp7\"><div class=\"_zjunba\" style=\"padding:8px\"><div><div class=\"_snufp9\" style=\"background-color:rgba(255, 255, 255, 0.95);border:0.5px solid rgba(0, 0, 0, 0.2);color:#222222\"><div class=\"_ufoy4t\">SUPERHOST</div></div></div></div><div class=\"_1xzy2\"><div class=\"_hd88sb\"><button aria-label=\"Previous image\" class=\"_1c5c8zn\" type=\"button\"><span class=\"_3hmsj\"><svg aria-hidden=\"true\" focusable=\"false\" role=\"presentation\" style=\"height:10px;width:10px;display:block;fill:currentColor\" viewbox=\"0 0 16 16\"><path d=\"m10.8 16c-.4 0-.7-.1-.9-.4l-6.8-6.7c-.5-.5-.5-1.3 0-1.8l6.8-6.7c.5-.5 1.2-.5 1.7 0s .5 1.2 0 1.7l-5.8 5.9 5.8 5.9c.5.5.5 1.2 0 1.7-.2.3-.5.4-.8.4\"></path></svg></span></button></div><div class=\"_l9kk1hc\"><button aria-label=\"Next image\" class=\"_1c5c8zn\" type=\"button\"><span class=\"_3hmsj\"><svg aria-hidden=\"true\" focusable=\"false\" role=\"presentation\" style=\"height:10px;width:10px;display:block;fill:currentColor\" viewbox=\"0 0 16 16\"><path d=\"m5.3 16c .3 0 .6-.1.8-.4l6.8-6.7c.5-.5.5-1.3 0-1.8l-6.8-6.7c-.5-.5-1.2-.5-1.7 0s-.5 1.2 0 1.7l5.8 5.9-5.8 5.9c-.5.5-.5 1.2 0 1.7.2.3.5.4.9.4\"></path></svg></span></button></div></div><div class=\"_1coc2b2\"></div></div></div></div><div class=\"_tmwq9g\"><div class=\"_r6zroz\"><div class=\"_1jzvdu8\"><div class=\"_1tanv1h\" style=\"margin-bottom:4px\"><div class=\"_167qordg\">Private room in Canggu</div></div><div class=\"_bzh5lkq\" style=\"line-height:24px;max-height:24px;overflow:hidden;text-overflow:ellipsis;display:-webkit-box;-webkit-line-clamp:1;-webkit-box-orient:vertical\">CENTRAL Canggu. 1 KM to Batu Bolong Beach (4)</div></div></div><div class=\"_12xcxtl\" style=\"margin-top:11px;width:32px\"></div><div class=\"_kqh46o\" style=\"margin-top:9px\">2 guests<span aria-hidden=\"true\"> · </span>1 bedroom<span aria-hidden=\"true\"> · </span>1 bed<span aria-hidden=\"true\"> · </span>1 private bath</div><div class=\"_kqh46o\" style=\"margin-top:4px\">Pool<span aria-hidden=\"true\"> · </span>Wifi<span aria-hidden=\"true\"> · </span>Air conditioning<span aria-hidden=\"true\"> · </span>Kitchen</div><div class=\"_1wl86jn\" style=\"margin-top:8px\"><div class=\"_132lfqt\"><div class=\"_wi2nk7\"><div class=\"_dqf2jj\"><div class=\"_5qtx03\"><div style=\"height:12px;width:12px;display:block\"></div></div><div class=\"_17bkx6k\">New lower price</div></div></div></div></div><div class=\"_1bbeetd\"><div class=\"_vaj62s\"><span class=\"_18khxk1\"><span class=\"_5g1etn\"><svg aria-hidden=\"true\" focusable=\"false\" role=\"presentation\" style=\"height:14px;width:14px;fill:currentColor\" viewbox=\"0 0 1000 1000\"><path d=\"M972 380c9 28 2 50-20 67L725 619l87 280c11 39-18 75-54 75-12 0-23-4-33-12L499 790 273 962a58 58 0 0 1-78-12 50 50 0 0 1-8-51l86-278L46 447c-21-17-28-39-19-67 8-24 29-40 52-40h280l87-279c7-23 28-39 52-39 25 0 47 17 54 41l87 277h280c24 0 45 16 53 40z\"></path></svg></span><span class=\"_krjbj\">Rating 4.81 out of 5;</span><span aria-hidden=\"true\" class=\"_10fy1f8\">4.81</span><span class=\"_krjbj\">21 reviews</span><span aria-hidden=\"true\" class=\"_a7a5sx\"> (<!-- -->21<!-- -->)</span></span></div><div class=\"_ls0e43\"><div class=\"_l2ulkt8\"><div class=\"_1fwiw8gv\"><span><span class=\"_1p7iugi\"><span class=\"_16shi2n\"><span class=\"_krjbj\">Previous price:</span>$72</span><span class=\"_krjbj\">Discounted price:</span>$35</span> / night</span></div><div class=\"_vsjqit\" style=\"margin-top:2px\"><span class=\"_krjbj\">Price:</span><div class=\"_17y0hv9\"><div><button class=\"_ebe4pze\" type=\"button\">$202 total<span class=\"_krjbj\">Show details</span></button></div></div></div></div></div></div></div></div><div></div><div style=\"margin-top:24px;margin-bottom:4px\"><div class=\"_7qp4lh\"></div></div></div></div></div></div></div>,\n",
              " <div class=\"_8ssblpx\"><div class=\"_gig1e7\"><div itemprop=\"itemListElement\" itemscope=\"\" itemtype=\"http://schema.org/ListItem\"><meta content=\"Rasa sayang double room 205 - null - Kecamatan Kuta Selatan\" itemprop=\"name\"/><meta content=\"4\" itemprop=\"position\"/><meta content=\"undefined/rooms/46692025?check_in=2020-12-29&amp;check_out=2021-01-03&amp;previous_page_section_name=1000\" itemprop=\"url\"/><div><div><div class=\"_1048zci\"><a aria-label=\"Rasa sayang double room 205\" class=\"_gjfol0\" data-check-info-section=\"true\" href=\"/rooms/46692025?check_in=2020-12-29&amp;check_out=2021-01-03&amp;previous_page_section_name=1000&amp;federated_search_id=268eacb7-7083-49b5-8b36-ae8226ab9fa2\" rel=\"noopener noreferrer\" target=\"listing_46692025\"></a><div class=\"_1nz9l7j\"><div class=\"_2n7voam\"><div class=\"_gjw2an\" style=\"padding-top:66.6667%;background:#484848\"><div class=\"_1szwzht\"><div aria-busy=\"false\" aria-label=\"Rasa sayang double room 205\" class=\"_hxt6u1e\" role=\"img\" style=\"padding-top:66.6667%\"><div class=\"_4626ulj\"><img alt=\"Rasa sayang double room 205\" aria-hidden=\"true\" class=\"_91slf2a\" data-original-uri=\"https://a0.muscache.com/im/pictures/474632d3-5a05-4546-907e-67138a9ebbb7.jpg?im_w=720\" src=\"https://a0.muscache.com/im/pictures/474632d3-5a05-4546-907e-67138a9ebbb7.jpg?im_w=720\" style=\"object-fit:cover\"/><div class=\"_10xjrv2u\" style=\"background-image:url(https://a0.muscache.com/im/pictures/474632d3-5a05-4546-907e-67138a9ebbb7.jpg?im_w=720);background-size:cover\"></div></div></div></div></div><div class=\"_5ogqp7\"><div class=\"_zjunba\" style=\"padding:8px\"><div><div class=\"_snufp9\" style=\"background-color:rgba(255, 255, 255, 0.95);border:0.5px solid rgba(0, 0, 0, 0.2);color:#222222\"><div class=\"_ufoy4t\">SUPERHOST</div></div></div></div><div class=\"_1xzy2\"><div class=\"_hd88sb\"><button aria-label=\"Previous image\" class=\"_1c5c8zn\" type=\"button\"><span class=\"_3hmsj\"><svg aria-hidden=\"true\" focusable=\"false\" role=\"presentation\" style=\"height:10px;width:10px;display:block;fill:currentColor\" viewbox=\"0 0 16 16\"><path d=\"m10.8 16c-.4 0-.7-.1-.9-.4l-6.8-6.7c-.5-.5-.5-1.3 0-1.8l6.8-6.7c.5-.5 1.2-.5 1.7 0s .5 1.2 0 1.7l-5.8 5.9 5.8 5.9c.5.5.5 1.2 0 1.7-.2.3-.5.4-.8.4\"></path></svg></span></button></div><div class=\"_l9kk1hc\"><button aria-label=\"Next image\" class=\"_1c5c8zn\" type=\"button\"><span class=\"_3hmsj\"><svg aria-hidden=\"true\" focusable=\"false\" role=\"presentation\" style=\"height:10px;width:10px;display:block;fill:currentColor\" viewbox=\"0 0 16 16\"><path d=\"m5.3 16c .3 0 .6-.1.8-.4l6.8-6.7c.5-.5.5-1.3 0-1.8l-6.8-6.7c-.5-.5-1.2-.5-1.7 0s-.5 1.2 0 1.7l5.8 5.9-5.8 5.9c-.5.5-.5 1.2 0 1.7.2.3.5.4.9.4\"></path></svg></span></button></div></div><div class=\"_1coc2b2\"></div></div></div></div><div class=\"_tmwq9g\"><div class=\"_r6zroz\"><div class=\"_1jzvdu8\"><div class=\"_1tanv1h\" style=\"margin-bottom:4px\"><div class=\"_167qordg\">Private room in Kecamatan Kuta Selatan</div></div><div class=\"_bzh5lkq\" style=\"line-height:24px;max-height:24px;overflow:hidden;text-overflow:ellipsis;display:-webkit-box;-webkit-line-clamp:1;-webkit-box-orient:vertical\">Rasa sayang double room 205</div></div></div><div class=\"_12xcxtl\" style=\"margin-top:11px;width:32px\"></div><div class=\"_kqh46o\" style=\"margin-top:9px\">2 guests<span aria-hidden=\"true\"> · </span>1 bedroom<span aria-hidden=\"true\"> · </span>1 bed<span aria-hidden=\"true\"> · </span>1 private bath</div><div class=\"_kqh46o\" style=\"margin-top:4px\">Wifi<span aria-hidden=\"true\"> · </span>Air conditioning</div><div class=\"_1bbeetd\"><div class=\"_ls0e43\"><div class=\"_l2ulkt8\"><div class=\"_1fwiw8gv\"><span><span class=\"_1p7iugi\"><span class=\"_krjbj\">Price:</span>$9</span> / night</span></div><div class=\"_vsjqit\" style=\"margin-top:2px\"><span class=\"_krjbj\">Price:</span><div class=\"_17y0hv9\"><div><button class=\"_ebe4pze\" type=\"button\">$50 total<span class=\"_krjbj\">Show details</span></button></div></div></div></div></div></div></div></div><div></div><div style=\"margin-top:24px;margin-bottom:4px\"><div class=\"_7qp4lh\"></div></div></div></div></div></div></div>,\n",
              " <div class=\"_8ssblpx\"><div class=\"_gig1e7\"><div itemprop=\"itemListElement\" itemscope=\"\" itemtype=\"http://schema.org/ListItem\"><meta content=\"The Uma Canggu 2 - null - Kecamatan Kuta Utara\" itemprop=\"name\"/><meta content=\"5\" itemprop=\"position\"/><meta content=\"undefined/rooms/46781013?check_in=2020-12-29&amp;check_out=2021-01-03&amp;previous_page_section_name=1000\" itemprop=\"url\"/><div><div><div class=\"_1048zci\"><a aria-label=\"The Uma Canggu 2\" class=\"_gjfol0\" data-check-info-section=\"true\" href=\"/rooms/46781013?check_in=2020-12-29&amp;check_out=2021-01-03&amp;previous_page_section_name=1000&amp;federated_search_id=268eacb7-7083-49b5-8b36-ae8226ab9fa2\" rel=\"noopener noreferrer\" target=\"listing_46781013\"></a><div class=\"_1nz9l7j\"><div class=\"_2n7voam\"><div class=\"_gjw2an\" style=\"padding-top:66.6667%;background:#484848\"><div class=\"_1szwzht\"><div aria-busy=\"false\" aria-label=\"The Uma Canggu 2\" class=\"_hxt6u1e\" role=\"img\" style=\"padding-top:66.6667%\"><div class=\"_4626ulj\"><img alt=\"The Uma Canggu 2\" aria-hidden=\"true\" class=\"_91slf2a\" data-original-uri=\"https://a0.muscache.com/im/pictures/4a106a08-e399-45f5-82dd-df67d8e44cf5.jpg?im_w=720\" src=\"https://a0.muscache.com/im/pictures/4a106a08-e399-45f5-82dd-df67d8e44cf5.jpg?im_w=720\" style=\"object-fit:cover\"/><div class=\"_10xjrv2u\" style=\"background-image:url(https://a0.muscache.com/im/pictures/4a106a08-e399-45f5-82dd-df67d8e44cf5.jpg?im_w=720);background-size:cover\"></div></div></div></div></div><div class=\"_5ogqp7\"><div class=\"_zjunba\" style=\"padding:8px\"><div></div></div><div class=\"_1xzy2\"><div class=\"_hd88sb\"><button aria-label=\"Previous image\" class=\"_1c5c8zn\" type=\"button\"><span class=\"_3hmsj\"><svg aria-hidden=\"true\" focusable=\"false\" role=\"presentation\" style=\"height:10px;width:10px;display:block;fill:currentColor\" viewbox=\"0 0 16 16\"><path d=\"m10.8 16c-.4 0-.7-.1-.9-.4l-6.8-6.7c-.5-.5-.5-1.3 0-1.8l6.8-6.7c.5-.5 1.2-.5 1.7 0s .5 1.2 0 1.7l-5.8 5.9 5.8 5.9c.5.5.5 1.2 0 1.7-.2.3-.5.4-.8.4\"></path></svg></span></button></div><div class=\"_l9kk1hc\"><button aria-label=\"Next image\" class=\"_1c5c8zn\" type=\"button\"><span class=\"_3hmsj\"><svg aria-hidden=\"true\" focusable=\"false\" role=\"presentation\" style=\"height:10px;width:10px;display:block;fill:currentColor\" viewbox=\"0 0 16 16\"><path d=\"m5.3 16c .3 0 .6-.1.8-.4l6.8-6.7c.5-.5.5-1.3 0-1.8l-6.8-6.7c-.5-.5-1.2-.5-1.7 0s-.5 1.2 0 1.7l5.8 5.9-5.8 5.9c-.5.5-.5 1.2 0 1.7.2.3.5.4.9.4\"></path></svg></span></button></div></div><div class=\"_1coc2b2\"></div></div></div></div><div class=\"_tmwq9g\"><div class=\"_r6zroz\"><div class=\"_1jzvdu8\"><div class=\"_1tanv1h\" style=\"margin-bottom:4px\"><div class=\"_167qordg\">Private room in Kecamatan Kuta Utara</div></div><div class=\"_bzh5lkq\" style=\"line-height:24px;max-height:24px;overflow:hidden;text-overflow:ellipsis;display:-webkit-box;-webkit-line-clamp:1;-webkit-box-orient:vertical\">The Uma Canggu 2</div></div></div><div class=\"_12xcxtl\" style=\"margin-top:11px;width:32px\"></div><div class=\"_kqh46o\" style=\"margin-top:9px\">2 guests<span aria-hidden=\"true\"> · </span>1 bedroom<span aria-hidden=\"true\"> · </span>0 beds<span aria-hidden=\"true\"> · </span>1.5 shared baths</div><div class=\"_kqh46o\" style=\"margin-top:4px\">Pool<span aria-hidden=\"true\"> · </span>Wifi<span aria-hidden=\"true\"> · </span>Air conditioning<span aria-hidden=\"true\"> · </span>Kitchen</div><div class=\"_1bbeetd\"><div class=\"_ls0e43\"><div class=\"_l2ulkt8\"><div class=\"_1fwiw8gv\"><span><span class=\"_1p7iugi\"><span class=\"_krjbj\">Price:</span>$11</span> / night</span></div><div class=\"_vsjqit\" style=\"margin-top:2px\"><span class=\"_krjbj\">Price:</span><div class=\"_17y0hv9\"><div><button class=\"_ebe4pze\" type=\"button\">$65 total<span class=\"_krjbj\">Show details</span></button></div></div></div></div></div></div></div></div><div></div><div style=\"margin-top:24px;margin-bottom:4px\"><div class=\"_7qp4lh\"></div></div></div></div></div></div></div>,\n",
              " <div class=\"_8ssblpx\"><div class=\"_gig1e7\"><div itemprop=\"itemListElement\" itemscope=\"\" itemtype=\"http://schema.org/ListItem\"><meta content=\"❣️Hideout Staycation Villa-Budget Friendly-mokshaA - null - Ubud\" itemprop=\"name\"/><meta content=\"6\" itemprop=\"position\"/><meta content=\"undefined/rooms/7799171?check_in=2020-12-29&amp;check_out=2021-01-03&amp;previous_page_section_name=1000\" itemprop=\"url\"/><div><div><div class=\"_1048zci\"><a aria-label=\"❣️Hideout Staycation Villa-Budget Friendly-mokshaA\" class=\"_gjfol0\" data-check-info-section=\"true\" href=\"/rooms/7799171?check_in=2020-12-29&amp;check_out=2021-01-03&amp;previous_page_section_name=1000&amp;federated_search_id=268eacb7-7083-49b5-8b36-ae8226ab9fa2\" rel=\"noopener noreferrer\" target=\"listing_7799171\"></a><div class=\"_1nz9l7j\"><div class=\"_2n7voam\"><div class=\"_gjw2an\" style=\"padding-top:66.6667%;background:#484848\"><div class=\"_1szwzht\"><div aria-busy=\"false\" aria-label=\"❣️Hideout Staycation Villa-Budget Friendly-mokshaA\" class=\"_hxt6u1e\" role=\"img\" style=\"padding-top:66.6667%\"><div class=\"_4626ulj\"><img alt=\"❣️Hideout Staycation Villa-Budget Friendly-mokshaA\" aria-hidden=\"true\" class=\"_91slf2a\" data-original-uri=\"https://a0.muscache.com/im/pictures/619ea51c-b891-4db2-a6ff-b33475b996b8.jpg?im_w=720\" src=\"https://a0.muscache.com/im/pictures/619ea51c-b891-4db2-a6ff-b33475b996b8.jpg?im_w=720\" style=\"object-fit:cover\"/><div class=\"_10xjrv2u\" style=\"background-image:url(https://a0.muscache.com/im/pictures/619ea51c-b891-4db2-a6ff-b33475b996b8.jpg?im_w=720);background-size:cover\"></div></div></div></div></div><div class=\"_5ogqp7\"><div class=\"_zjunba\" style=\"padding:8px\"><div></div></div><div class=\"_1xzy2\"><div class=\"_hd88sb\"><button aria-label=\"Previous image\" class=\"_1c5c8zn\" type=\"button\"><span class=\"_3hmsj\"><svg aria-hidden=\"true\" focusable=\"false\" role=\"presentation\" style=\"height:10px;width:10px;display:block;fill:currentColor\" viewbox=\"0 0 16 16\"><path d=\"m10.8 16c-.4 0-.7-.1-.9-.4l-6.8-6.7c-.5-.5-.5-1.3 0-1.8l6.8-6.7c.5-.5 1.2-.5 1.7 0s .5 1.2 0 1.7l-5.8 5.9 5.8 5.9c.5.5.5 1.2 0 1.7-.2.3-.5.4-.8.4\"></path></svg></span></button></div><div class=\"_l9kk1hc\"><button aria-label=\"Next image\" class=\"_1c5c8zn\" type=\"button\"><span class=\"_3hmsj\"><svg aria-hidden=\"true\" focusable=\"false\" role=\"presentation\" style=\"height:10px;width:10px;display:block;fill:currentColor\" viewbox=\"0 0 16 16\"><path d=\"m5.3 16c .3 0 .6-.1.8-.4l6.8-6.7c.5-.5.5-1.3 0-1.8l-6.8-6.7c-.5-.5-1.2-.5-1.7 0s-.5 1.2 0 1.7l5.8 5.9-5.8 5.9c-.5.5-.5 1.2 0 1.7.2.3.5.4.9.4\"></path></svg></span></button></div></div><div class=\"_1coc2b2\"></div></div></div></div><div class=\"_tmwq9g\"><div class=\"_r6zroz\"><div class=\"_1jzvdu8\"><div class=\"_1tanv1h\" style=\"margin-bottom:4px\"><div class=\"_167qordg\">Hotel room in Ubud</div></div><div class=\"_bzh5lkq\" style=\"line-height:24px;max-height:24px;overflow:hidden;text-overflow:ellipsis;display:-webkit-box;-webkit-line-clamp:1;-webkit-box-orient:vertical\">❣️Hideout Staycation Villa-Budget Friendly-mokshaA</div></div></div><div class=\"_12xcxtl\" style=\"margin-top:11px;width:32px\"></div><div class=\"_kqh46o\" style=\"margin-top:9px\">2 guests<span aria-hidden=\"true\"> · </span>1 bedroom<span aria-hidden=\"true\"> · </span>1 bed<span aria-hidden=\"true\"> · </span>1 bath</div><div class=\"_kqh46o\" style=\"margin-top:4px\">Pool<span aria-hidden=\"true\"> · </span>Wifi<span aria-hidden=\"true\"> · </span>Air conditioning</div><div class=\"_1wl86jn\" style=\"margin-top:8px\"><div class=\"_132lfqt\"><div class=\"_wi2nk7\"><div class=\"_dqf2jj\"><div class=\"_5qtx03\"><div style=\"height:12px;width:12px;display:block\"></div></div><div class=\"_17bkx6k\">New lower price</div></div></div></div></div><div class=\"_1bbeetd\"><div class=\"_vaj62s\"><span class=\"_18khxk1\"><span class=\"_5g1etn\"><svg aria-hidden=\"true\" focusable=\"false\" role=\"presentation\" style=\"height:14px;width:14px;fill:currentColor\" viewbox=\"0 0 1000 1000\"><path d=\"M972 380c9 28 2 50-20 67L725 619l87 280c11 39-18 75-54 75-12 0-23-4-33-12L499 790 273 962a58 58 0 0 1-78-12 50 50 0 0 1-8-51l86-278L46 447c-21-17-28-39-19-67 8-24 29-40 52-40h280l87-279c7-23 28-39 52-39 25 0 47 17 54 41l87 277h280c24 0 45 16 53 40z\"></path></svg></span><span class=\"_krjbj\">Rating 4.82 out of 5;</span><span aria-hidden=\"true\" class=\"_10fy1f8\">4.82</span><span class=\"_krjbj\">252 reviews</span><span aria-hidden=\"true\" class=\"_a7a5sx\"> (<!-- -->252<!-- -->)</span></span></div><div class=\"_ls0e43\"><div class=\"_l2ulkt8\"><div class=\"_1fwiw8gv\"><span><span class=\"_1p7iugi\"><span class=\"_16shi2n\"><span class=\"_krjbj\">Previous price:</span>$18</span><span class=\"_krjbj\">Discounted price:</span>$15</span> / night</span></div><div class=\"_vsjqit\" style=\"margin-top:2px\"><span class=\"_krjbj\">Price:</span><div class=\"_17y0hv9\"><div><button class=\"_ebe4pze\" type=\"button\">$87 total<span class=\"_krjbj\">Show details</span></button></div></div></div></div></div></div></div></div><div></div><div style=\"margin-top:24px;margin-bottom:4px\"><div class=\"_7qp4lh\"></div></div></div></div></div></div></div>,\n",
              " <div class=\"_8ssblpx\"><div class=\"_gig1e7\"><div itemprop=\"itemListElement\" itemscope=\"\" itemtype=\"http://schema.org/ListItem\"><meta content=\"Private Room In Boutique Hotel 2 Min. To Beach #7 - null - Kecamatan Kuta Utara\" itemprop=\"name\"/><meta content=\"7\" itemprop=\"position\"/><meta content=\"undefined/rooms/46759032?check_in=2020-12-29&amp;check_out=2021-01-03&amp;previous_page_section_name=1000\" itemprop=\"url\"/><div><div><div class=\"_1048zci\"><a aria-label=\"Private Room In Boutique Hotel 2 Min. To Beach #7\" class=\"_gjfol0\" data-check-info-section=\"true\" href=\"/rooms/46759032?check_in=2020-12-29&amp;check_out=2021-01-03&amp;previous_page_section_name=1000&amp;federated_search_id=268eacb7-7083-49b5-8b36-ae8226ab9fa2\" rel=\"noopener noreferrer\" target=\"listing_46759032\"></a><div class=\"_1nz9l7j\"><div class=\"_2n7voam\"><div class=\"_gjw2an\" style=\"padding-top:66.6667%;background:#484848\"><div class=\"_1szwzht\"><div aria-busy=\"false\" aria-label=\"Private Room In Boutique Hotel 2 Min. To Beach #7\" class=\"_hxt6u1e\" role=\"img\" style=\"padding-top:66.6667%\"><div class=\"_4626ulj\"><img alt=\"Private Room In Boutique Hotel 2 Min. To Beach #7\" aria-hidden=\"true\" class=\"_91slf2a\" data-original-uri=\"https://a0.muscache.com/im/pictures/48f33d54-5412-42d3-ab08-bb2a427ac568.jpg?im_w=720\" src=\"https://a0.muscache.com/im/pictures/48f33d54-5412-42d3-ab08-bb2a427ac568.jpg?im_w=720\" style=\"object-fit:cover\"/><div class=\"_10xjrv2u\" style=\"background-image:url(https://a0.muscache.com/im/pictures/48f33d54-5412-42d3-ab08-bb2a427ac568.jpg?im_w=720);background-size:cover\"></div></div></div></div></div><div class=\"_5ogqp7\"><div class=\"_zjunba\" style=\"padding:8px\"><div></div></div><div class=\"_1xzy2\"><div class=\"_hd88sb\"><button aria-label=\"Previous image\" class=\"_1c5c8zn\" type=\"button\"><span class=\"_3hmsj\"><svg aria-hidden=\"true\" focusable=\"false\" role=\"presentation\" style=\"height:10px;width:10px;display:block;fill:currentColor\" viewbox=\"0 0 16 16\"><path d=\"m10.8 16c-.4 0-.7-.1-.9-.4l-6.8-6.7c-.5-.5-.5-1.3 0-1.8l6.8-6.7c.5-.5 1.2-.5 1.7 0s .5 1.2 0 1.7l-5.8 5.9 5.8 5.9c.5.5.5 1.2 0 1.7-.2.3-.5.4-.8.4\"></path></svg></span></button></div><div class=\"_l9kk1hc\"><button aria-label=\"Next image\" class=\"_1c5c8zn\" type=\"button\"><span class=\"_3hmsj\"><svg aria-hidden=\"true\" focusable=\"false\" role=\"presentation\" style=\"height:10px;width:10px;display:block;fill:currentColor\" viewbox=\"0 0 16 16\"><path d=\"m5.3 16c .3 0 .6-.1.8-.4l6.8-6.7c.5-.5.5-1.3 0-1.8l-6.8-6.7c-.5-.5-1.2-.5-1.7 0s-.5 1.2 0 1.7l5.8 5.9-5.8 5.9c-.5.5-.5 1.2 0 1.7.2.3.5.4.9.4\"></path></svg></span></button></div></div><div class=\"_1coc2b2\"></div></div></div></div><div class=\"_tmwq9g\"><div class=\"_r6zroz\"><div class=\"_1jzvdu8\"><div class=\"_1tanv1h\" style=\"margin-bottom:4px\"><div class=\"_167qordg\">Private room in Kecamatan Kuta Utara</div></div><div class=\"_bzh5lkq\" style=\"line-height:24px;max-height:24px;overflow:hidden;text-overflow:ellipsis;display:-webkit-box;-webkit-line-clamp:1;-webkit-box-orient:vertical\">Private Room In Boutique Hotel 2 Min. To Beach #7</div></div></div><div class=\"_12xcxtl\" style=\"margin-top:11px;width:32px\"></div><div class=\"_kqh46o\" style=\"margin-top:9px\">2 guests<span aria-hidden=\"true\"> · </span>1 bedroom<span aria-hidden=\"true\"> · </span>1 private bath</div><div class=\"_kqh46o\" style=\"margin-top:4px\">Pool<span aria-hidden=\"true\"> · </span>Wifi<span aria-hidden=\"true\"> · </span>Air conditioning<span aria-hidden=\"true\"> · </span>Kitchen</div><div class=\"_1bbeetd\"><div class=\"_ls0e43\"><div class=\"_l2ulkt8\"><div class=\"_1fwiw8gv\"><span><span class=\"_1p7iugi\"><span class=\"_krjbj\">Price:</span>$14</span> / night</span></div><div class=\"_vsjqit\" style=\"margin-top:2px\"><span class=\"_krjbj\">Price:</span><div class=\"_17y0hv9\"><div><button class=\"_ebe4pze\" type=\"button\">$81 total<span class=\"_krjbj\">Show details</span></button></div></div></div></div></div></div></div></div><div></div><div style=\"margin-top:24px;margin-bottom:4px\"><div class=\"_7qp4lh\"></div></div></div></div></div></div></div>,\n",
              " <div class=\"_8ssblpx\"><div class=\"_gig1e7\"><div itemprop=\"itemListElement\" itemscope=\"\" itemtype=\"http://schema.org/ListItem\"><meta content=\"Boho Room with AC in Canggu  - 3 million per month - null - North Kuta\" itemprop=\"name\"/><meta content=\"8\" itemprop=\"position\"/><meta content=\"undefined/rooms/946172?check_in=2020-12-29&amp;check_out=2021-01-03&amp;previous_page_section_name=1000\" itemprop=\"url\"/><div><div><div class=\"_1048zci\"><a aria-label=\"Boho Room with AC in Canggu  - 3 million per month\" class=\"_gjfol0\" data-check-info-section=\"true\" href=\"/rooms/946172?check_in=2020-12-29&amp;check_out=2021-01-03&amp;previous_page_section_name=1000&amp;federated_search_id=268eacb7-7083-49b5-8b36-ae8226ab9fa2\" rel=\"noopener noreferrer\" target=\"listing_946172\"></a><div class=\"_1nz9l7j\"><div class=\"_2n7voam\"><div class=\"_gjw2an\" style=\"padding-top:66.6667%;background:#484848\"><div class=\"_1szwzht\"><div aria-busy=\"false\" aria-label=\"Boho Room with AC in Canggu  - 3 million per month\" class=\"_hxt6u1e\" role=\"img\" style=\"padding-top:66.6667%\"><div class=\"_4626ulj\"><img alt=\"Boho Room with AC in Canggu  - 3 million per month\" aria-hidden=\"true\" class=\"_91slf2a\" data-original-uri=\"https://a0.muscache.com/im/pictures/e0a5fc1f-2f58-4a6b-829a-569c3b63dba4.jpg?im_w=720\" src=\"https://a0.muscache.com/im/pictures/e0a5fc1f-2f58-4a6b-829a-569c3b63dba4.jpg?im_w=720\" style=\"object-fit:cover\"/><div class=\"_10xjrv2u\" style=\"background-image:url(https://a0.muscache.com/im/pictures/e0a5fc1f-2f58-4a6b-829a-569c3b63dba4.jpg?im_w=720);background-size:cover\"></div></div></div></div></div><div class=\"_5ogqp7\"><div class=\"_zjunba\" style=\"padding:8px\"><div></div></div><div class=\"_1xzy2\"><div class=\"_hd88sb\"><button aria-label=\"Previous image\" class=\"_1c5c8zn\" type=\"button\"><span class=\"_3hmsj\"><svg aria-hidden=\"true\" focusable=\"false\" role=\"presentation\" style=\"height:10px;width:10px;display:block;fill:currentColor\" viewbox=\"0 0 16 16\"><path d=\"m10.8 16c-.4 0-.7-.1-.9-.4l-6.8-6.7c-.5-.5-.5-1.3 0-1.8l6.8-6.7c.5-.5 1.2-.5 1.7 0s .5 1.2 0 1.7l-5.8 5.9 5.8 5.9c.5.5.5 1.2 0 1.7-.2.3-.5.4-.8.4\"></path></svg></span></button></div><div class=\"_l9kk1hc\"><button aria-label=\"Next image\" class=\"_1c5c8zn\" type=\"button\"><span class=\"_3hmsj\"><svg aria-hidden=\"true\" focusable=\"false\" role=\"presentation\" style=\"height:10px;width:10px;display:block;fill:currentColor\" viewbox=\"0 0 16 16\"><path d=\"m5.3 16c .3 0 .6-.1.8-.4l6.8-6.7c.5-.5.5-1.3 0-1.8l-6.8-6.7c-.5-.5-1.2-.5-1.7 0s-.5 1.2 0 1.7l5.8 5.9-5.8 5.9c-.5.5-.5 1.2 0 1.7.2.3.5.4.9.4\"></path></svg></span></button></div></div><div class=\"_1coc2b2\"></div></div></div></div><div class=\"_tmwq9g\"><div class=\"_r6zroz\"><div class=\"_1jzvdu8\"><div class=\"_1tanv1h\" style=\"margin-bottom:4px\"><div class=\"_167qordg\">Entire villa in North Kuta</div></div><div class=\"_bzh5lkq\" style=\"line-height:24px;max-height:24px;overflow:hidden;text-overflow:ellipsis;display:-webkit-box;-webkit-line-clamp:1;-webkit-box-orient:vertical\">Boho Room with AC in Canggu  - 3 million per month</div></div></div><div class=\"_12xcxtl\" style=\"margin-top:11px;width:32px\"></div><div class=\"_kqh46o\" style=\"margin-top:9px\">2 guests<span aria-hidden=\"true\"> · </span>1 bedroom<span aria-hidden=\"true\"> · </span>1 bed<span aria-hidden=\"true\"> · </span>1 bath</div><div class=\"_kqh46o\" style=\"margin-top:4px\">Pool<span aria-hidden=\"true\"> · </span>Wifi<span aria-hidden=\"true\"> · </span>Air conditioning<span aria-hidden=\"true\"> · </span>Kitchen</div><div class=\"_1wl86jn\" style=\"margin-top:8px\"><div class=\"_132lfqt\"><div class=\"_wi2nk7\"><div class=\"_dqf2jj\"><div class=\"_5qtx03\"><div style=\"height:12px;width:12px;display:block\"></div></div><div class=\"_17bkx6k\">New lower price</div></div></div></div></div><div class=\"_1bbeetd\"><div class=\"_vaj62s\"><span class=\"_18khxk1\"><span class=\"_5g1etn\"><svg aria-hidden=\"true\" focusable=\"false\" role=\"presentation\" style=\"height:14px;width:14px;fill:currentColor\" viewbox=\"0 0 1000 1000\"><path d=\"M972 380c9 28 2 50-20 67L725 619l87 280c11 39-18 75-54 75-12 0-23-4-33-12L499 790 273 962a58 58 0 0 1-78-12 50 50 0 0 1-8-51l86-278L46 447c-21-17-28-39-19-67 8-24 29-40 52-40h280l87-279c7-23 28-39 52-39 25 0 47 17 54 41l87 277h280c24 0 45 16 53 40z\"></path></svg></span><span class=\"_krjbj\">Rating 4.81 out of 5;</span><span aria-hidden=\"true\" class=\"_10fy1f8\">4.81</span><span class=\"_krjbj\">48 reviews</span><span aria-hidden=\"true\" class=\"_a7a5sx\"> (<!-- -->48<!-- -->)</span></span></div><div class=\"_ls0e43\"><div class=\"_l2ulkt8\"><div class=\"_1fwiw8gv\"><span><span class=\"_1p7iugi\"><span class=\"_16shi2n\"><span class=\"_krjbj\">Previous price:</span>$13</span><span class=\"_krjbj\">Discounted price:</span>$9</span> / night</span></div><div class=\"_vsjqit\" style=\"margin-top:2px\"><span class=\"_krjbj\">Price:</span><div class=\"_17y0hv9\"><div><button class=\"_ebe4pze\" type=\"button\">$54 total<span class=\"_krjbj\">Show details</span></button></div></div></div></div></div></div></div></div><div></div><div style=\"margin-top:24px;margin-bottom:4px\"><div class=\"_7qp4lh\"></div></div></div></div></div></div></div>,\n",
              " <div class=\"_8ssblpx\"><div class=\"_gig1e7\"><div itemprop=\"itemListElement\" itemscope=\"\" itemtype=\"http://schema.org/ListItem\"><meta content=\"Studio 150 meters to Oberoi street - null - Kuta\" itemprop=\"name\"/><meta content=\"9\" itemprop=\"position\"/><meta content=\"undefined/rooms/28071044?check_in=2020-12-29&amp;check_out=2021-01-03&amp;previous_page_section_name=1000\" itemprop=\"url\"/><div><div><div class=\"_1048zci\"><a aria-label=\"Studio 150 meters to Oberoi street\" class=\"_gjfol0\" data-check-info-section=\"true\" href=\"/rooms/28071044?check_in=2020-12-29&amp;check_out=2021-01-03&amp;previous_page_section_name=1000&amp;federated_search_id=268eacb7-7083-49b5-8b36-ae8226ab9fa2\" rel=\"noopener noreferrer\" target=\"listing_28071044\"></a><div class=\"_1nz9l7j\"><div class=\"_2n7voam\"><div class=\"_gjw2an\" style=\"padding-top:66.6667%;background:#484848\"><div class=\"_1szwzht\"><div aria-busy=\"false\" aria-label=\"Studio 150 meters to Oberoi street\" class=\"_hxt6u1e\" role=\"img\" style=\"padding-top:66.6667%\"><div class=\"_4626ulj\"><img alt=\"Studio 150 meters to Oberoi street\" aria-hidden=\"true\" class=\"_91slf2a\" data-original-uri=\"https://a0.muscache.com/im/pictures/16fa18f4-f1e9-4035-ab7c-f56ef779a6bd.jpg?im_w=720\" src=\"https://a0.muscache.com/im/pictures/16fa18f4-f1e9-4035-ab7c-f56ef779a6bd.jpg?im_w=720\" style=\"object-fit:cover\"/><div class=\"_10xjrv2u\" style=\"background-image:url(https://a0.muscache.com/im/pictures/16fa18f4-f1e9-4035-ab7c-f56ef779a6bd.jpg?im_w=720);background-size:cover\"></div></div></div></div></div><div class=\"_5ogqp7\"><div class=\"_zjunba\" style=\"padding:8px\"><div></div></div><div class=\"_1xzy2\"><div class=\"_hd88sb\"><button aria-label=\"Previous image\" class=\"_1c5c8zn\" type=\"button\"><span class=\"_3hmsj\"><svg aria-hidden=\"true\" focusable=\"false\" role=\"presentation\" style=\"height:10px;width:10px;display:block;fill:currentColor\" viewbox=\"0 0 16 16\"><path d=\"m10.8 16c-.4 0-.7-.1-.9-.4l-6.8-6.7c-.5-.5-.5-1.3 0-1.8l6.8-6.7c.5-.5 1.2-.5 1.7 0s .5 1.2 0 1.7l-5.8 5.9 5.8 5.9c.5.5.5 1.2 0 1.7-.2.3-.5.4-.8.4\"></path></svg></span></button></div><div class=\"_l9kk1hc\"><button aria-label=\"Next image\" class=\"_1c5c8zn\" type=\"button\"><span class=\"_3hmsj\"><svg aria-hidden=\"true\" focusable=\"false\" role=\"presentation\" style=\"height:10px;width:10px;display:block;fill:currentColor\" viewbox=\"0 0 16 16\"><path d=\"m5.3 16c .3 0 .6-.1.8-.4l6.8-6.7c.5-.5.5-1.3 0-1.8l-6.8-6.7c-.5-.5-1.2-.5-1.7 0s-.5 1.2 0 1.7l5.8 5.9-5.8 5.9c-.5.5-.5 1.2 0 1.7.2.3.5.4.9.4\"></path></svg></span></button></div></div><div class=\"_1coc2b2\"></div></div></div></div><div class=\"_tmwq9g\"><div class=\"_r6zroz\"><div class=\"_1jzvdu8\"><div class=\"_1tanv1h\" style=\"margin-bottom:4px\"><div class=\"_167qordg\">Entire apartment in Kuta</div></div><div class=\"_bzh5lkq\" style=\"line-height:24px;max-height:24px;overflow:hidden;text-overflow:ellipsis;display:-webkit-box;-webkit-line-clamp:1;-webkit-box-orient:vertical\">Studio 150 meters to Oberoi street</div></div></div><div class=\"_12xcxtl\" style=\"margin-top:11px;width:32px\"></div><div class=\"_kqh46o\" style=\"margin-top:9px\">2 guests<span aria-hidden=\"true\"> · </span>1 bedroom<span aria-hidden=\"true\"> · </span>1 bed<span aria-hidden=\"true\"> · </span>1 bath</div><div class=\"_kqh46o\" style=\"margin-top:4px\">Wifi<span aria-hidden=\"true\"> · </span>Air conditioning<span aria-hidden=\"true\"> · </span>Kitchen</div><div class=\"_1bbeetd\"><div class=\"_vaj62s\"><span class=\"_18khxk1\"><span class=\"_5g1etn\"><svg aria-hidden=\"true\" focusable=\"false\" role=\"presentation\" style=\"height:14px;width:14px;fill:currentColor\" viewbox=\"0 0 1000 1000\"><path d=\"M972 380c9 28 2 50-20 67L725 619l87 280c11 39-18 75-54 75-12 0-23-4-33-12L499 790 273 962a58 58 0 0 1-78-12 50 50 0 0 1-8-51l86-278L46 447c-21-17-28-39-19-67 8-24 29-40 52-40h280l87-279c7-23 28-39 52-39 25 0 47 17 54 41l87 277h280c24 0 45 16 53 40z\"></path></svg></span><span class=\"_krjbj\">Rating 5.0 out of 5;</span><span aria-hidden=\"true\" class=\"_10fy1f8\">5.0</span><span class=\"_krjbj\">7 reviews</span><span aria-hidden=\"true\" class=\"_a7a5sx\"> (<!-- -->7<!-- -->)</span></span></div><div class=\"_ls0e43\"><div class=\"_l2ulkt8\"><div class=\"_1fwiw8gv\"><span><span class=\"_1p7iugi\"><span class=\"_krjbj\">Price:</span>$16</span> / night</span></div><div class=\"_vsjqit\" style=\"margin-top:2px\"><span class=\"_krjbj\">Price:</span><div class=\"_17y0hv9\"><div><button class=\"_ebe4pze\" type=\"button\">$89 total<span class=\"_krjbj\">Show details</span></button></div></div></div></div></div></div></div></div><div></div><div style=\"margin-top:24px;margin-bottom:4px\"><div class=\"_7qp4lh\"></div></div></div></div></div></div></div>,\n",
              " <div class=\"_8ssblpx\"><div class=\"_gig1e7\"><div itemprop=\"itemListElement\" itemscope=\"\" itemtype=\"http://schema.org/ListItem\"><meta content=\"Ubud Villa with breakfast &amp; pool Green Padma Ubud2 - null - Ubud\" itemprop=\"name\"/><meta content=\"10\" itemprop=\"position\"/><meta content=\"undefined/rooms/46758900?check_in=2020-12-29&amp;check_out=2021-01-03&amp;previous_page_section_name=1000\" itemprop=\"url\"/><div><div><div class=\"_1048zci\"><a aria-label=\"Ubud Villa with breakfast &amp; pool Green Padma Ubud2\" class=\"_gjfol0\" data-check-info-section=\"true\" href=\"/rooms/46758900?check_in=2020-12-29&amp;check_out=2021-01-03&amp;previous_page_section_name=1000&amp;federated_search_id=268eacb7-7083-49b5-8b36-ae8226ab9fa2\" rel=\"noopener noreferrer\" target=\"listing_46758900\"></a><div class=\"_1nz9l7j\"><div class=\"_2n7voam\"><div class=\"_gjw2an\" style=\"padding-top:66.6667%;background:#484848\"><div class=\"_1szwzht\"><div aria-busy=\"false\" aria-label=\"Ubud Villa with breakfast &amp; pool Green Padma Ubud2\" class=\"_hxt6u1e\" role=\"img\" style=\"padding-top:66.6667%\"><div class=\"_4626ulj\"><img alt=\"Ubud Villa with breakfast &amp; pool Green Padma Ubud2\" aria-hidden=\"true\" class=\"_91slf2a\" data-original-uri=\"https://a0.muscache.com/im/pictures/2f41d769-9fd7-4e56-9081-764cabae13de.jpg?im_w=720\" src=\"https://a0.muscache.com/im/pictures/2f41d769-9fd7-4e56-9081-764cabae13de.jpg?im_w=720\" style=\"object-fit:cover\"/><div class=\"_10xjrv2u\" style=\"background-image:url(https://a0.muscache.com/im/pictures/2f41d769-9fd7-4e56-9081-764cabae13de.jpg?im_w=720);background-size:cover\"></div></div></div></div></div><div class=\"_5ogqp7\"><div class=\"_zjunba\" style=\"padding:8px\"><div></div></div><div class=\"_1xzy2\"><div class=\"_hd88sb\"><button aria-label=\"Previous image\" class=\"_1c5c8zn\" type=\"button\"><span class=\"_3hmsj\"><svg aria-hidden=\"true\" focusable=\"false\" role=\"presentation\" style=\"height:10px;width:10px;display:block;fill:currentColor\" viewbox=\"0 0 16 16\"><path d=\"m10.8 16c-.4 0-.7-.1-.9-.4l-6.8-6.7c-.5-.5-.5-1.3 0-1.8l6.8-6.7c.5-.5 1.2-.5 1.7 0s .5 1.2 0 1.7l-5.8 5.9 5.8 5.9c.5.5.5 1.2 0 1.7-.2.3-.5.4-.8.4\"></path></svg></span></button></div><div class=\"_l9kk1hc\"><button aria-label=\"Next image\" class=\"_1c5c8zn\" type=\"button\"><span class=\"_3hmsj\"><svg aria-hidden=\"true\" focusable=\"false\" role=\"presentation\" style=\"height:10px;width:10px;display:block;fill:currentColor\" viewbox=\"0 0 16 16\"><path d=\"m5.3 16c .3 0 .6-.1.8-.4l6.8-6.7c.5-.5.5-1.3 0-1.8l-6.8-6.7c-.5-.5-1.2-.5-1.7 0s-.5 1.2 0 1.7l5.8 5.9-5.8 5.9c-.5.5-.5 1.2 0 1.7.2.3.5.4.9.4\"></path></svg></span></button></div></div><div class=\"_1coc2b2\"></div></div></div></div><div class=\"_tmwq9g\"><div class=\"_r6zroz\"><div class=\"_1jzvdu8\"><div class=\"_1tanv1h\" style=\"margin-bottom:4px\"><div class=\"_167qordg\">Private room in Ubud</div></div><div class=\"_bzh5lkq\" style=\"line-height:24px;max-height:24px;overflow:hidden;text-overflow:ellipsis;display:-webkit-box;-webkit-line-clamp:1;-webkit-box-orient:vertical\">Ubud Villa with breakfast &amp; pool Green Padma Ubud2</div></div></div><div class=\"_12xcxtl\" style=\"margin-top:11px;width:32px\"></div><div class=\"_kqh46o\" style=\"margin-top:9px\">2 guests<span aria-hidden=\"true\"> · </span>1 bedroom<span aria-hidden=\"true\"> · </span>1 bed<span aria-hidden=\"true\"> · </span>1 private bath</div><div class=\"_kqh46o\" style=\"margin-top:4px\">Pool<span aria-hidden=\"true\"> · </span>Wifi<span aria-hidden=\"true\"> · </span>Air conditioning</div><div class=\"_1bbeetd\"><div class=\"_ls0e43\"><div class=\"_l2ulkt8\"><div class=\"_1fwiw8gv\"><span><span class=\"_1p7iugi\"><span class=\"_krjbj\">Price:</span>$16</span> / night</span></div><div class=\"_vsjqit\" style=\"margin-top:2px\"><span class=\"_krjbj\">Price:</span><div class=\"_17y0hv9\"><div><button class=\"_ebe4pze\" type=\"button\">$93 total<span class=\"_krjbj\">Show details</span></button></div></div></div></div></div></div></div></div><div></div><div style=\"margin-top:24px;margin-bottom:0\"><div class=\"_7qp4lh\"></div></div></div></div></div></div></div>,\n",
              " <div class=\"_8ssblpx\"><div class=\"_gig1e7\"><div itemprop=\"itemListElement\" itemscope=\"\" itemtype=\"http://schema.org/ListItem\"><meta content=\"LĪLĀ BOUTIK RESIDENCE #UNIT 2 - null - Kuta Utara\" itemprop=\"name\"/><meta content=\"1\" itemprop=\"position\"/><meta content=\"undefined/rooms/20803487?check_in=2020-12-29&amp;check_out=2021-01-03&amp;previous_page_section_name=1000\" itemprop=\"url\"/><div><div><div style=\"margin-top:12px;margin-bottom:24px\"><div class=\"_7qp4lh\"></div></div><div class=\"_1048zci\"><a aria-label=\"LĪLĀ BOUTIK RESIDENCE #UNIT 2\" class=\"_gjfol0\" data-check-info-section=\"true\" href=\"/rooms/20803487?check_in=2020-12-29&amp;check_out=2021-01-03&amp;previous_page_section_name=1000&amp;federated_search_id=268eacb7-7083-49b5-8b36-ae8226ab9fa2\" rel=\"noopener noreferrer\" target=\"listing_20803487\"></a><div class=\"_1nz9l7j\"><div class=\"_2n7voam\"><div class=\"_gjw2an\" style=\"padding-top:66.6667%;background:#484848\"><div class=\"_1szwzht\"><div aria-busy=\"false\" aria-label=\"LĪLĀ BOUTIK RESIDENCE #UNIT 2\" class=\"_hxt6u1e\" role=\"img\" style=\"padding-top:66.6667%\"><div class=\"_4626ulj\"><img alt=\"LĪLĀ BOUTIK RESIDENCE #UNIT 2\" aria-hidden=\"true\" class=\"_91slf2a\" data-original-uri=\"https://a0.muscache.com/im/pictures/7e8162fc-6f95-438c-8920-357d7859acfe.jpg?im_w=720\" src=\"https://a0.muscache.com/im/pictures/7e8162fc-6f95-438c-8920-357d7859acfe.jpg?im_w=720\" style=\"object-fit:cover\"/><div class=\"_10xjrv2u\" style=\"background-image:url(https://a0.muscache.com/im/pictures/7e8162fc-6f95-438c-8920-357d7859acfe.jpg?im_w=720);background-size:cover\"></div></div></div></div></div><div class=\"_5ogqp7\"><div class=\"_zjunba\" style=\"padding:8px\"><div></div></div><div class=\"_1xzy2\"><div class=\"_hd88sb\"><button aria-label=\"Previous image\" class=\"_1c5c8zn\" type=\"button\"><span class=\"_3hmsj\"><svg aria-hidden=\"true\" focusable=\"false\" role=\"presentation\" style=\"height:10px;width:10px;display:block;fill:currentColor\" viewbox=\"0 0 16 16\"><path d=\"m10.8 16c-.4 0-.7-.1-.9-.4l-6.8-6.7c-.5-.5-.5-1.3 0-1.8l6.8-6.7c.5-.5 1.2-.5 1.7 0s .5 1.2 0 1.7l-5.8 5.9 5.8 5.9c.5.5.5 1.2 0 1.7-.2.3-.5.4-.8.4\"></path></svg></span></button></div><div class=\"_l9kk1hc\"><button aria-label=\"Next image\" class=\"_1c5c8zn\" type=\"button\"><span class=\"_3hmsj\"><svg aria-hidden=\"true\" focusable=\"false\" role=\"presentation\" style=\"height:10px;width:10px;display:block;fill:currentColor\" viewbox=\"0 0 16 16\"><path d=\"m5.3 16c .3 0 .6-.1.8-.4l6.8-6.7c.5-.5.5-1.3 0-1.8l-6.8-6.7c-.5-.5-1.2-.5-1.7 0s-.5 1.2 0 1.7l5.8 5.9-5.8 5.9c-.5.5-.5 1.2 0 1.7.2.3.5.4.9.4\"></path></svg></span></button></div></div><div class=\"_1coc2b2\"></div></div></div></div><div class=\"_tmwq9g\"><div class=\"_r6zroz\"><div class=\"_1jzvdu8\"><div class=\"_1tanv1h\" style=\"margin-bottom:4px\"><div class=\"_167qordg\">Hotel room in Kuta Utara</div></div><div class=\"_bzh5lkq\" style=\"line-height:24px;max-height:24px;overflow:hidden;text-overflow:ellipsis;display:-webkit-box;-webkit-line-clamp:1;-webkit-box-orient:vertical\">LĪLĀ BOUTIK RESIDENCE #UNIT 2</div></div></div><div class=\"_12xcxtl\" style=\"margin-top:11px;width:32px\"></div><div class=\"_kqh46o\" style=\"margin-top:9px\">2 guests<span aria-hidden=\"true\"> · </span>1 bedroom<span aria-hidden=\"true\"> · </span>1 bed<span aria-hidden=\"true\"> · </span>1 bath</div><div class=\"_kqh46o\" style=\"margin-top:4px\">Pool<span aria-hidden=\"true\"> · </span>Wifi<span aria-hidden=\"true\"> · </span>Air conditioning</div><div class=\"_1wl86jn\" style=\"margin-top:8px\"><div class=\"_132lfqt\"><div class=\"_wi2nk7\"><div class=\"_dqf2jj\"><div class=\"_5qtx03\"><div style=\"height:12px;width:12px;display:block\"></div></div><div class=\"_17bkx6k\">New lower price</div></div></div></div></div><div class=\"_1bbeetd\"><div class=\"_vaj62s\"><span class=\"_18khxk1\"><span class=\"_5g1etn\"><svg aria-hidden=\"true\" focusable=\"false\" role=\"presentation\" style=\"height:14px;width:14px;fill:currentColor\" viewbox=\"0 0 1000 1000\"><path d=\"M972 380c9 28 2 50-20 67L725 619l87 280c11 39-18 75-54 75-12 0-23-4-33-12L499 790 273 962a58 58 0 0 1-78-12 50 50 0 0 1-8-51l86-278L46 447c-21-17-28-39-19-67 8-24 29-40 52-40h280l87-279c7-23 28-39 52-39 25 0 47 17 54 41l87 277h280c24 0 45 16 53 40z\"></path></svg></span><span class=\"_krjbj\">Rating 4.73 out of 5;</span><span aria-hidden=\"true\" class=\"_10fy1f8\">4.73</span><span class=\"_krjbj\">127 reviews</span><span aria-hidden=\"true\" class=\"_a7a5sx\"> (<!-- -->127<!-- -->)</span></span></div><div class=\"_ls0e43\"><div class=\"_l2ulkt8\"><div class=\"_1fwiw8gv\"><span><span class=\"_1p7iugi\"><span class=\"_16shi2n\"><span class=\"_krjbj\">Previous price:</span>$41</span><span class=\"_krjbj\">Discounted price:</span>$27</span> / night</span></div><div class=\"_vsjqit\" style=\"margin-top:2px\"><span class=\"_krjbj\">Price:</span><div class=\"_17y0hv9\"><div><button class=\"_ebe4pze\" type=\"button\">$154 total<span class=\"_krjbj\">Show details</span></button></div></div></div></div></div></div></div></div><div></div><div style=\"margin-top:24px;margin-bottom:4px\"><div class=\"_7qp4lh\"></div></div></div></div></div></div></div>,\n",
              " <div class=\"_8ssblpx\"><div class=\"_gig1e7\"><div itemprop=\"itemListElement\" itemscope=\"\" itemtype=\"http://schema.org/ListItem\"><meta content=\"Nature Ricefield Villas with Private Pool - null - Kecamatan Ubud\" itemprop=\"name\"/><meta content=\"2\" itemprop=\"position\"/><meta content=\"undefined/rooms/45372162?check_in=2020-12-29&amp;check_out=2021-01-03&amp;previous_page_section_name=1000\" itemprop=\"url\"/><div><div><div class=\"_1048zci\"><a aria-label=\"Nature Ricefield Villas with Private Pool\" class=\"_gjfol0\" data-check-info-section=\"true\" href=\"/rooms/45372162?check_in=2020-12-29&amp;check_out=2021-01-03&amp;previous_page_section_name=1000&amp;federated_search_id=268eacb7-7083-49b5-8b36-ae8226ab9fa2\" rel=\"noopener noreferrer\" target=\"listing_45372162\"></a><div class=\"_1nz9l7j\"><div class=\"_2n7voam\"><div class=\"_gjw2an\" style=\"padding-top:66.6667%;background:#484848\"><div class=\"_1szwzht\"><div aria-busy=\"false\" aria-label=\"Nature Ricefield Villas with Private Pool\" class=\"_hxt6u1e\" role=\"img\" style=\"padding-top:66.6667%\"><div class=\"_4626ulj\"><img alt=\"Nature Ricefield Villas with Private Pool\" aria-hidden=\"true\" class=\"_91slf2a\" data-original-uri=\"https://a0.muscache.com/im/pictures/0cd0ee6b-dba8-4dbe-9dee-39ba7d9986ed.jpg?im_w=720\" src=\"https://a0.muscache.com/im/pictures/0cd0ee6b-dba8-4dbe-9dee-39ba7d9986ed.jpg?im_w=720\" style=\"object-fit:cover\"/><div class=\"_10xjrv2u\" style=\"background-image:url(https://a0.muscache.com/im/pictures/0cd0ee6b-dba8-4dbe-9dee-39ba7d9986ed.jpg?im_w=720);background-size:cover\"></div></div></div></div></div><div class=\"_5ogqp7\"><div class=\"_zjunba\" style=\"padding:8px\"><div></div></div><div class=\"_1xzy2\"><div class=\"_hd88sb\"><button aria-label=\"Previous image\" class=\"_1c5c8zn\" type=\"button\"><span class=\"_3hmsj\"><svg aria-hidden=\"true\" focusable=\"false\" role=\"presentation\" style=\"height:10px;width:10px;display:block;fill:currentColor\" viewbox=\"0 0 16 16\"><path d=\"m10.8 16c-.4 0-.7-.1-.9-.4l-6.8-6.7c-.5-.5-.5-1.3 0-1.8l6.8-6.7c.5-.5 1.2-.5 1.7 0s .5 1.2 0 1.7l-5.8 5.9 5.8 5.9c.5.5.5 1.2 0 1.7-.2.3-.5.4-.8.4\"></path></svg></span></button></div><div class=\"_l9kk1hc\"><button aria-label=\"Next image\" class=\"_1c5c8zn\" type=\"button\"><span class=\"_3hmsj\"><svg aria-hidden=\"true\" focusable=\"false\" role=\"presentation\" style=\"height:10px;width:10px;display:block;fill:currentColor\" viewbox=\"0 0 16 16\"><path d=\"m5.3 16c .3 0 .6-.1.8-.4l6.8-6.7c.5-.5.5-1.3 0-1.8l-6.8-6.7c-.5-.5-1.2-.5-1.7 0s-.5 1.2 0 1.7l5.8 5.9-5.8 5.9c-.5.5-.5 1.2 0 1.7.2.3.5.4.9.4\"></path></svg></span></button></div></div><div class=\"_1coc2b2\"></div></div></div></div><div class=\"_tmwq9g\"><div class=\"_r6zroz\"><div class=\"_1jzvdu8\"><div class=\"_1tanv1h\" style=\"margin-bottom:4px\"><div class=\"_167qordg\">Entire villa in Kecamatan Ubud</div></div><div class=\"_bzh5lkq\" style=\"line-height:24px;max-height:24px;overflow:hidden;text-overflow:ellipsis;display:-webkit-box;-webkit-line-clamp:1;-webkit-box-orient:vertical\">Nature Ricefield Villas with Private Pool</div></div></div><div class=\"_12xcxtl\" style=\"margin-top:11px;width:32px\"></div><div class=\"_kqh46o\" style=\"margin-top:9px\">2 guests<span aria-hidden=\"true\"> · </span>1 bedroom<span aria-hidden=\"true\"> · </span>1 bed<span aria-hidden=\"true\"> · </span>1 bath</div><div class=\"_kqh46o\" style=\"margin-top:4px\">Pool<span aria-hidden=\"true\"> · </span>Wifi<span aria-hidden=\"true\"> · </span>Air conditioning<span aria-hidden=\"true\"> · </span>Kitchen</div><div class=\"_1wl86jn\" style=\"margin-top:8px\"><div class=\"_132lfqt\"><div class=\"_wi2nk7\"><div class=\"_gxjeqd\"><div class=\"_dqf2jj\"><div class=\"_5qtx03\"><div style=\"height:12px;width:12px;display:block\"></div></div><div class=\"_17bkx6k\">Rare find</div><div class=\"_130t1ah\"><span aria-hidden=\"true\"> · </span>This place is usually booked.</div></div></div><div class=\"_s9wlc2\" tabindex=\"0\"><div class=\"_dqf2jj\"><div class=\"_5qtx03\"><div style=\"height:12px;width:12px;display:block\"></div></div><div class=\"_17bkx6k\">Rare find</div><div class=\"_130t1ah\"><span aria-hidden=\"true\"> · </span>This place is usually booked.</div></div></div></div></div></div><div class=\"_1bbeetd\"><div class=\"_ls0e43\"><div class=\"_l2ulkt8\"><div class=\"_1fwiw8gv\"><span><span class=\"_1p7iugi\"><span class=\"_krjbj\">Price:</span>$55</span> / night</span></div><div class=\"_vsjqit\" style=\"margin-top:2px\"><span class=\"_krjbj\">Price:</span><div class=\"_17y0hv9\"><div><button class=\"_ebe4pze\" type=\"button\">$315 total<span class=\"_krjbj\">Show details</span></button></div></div></div></div></div></div></div></div><div></div><div style=\"margin-top:24px;margin-bottom:4px\"><div class=\"_7qp4lh\"></div></div></div></div></div></div></div>,\n",
              " <div class=\"_8ssblpx\"><div class=\"_gig1e7\"><div itemprop=\"itemListElement\" itemscope=\"\" itemtype=\"http://schema.org/ListItem\"><meta content=\"1BR Sikut Satak House - null - Ubud\" itemprop=\"name\"/><meta content=\"3\" itemprop=\"position\"/><meta content=\"undefined/rooms/37060943?check_in=2020-12-29&amp;check_out=2021-01-03&amp;previous_page_section_name=1000\" itemprop=\"url\"/><div><div><div class=\"_1048zci\"><a aria-label=\"1BR Sikut Satak House\" class=\"_gjfol0\" data-check-info-section=\"true\" href=\"/rooms/37060943?check_in=2020-12-29&amp;check_out=2021-01-03&amp;previous_page_section_name=1000&amp;federated_search_id=268eacb7-7083-49b5-8b36-ae8226ab9fa2\" rel=\"noopener noreferrer\" target=\"listing_37060943\"></a><div class=\"_1nz9l7j\"><div class=\"_2n7voam\"><div class=\"_gjw2an\" style=\"padding-top:66.6667%;background:#484848\"><div class=\"_1szwzht\"><div aria-busy=\"false\" aria-label=\"1BR Sikut Satak House\" class=\"_hxt6u1e\" role=\"img\" style=\"padding-top:66.6667%\"><div class=\"_4626ulj\"><img alt=\"1BR Sikut Satak House\" aria-hidden=\"true\" class=\"_91slf2a\" data-original-uri=\"https://a0.muscache.com/im/pictures/bd039a31-2de3-40f4-89e8-f1442517ddfe.jpg?im_w=720\" src=\"https://a0.muscache.com/im/pictures/bd039a31-2de3-40f4-89e8-f1442517ddfe.jpg?im_w=720\" style=\"object-fit:cover\"/><div class=\"_10xjrv2u\" style=\"background-image:url(https://a0.muscache.com/im/pictures/bd039a31-2de3-40f4-89e8-f1442517ddfe.jpg?im_w=720);background-size:cover\"></div></div></div></div></div><div class=\"_5ogqp7\"><div class=\"_zjunba\" style=\"padding:8px\"><div></div></div><div class=\"_1xzy2\"><div class=\"_hd88sb\"><button aria-label=\"Previous image\" class=\"_1c5c8zn\" type=\"button\"><span class=\"_3hmsj\"><svg aria-hidden=\"true\" focusable=\"false\" role=\"presentation\" style=\"height:10px;width:10px;display:block;fill:currentColor\" viewbox=\"0 0 16 16\"><path d=\"m10.8 16c-.4 0-.7-.1-.9-.4l-6.8-6.7c-.5-.5-.5-1.3 0-1.8l6.8-6.7c.5-.5 1.2-.5 1.7 0s .5 1.2 0 1.7l-5.8 5.9 5.8 5.9c.5.5.5 1.2 0 1.7-.2.3-.5.4-.8.4\"></path></svg></span></button></div><div class=\"_l9kk1hc\"><button aria-label=\"Next image\" class=\"_1c5c8zn\" type=\"button\"><span class=\"_3hmsj\"><svg aria-hidden=\"true\" focusable=\"false\" role=\"presentation\" style=\"height:10px;width:10px;display:block;fill:currentColor\" viewbox=\"0 0 16 16\"><path d=\"m5.3 16c .3 0 .6-.1.8-.4l6.8-6.7c.5-.5.5-1.3 0-1.8l-6.8-6.7c-.5-.5-1.2-.5-1.7 0s-.5 1.2 0 1.7l5.8 5.9-5.8 5.9c-.5.5-.5 1.2 0 1.7.2.3.5.4.9.4\"></path></svg></span></button></div></div><div class=\"_1coc2b2\"></div></div></div></div><div class=\"_tmwq9g\"><div class=\"_r6zroz\"><div class=\"_1jzvdu8\"><div class=\"_1tanv1h\" style=\"margin-bottom:4px\"><div class=\"_167qordg\">Entire house in Ubud</div></div><div class=\"_bzh5lkq\" style=\"line-height:24px;max-height:24px;overflow:hidden;text-overflow:ellipsis;display:-webkit-box;-webkit-line-clamp:1;-webkit-box-orient:vertical\">1BR Sikut Satak House</div></div></div><div class=\"_12xcxtl\" style=\"margin-top:11px;width:32px\"></div><div class=\"_kqh46o\" style=\"margin-top:9px\">2 guests<span aria-hidden=\"true\"> · </span>1 bedroom<span aria-hidden=\"true\"> · </span>1 bed<span aria-hidden=\"true\"> · </span>1 bath</div><div class=\"_kqh46o\" style=\"margin-top:4px\">Wifi<span aria-hidden=\"true\"> · </span>Air conditioning<span aria-hidden=\"true\"> · </span>Kitchen</div><div class=\"_1wl86jn\" style=\"margin-top:8px\"><div class=\"_132lfqt\"><div class=\"_wi2nk7\"><div class=\"_dqf2jj\"><div class=\"_5qtx03\"><div style=\"height:12px;width:12px;display:block\"></div></div><div class=\"_17bkx6k\">New lower price</div></div></div></div></div><div class=\"_1bbeetd\"><div class=\"_vaj62s\"><span class=\"_18khxk1\"><span class=\"_5g1etn\"><svg aria-hidden=\"true\" focusable=\"false\" role=\"presentation\" style=\"height:14px;width:14px;fill:currentColor\" viewbox=\"0 0 1000 1000\"><path d=\"M972 380c9 28 2 50-20 67L725 619l87 280c11 39-18 75-54 75-12 0-23-4-33-12L499 790 273 962a58 58 0 0 1-78-12 50 50 0 0 1-8-51l86-278L46 447c-21-17-28-39-19-67 8-24 29-40 52-40h280l87-279c7-23 28-39 52-39 25 0 47 17 54 41l87 277h280c24 0 45 16 53 40z\"></path></svg></span><span class=\"_krjbj\">Rating 4.72 out of 5;</span><span aria-hidden=\"true\" class=\"_10fy1f8\">4.72</span><span class=\"_krjbj\">39 reviews</span><span aria-hidden=\"true\" class=\"_a7a5sx\"> (<!-- -->39<!-- -->)</span></span></div><div class=\"_ls0e43\"><div class=\"_l2ulkt8\"><div class=\"_1fwiw8gv\"><span><span class=\"_1p7iugi\"><span class=\"_16shi2n\"><span class=\"_krjbj\">Previous price:</span>$16</span><span class=\"_krjbj\">Discounted price:</span>$11</span> / night</span></div><div class=\"_vsjqit\" style=\"margin-top:2px\"><span class=\"_krjbj\">Price:</span><div class=\"_17y0hv9\"><div><button class=\"_ebe4pze\" type=\"button\">$61 total<span class=\"_krjbj\">Show details</span></button></div></div></div></div></div></div></div></div><div></div><div style=\"margin-top:24px;margin-bottom:4px\"><div class=\"_7qp4lh\"></div></div></div></div></div></div></div>,\n",
              " <div class=\"_8ssblpx\"><div class=\"_gig1e7\"><div itemprop=\"itemListElement\" itemscope=\"\" itemtype=\"http://schema.org/ListItem\"><meta content=\"Homey and Stylish 1BR Villa with Pool in Canggu - null - Kecamatan Kuta Selatan\" itemprop=\"name\"/><meta content=\"4\" itemprop=\"position\"/><meta content=\"undefined/rooms/46778212?check_in=2020-12-29&amp;check_out=2021-01-03&amp;previous_page_section_name=1000\" itemprop=\"url\"/><div><div><div class=\"_1048zci\"><a aria-label=\"Homey and Stylish 1BR Villa with Pool in Canggu\" class=\"_gjfol0\" data-check-info-section=\"true\" href=\"/rooms/46778212?check_in=2020-12-29&amp;check_out=2021-01-03&amp;previous_page_section_name=1000&amp;federated_search_id=268eacb7-7083-49b5-8b36-ae8226ab9fa2\" rel=\"noopener noreferrer\" target=\"listing_46778212\"></a><div class=\"_1nz9l7j\"><div class=\"_2n7voam\"><div class=\"_gjw2an\" style=\"padding-top:66.6667%;background:#484848\"><div class=\"_1szwzht\"><div aria-busy=\"false\" aria-label=\"Homey and Stylish 1BR Villa with Pool in Canggu\" class=\"_hxt6u1e\" role=\"img\" style=\"padding-top:66.6667%\"><div class=\"_4626ulj\"><img alt=\"Homey and Stylish 1BR Villa with Pool in Canggu\" aria-hidden=\"true\" class=\"_91slf2a\" data-original-uri=\"https://a0.muscache.com/im/pictures/503cd6c2-4644-4f37-bfe2-5330ad55cb4c.jpg?im_w=720\" src=\"https://a0.muscache.com/im/pictures/503cd6c2-4644-4f37-bfe2-5330ad55cb4c.jpg?im_w=720\" style=\"object-fit:cover\"/><div class=\"_10xjrv2u\" style=\"background-image:url(https://a0.muscache.com/im/pictures/503cd6c2-4644-4f37-bfe2-5330ad55cb4c.jpg?im_w=720);background-size:cover\"></div></div></div></div></div><div class=\"_5ogqp7\"><div class=\"_zjunba\" style=\"padding:8px\"><div></div></div><div class=\"_1xzy2\"><div class=\"_hd88sb\"><button aria-label=\"Previous image\" class=\"_1c5c8zn\" type=\"button\"><span class=\"_3hmsj\"><svg aria-hidden=\"true\" focusable=\"false\" role=\"presentation\" style=\"height:10px;width:10px;display:block;fill:currentColor\" viewbox=\"0 0 16 16\"><path d=\"m10.8 16c-.4 0-.7-.1-.9-.4l-6.8-6.7c-.5-.5-.5-1.3 0-1.8l6.8-6.7c.5-.5 1.2-.5 1.7 0s .5 1.2 0 1.7l-5.8 5.9 5.8 5.9c.5.5.5 1.2 0 1.7-.2.3-.5.4-.8.4\"></path></svg></span></button></div><div class=\"_l9kk1hc\"><button aria-label=\"Next image\" class=\"_1c5c8zn\" type=\"button\"><span class=\"_3hmsj\"><svg aria-hidden=\"true\" focusable=\"false\" role=\"presentation\" style=\"height:10px;width:10px;display:block;fill:currentColor\" viewbox=\"0 0 16 16\"><path d=\"m5.3 16c .3 0 .6-.1.8-.4l6.8-6.7c.5-.5.5-1.3 0-1.8l-6.8-6.7c-.5-.5-1.2-.5-1.7 0s-.5 1.2 0 1.7l5.8 5.9-5.8 5.9c-.5.5-.5 1.2 0 1.7.2.3.5.4.9.4\"></path></svg></span></button></div></div><div class=\"_1coc2b2\"></div></div></div></div><div class=\"_tmwq9g\"><div class=\"_r6zroz\"><div class=\"_1jzvdu8\"><div class=\"_1tanv1h\" style=\"margin-bottom:4px\"><div class=\"_167qordg\">Entire villa in Kecamatan Kuta Selatan</div></div><div class=\"_bzh5lkq\" style=\"line-height:24px;max-height:24px;overflow:hidden;text-overflow:ellipsis;display:-webkit-box;-webkit-line-clamp:1;-webkit-box-orient:vertical\">Homey and Stylish 1BR Villa with Pool in Canggu</div></div></div><div class=\"_12xcxtl\" style=\"margin-top:11px;width:32px\"></div><div class=\"_kqh46o\" style=\"margin-top:9px\">2 guests<span aria-hidden=\"true\"> · </span>1 bedroom<span aria-hidden=\"true\"> · </span>1 bed<span aria-hidden=\"true\"> · </span>2 baths</div><div class=\"_kqh46o\" style=\"margin-top:4px\">Pool<span aria-hidden=\"true\"> · </span>Wifi<span aria-hidden=\"true\"> · </span>Air conditioning<span aria-hidden=\"true\"> · </span>Kitchen</div><div class=\"_1bbeetd\"><div class=\"_ls0e43\"><div class=\"_l2ulkt8\"><div class=\"_1fwiw8gv\"><span><span class=\"_1p7iugi\"><span class=\"_krjbj\">Price:</span>$57</span> / night</span></div><div class=\"_vsjqit\" style=\"margin-top:2px\"><span class=\"_krjbj\">Price:</span><div class=\"_17y0hv9\"><div><button class=\"_ebe4pze\" type=\"button\">$323 total<span class=\"_krjbj\">Show details</span></button></div></div></div></div></div></div></div></div><div></div><div style=\"margin-top:24px;margin-bottom:4px\"><div class=\"_7qp4lh\"></div></div></div></div></div></div></div>,\n",
              " <div class=\"_8ssblpx\"><div class=\"_gig1e7\"><div itemprop=\"itemListElement\" itemscope=\"\" itemtype=\"http://schema.org/ListItem\"><meta content=\"HBD homestay Canggu 2 - null - Kecamatan Kuta Utara\" itemprop=\"name\"/><meta content=\"5\" itemprop=\"position\"/><meta content=\"undefined/rooms/46782261?check_in=2020-12-29&amp;check_out=2021-01-03&amp;previous_page_section_name=1000\" itemprop=\"url\"/><div><div><div class=\"_1048zci\"><a aria-label=\"HBD homestay Canggu 2\" class=\"_gjfol0\" data-check-info-section=\"true\" href=\"/rooms/46782261?check_in=2020-12-29&amp;check_out=2021-01-03&amp;previous_page_section_name=1000&amp;federated_search_id=268eacb7-7083-49b5-8b36-ae8226ab9fa2\" rel=\"noopener noreferrer\" target=\"listing_46782261\"></a><div class=\"_1nz9l7j\"><div class=\"_2n7voam\"><div class=\"_gjw2an\" style=\"padding-top:66.6667%;background:#484848\"><div class=\"_1szwzht\"><div aria-busy=\"false\" aria-label=\"HBD homestay Canggu 2\" class=\"_hxt6u1e\" role=\"img\" style=\"padding-top:66.6667%\"><div class=\"_4626ulj\"><img alt=\"HBD homestay Canggu 2\" aria-hidden=\"true\" class=\"_91slf2a\" data-original-uri=\"https://a0.muscache.com/im/pictures/f6cdc385-bf81-47ca-9957-fca52eeb8063.jpg?im_w=720\" src=\"https://a0.muscache.com/im/pictures/f6cdc385-bf81-47ca-9957-fca52eeb8063.jpg?im_w=720\" style=\"object-fit:cover\"/><div class=\"_10xjrv2u\" style=\"background-image:url(https://a0.muscache.com/im/pictures/f6cdc385-bf81-47ca-9957-fca52eeb8063.jpg?im_w=720);background-size:cover\"></div></div></div></div></div><div class=\"_5ogqp7\"><div class=\"_zjunba\" style=\"padding:8px\"><div></div></div><div class=\"_1xzy2\"><div class=\"_hd88sb\"><button aria-label=\"Previous image\" class=\"_1c5c8zn\" type=\"button\"><span class=\"_3hmsj\"><svg aria-hidden=\"true\" focusable=\"false\" role=\"presentation\" style=\"height:10px;width:10px;display:block;fill:currentColor\" viewbox=\"0 0 16 16\"><path d=\"m10.8 16c-.4 0-.7-.1-.9-.4l-6.8-6.7c-.5-.5-.5-1.3 0-1.8l6.8-6.7c.5-.5 1.2-.5 1.7 0s .5 1.2 0 1.7l-5.8 5.9 5.8 5.9c.5.5.5 1.2 0 1.7-.2.3-.5.4-.8.4\"></path></svg></span></button></div><div class=\"_l9kk1hc\"><button aria-label=\"Next image\" class=\"_1c5c8zn\" type=\"button\"><span class=\"_3hmsj\"><svg aria-hidden=\"true\" focusable=\"false\" role=\"presentation\" style=\"height:10px;width:10px;display:block;fill:currentColor\" viewbox=\"0 0 16 16\"><path d=\"m5.3 16c .3 0 .6-.1.8-.4l6.8-6.7c.5-.5.5-1.3 0-1.8l-6.8-6.7c-.5-.5-1.2-.5-1.7 0s-.5 1.2 0 1.7l5.8 5.9-5.8 5.9c-.5.5-.5 1.2 0 1.7.2.3.5.4.9.4\"></path></svg></span></button></div></div><div class=\"_1coc2b2\"></div></div></div></div><div class=\"_tmwq9g\"><div class=\"_r6zroz\"><div class=\"_1jzvdu8\"><div class=\"_1tanv1h\" style=\"margin-bottom:4px\"><div class=\"_167qordg\">Private room in Kecamatan Kuta Utara</div></div><div class=\"_bzh5lkq\" style=\"line-height:24px;max-height:24px;overflow:hidden;text-overflow:ellipsis;display:-webkit-box;-webkit-line-clamp:1;-webkit-box-orient:vertical\">HBD homestay Canggu 2</div></div></div><div class=\"_12xcxtl\" style=\"margin-top:11px;width:32px\"></div><div class=\"_kqh46o\" style=\"margin-top:9px\">2 guests<span aria-hidden=\"true\"> · </span>1 bedroom<span aria-hidden=\"true\"> · </span>0 beds<span aria-hidden=\"true\"> · </span>1 shared bath</div><div class=\"_kqh46o\" style=\"margin-top:4px\">Wifi<span aria-hidden=\"true\"> · </span>Air conditioning<span aria-hidden=\"true\"> · </span>Kitchen</div><div class=\"_1bbeetd\"><div class=\"_ls0e43\"><div class=\"_l2ulkt8\"><div class=\"_1fwiw8gv\"><span><span class=\"_1p7iugi\"><span class=\"_krjbj\">Price:</span>$12</span> / night</span></div><div class=\"_vsjqit\" style=\"margin-top:2px\"><span class=\"_krjbj\">Price:</span><div class=\"_17y0hv9\"><div><button class=\"_ebe4pze\" type=\"button\">$68 total<span class=\"_krjbj\">Show details</span></button></div></div></div></div></div></div></div></div><div></div><div style=\"margin-top:24px;margin-bottom:4px\"><div class=\"_7qp4lh\"></div></div></div></div></div></div></div>,\n",
              " <div class=\"_8ssblpx\"><div class=\"_gig1e7\"><div itemprop=\"itemListElement\" itemscope=\"\" itemtype=\"http://schema.org/ListItem\"><meta content=\"SEMINYAK little indepandant duplex fiber optic :-) - null - Seminyak\" itemprop=\"name\"/><meta content=\"6\" itemprop=\"position\"/><meta content=\"undefined/rooms/13846384?check_in=2020-12-29&amp;check_out=2021-01-03&amp;previous_page_section_name=1000\" itemprop=\"url\"/><div><div><div class=\"_1048zci\"><a aria-label=\"SEMINYAK little indepandant duplex fiber optic :-)\" class=\"_gjfol0\" data-check-info-section=\"true\" href=\"/rooms/13846384?check_in=2020-12-29&amp;check_out=2021-01-03&amp;previous_page_section_name=1000&amp;federated_search_id=268eacb7-7083-49b5-8b36-ae8226ab9fa2\" rel=\"noopener noreferrer\" target=\"listing_13846384\"></a><div class=\"_1nz9l7j\"><div class=\"_2n7voam\"><div class=\"_gjw2an\" style=\"padding-top:66.6667%;background:#484848\"><div class=\"_1szwzht\"><div aria-busy=\"false\" aria-label=\"SEMINYAK little indepandant duplex fiber optic :-)\" class=\"_hxt6u1e\" role=\"img\" style=\"padding-top:66.6667%\"><div class=\"_4626ulj\"><img alt=\"SEMINYAK little indepandant duplex fiber optic :-)\" aria-hidden=\"true\" class=\"_91slf2a\" data-original-uri=\"https://a0.muscache.com/im/pictures/3551e735-5edd-4e19-8e9c-4c32f10afa0a.jpg?im_w=720\" src=\"https://a0.muscache.com/im/pictures/3551e735-5edd-4e19-8e9c-4c32f10afa0a.jpg?im_w=720\" style=\"object-fit:cover\"/><div class=\"_10xjrv2u\" style=\"background-image:url(https://a0.muscache.com/im/pictures/3551e735-5edd-4e19-8e9c-4c32f10afa0a.jpg?im_w=720);background-size:cover\"></div></div></div></div></div><div class=\"_5ogqp7\"><div class=\"_zjunba\" style=\"padding:8px\"><div></div></div><div class=\"_1xzy2\"><div class=\"_hd88sb\"><button aria-label=\"Previous image\" class=\"_1c5c8zn\" type=\"button\"><span class=\"_3hmsj\"><svg aria-hidden=\"true\" focusable=\"false\" role=\"presentation\" style=\"height:10px;width:10px;display:block;fill:currentColor\" viewbox=\"0 0 16 16\"><path d=\"m10.8 16c-.4 0-.7-.1-.9-.4l-6.8-6.7c-.5-.5-.5-1.3 0-1.8l6.8-6.7c.5-.5 1.2-.5 1.7 0s .5 1.2 0 1.7l-5.8 5.9 5.8 5.9c.5.5.5 1.2 0 1.7-.2.3-.5.4-.8.4\"></path></svg></span></button></div><div class=\"_l9kk1hc\"><button aria-label=\"Next image\" class=\"_1c5c8zn\" type=\"button\"><span class=\"_3hmsj\"><svg aria-hidden=\"true\" focusable=\"false\" role=\"presentation\" style=\"height:10px;width:10px;display:block;fill:currentColor\" viewbox=\"0 0 16 16\"><path d=\"m5.3 16c .3 0 .6-.1.8-.4l6.8-6.7c.5-.5.5-1.3 0-1.8l-6.8-6.7c-.5-.5-1.2-.5-1.7 0s-.5 1.2 0 1.7l5.8 5.9-5.8 5.9c-.5.5-.5 1.2 0 1.7.2.3.5.4.9.4\"></path></svg></span></button></div></div><div class=\"_1coc2b2\"></div></div></div></div><div class=\"_tmwq9g\"><div class=\"_r6zroz\"><div class=\"_1jzvdu8\"><div class=\"_1tanv1h\" style=\"margin-bottom:4px\"><div class=\"_167qordg\">Entire apartment in Seminyak</div></div><div class=\"_bzh5lkq\" style=\"line-height:24px;max-height:24px;overflow:hidden;text-overflow:ellipsis;display:-webkit-box;-webkit-line-clamp:1;-webkit-box-orient:vertical\">SEMINYAK little indepandant duplex fiber optic :-)</div></div></div><div class=\"_12xcxtl\" style=\"margin-top:11px;width:32px\"></div><div class=\"_kqh46o\" style=\"margin-top:9px\">2 guests<span aria-hidden=\"true\"> · </span>1 bedroom<span aria-hidden=\"true\"> · </span>1 bed<span aria-hidden=\"true\"> · </span>1 bath</div><div class=\"_kqh46o\" style=\"margin-top:4px\">Wifi<span aria-hidden=\"true\"> · </span>Air conditioning<span aria-hidden=\"true\"> · </span>Kitchen</div><div class=\"_1bbeetd\"><div class=\"_vaj62s\"><span class=\"_18khxk1\"><span class=\"_5g1etn\"><svg aria-hidden=\"true\" focusable=\"false\" role=\"presentation\" style=\"height:14px;width:14px;fill:currentColor\" viewbox=\"0 0 1000 1000\"><path d=\"M972 380c9 28 2 50-20 67L725 619l87 280c11 39-18 75-54 75-12 0-23-4-33-12L499 790 273 962a58 58 0 0 1-78-12 50 50 0 0 1-8-51l86-278L46 447c-21-17-28-39-19-67 8-24 29-40 52-40h280l87-279c7-23 28-39 52-39 25 0 47 17 54 41l87 277h280c24 0 45 16 53 40z\"></path></svg></span><span class=\"_krjbj\">Rating 4.82 out of 5;</span><span aria-hidden=\"true\" class=\"_10fy1f8\">4.82</span><span class=\"_krjbj\">22 reviews</span><span aria-hidden=\"true\" class=\"_a7a5sx\"> (<!-- -->22<!-- -->)</span></span></div><div class=\"_ls0e43\"><div class=\"_l2ulkt8\"><div class=\"_1fwiw8gv\"><span><span class=\"_1p7iugi\"><span class=\"_krjbj\">Price:</span>$18</span> / night</span></div><div class=\"_vsjqit\" style=\"margin-top:2px\"><span class=\"_krjbj\">Price:</span><div class=\"_17y0hv9\"><div><button class=\"_ebe4pze\" type=\"button\">$103 total<span class=\"_krjbj\">Show details</span></button></div></div></div></div></div></div></div></div><div></div><div style=\"margin-top:24px;margin-bottom:4px\"><div class=\"_7qp4lh\"></div></div></div></div></div></div></div>,\n",
              " <div class=\"_8ssblpx\"><div class=\"_gig1e7\"><div itemprop=\"itemListElement\" itemscope=\"\" itemtype=\"http://schema.org/ListItem\"><meta content=\"Villa Puri Royan, Jimbaran, Bali - null - Kecamatan Kuta Selatan\" itemprop=\"name\"/><meta content=\"7\" itemprop=\"position\"/><meta content=\"undefined/rooms/46780564?check_in=2020-12-29&amp;check_out=2021-01-03&amp;previous_page_section_name=1000\" itemprop=\"url\"/><div><div><div class=\"_1048zci\"><a aria-label=\"Villa Puri Royan, Jimbaran, Bali\" class=\"_gjfol0\" data-check-info-section=\"true\" href=\"/rooms/46780564?check_in=2020-12-29&amp;check_out=2021-01-03&amp;previous_page_section_name=1000&amp;federated_search_id=268eacb7-7083-49b5-8b36-ae8226ab9fa2\" rel=\"noopener noreferrer\" target=\"listing_46780564\"></a><div class=\"_1nz9l7j\"><div class=\"_2n7voam\"><div class=\"_gjw2an\" style=\"padding-top:66.6667%;background:#484848\"><div class=\"_1szwzht\"><div aria-busy=\"false\" aria-label=\"Villa Puri Royan, Jimbaran, Bali\" class=\"_hxt6u1e\" role=\"img\" style=\"padding-top:66.6667%\"><div class=\"_4626ulj\"><img alt=\"Villa Puri Royan, Jimbaran, Bali\" aria-hidden=\"true\" class=\"_91slf2a\" data-original-uri=\"https://a0.muscache.com/im/pictures/93b0c1de-41c6-4385-9f28-ba813fe624d3.jpg?im_w=720\" src=\"https://a0.muscache.com/im/pictures/93b0c1de-41c6-4385-9f28-ba813fe624d3.jpg?im_w=720\" style=\"object-fit:cover\"/><div class=\"_10xjrv2u\" style=\"background-image:url(https://a0.muscache.com/im/pictures/93b0c1de-41c6-4385-9f28-ba813fe624d3.jpg?im_w=720);background-size:cover\"></div></div></div></div></div><div class=\"_5ogqp7\"><div class=\"_zjunba\" style=\"padding:8px\"><div></div></div><div class=\"_1xzy2\"><div class=\"_hd88sb\"><button aria-label=\"Previous image\" class=\"_1c5c8zn\" type=\"button\"><span class=\"_3hmsj\"><svg aria-hidden=\"true\" focusable=\"false\" role=\"presentation\" style=\"height:10px;width:10px;display:block;fill:currentColor\" viewbox=\"0 0 16 16\"><path d=\"m10.8 16c-.4 0-.7-.1-.9-.4l-6.8-6.7c-.5-.5-.5-1.3 0-1.8l6.8-6.7c.5-.5 1.2-.5 1.7 0s .5 1.2 0 1.7l-5.8 5.9 5.8 5.9c.5.5.5 1.2 0 1.7-.2.3-.5.4-.8.4\"></path></svg></span></button></div><div class=\"_l9kk1hc\"><button aria-label=\"Next image\" class=\"_1c5c8zn\" type=\"button\"><span class=\"_3hmsj\"><svg aria-hidden=\"true\" focusable=\"false\" role=\"presentation\" style=\"height:10px;width:10px;display:block;fill:currentColor\" viewbox=\"0 0 16 16\"><path d=\"m5.3 16c .3 0 .6-.1.8-.4l6.8-6.7c.5-.5.5-1.3 0-1.8l-6.8-6.7c-.5-.5-1.2-.5-1.7 0s-.5 1.2 0 1.7l5.8 5.9-5.8 5.9c-.5.5-.5 1.2 0 1.7.2.3.5.4.9.4\"></path></svg></span></button></div></div><div class=\"_1coc2b2\"></div></div></div></div><div class=\"_tmwq9g\"><div class=\"_r6zroz\"><div class=\"_1jzvdu8\"><div class=\"_1tanv1h\" style=\"margin-bottom:4px\"><div class=\"_167qordg\">Private room in Kecamatan Kuta Selatan</div></div><div class=\"_bzh5lkq\" style=\"line-height:24px;max-height:24px;overflow:hidden;text-overflow:ellipsis;display:-webkit-box;-webkit-line-clamp:1;-webkit-box-orient:vertical\">Villa Puri Royan, Jimbaran, Bali</div></div></div><div class=\"_12xcxtl\" style=\"margin-top:11px;width:32px\"></div><div class=\"_kqh46o\" style=\"margin-top:9px\">2 guests<span aria-hidden=\"true\"> · </span>Studio<span aria-hidden=\"true\"> · </span>1 bed<span aria-hidden=\"true\"> · </span>1 private bath</div><div class=\"_kqh46o\" style=\"margin-top:4px\">Air conditioning</div><div class=\"_1bbeetd\"><div class=\"_ls0e43\"><div class=\"_l2ulkt8\"><div class=\"_1fwiw8gv\"><span><span class=\"_1p7iugi\"><span class=\"_krjbj\">Price:</span>$10</span> / night</span></div><div class=\"_vsjqit\" style=\"margin-top:2px\"><span class=\"_krjbj\">Price:</span><div class=\"_17y0hv9\"><div><button class=\"_ebe4pze\" type=\"button\">$56 total<span class=\"_krjbj\">Show details</span></button></div></div></div></div></div></div></div></div><div></div><div style=\"margin-top:24px;margin-bottom:4px\"><div class=\"_7qp4lh\"></div></div></div></div></div></div></div>,\n",
              " <div class=\"_8ssblpx\"><div class=\"_gig1e7\"><div itemprop=\"itemListElement\" itemscope=\"\" itemtype=\"http://schema.org/ListItem\"><meta content=\"Private Room In Boutique Hotel 2 Min. To Beach #4 - null - Kecamatan Kuta Utara\" itemprop=\"name\"/><meta content=\"8\" itemprop=\"position\"/><meta content=\"undefined/rooms/46758867?check_in=2020-12-29&amp;check_out=2021-01-03&amp;previous_page_section_name=1000\" itemprop=\"url\"/><div><div><div class=\"_1048zci\"><a aria-label=\"Private Room In Boutique Hotel 2 Min. To Beach #4\" class=\"_gjfol0\" data-check-info-section=\"true\" href=\"/rooms/46758867?check_in=2020-12-29&amp;check_out=2021-01-03&amp;previous_page_section_name=1000&amp;federated_search_id=268eacb7-7083-49b5-8b36-ae8226ab9fa2\" rel=\"noopener noreferrer\" target=\"listing_46758867\"></a><div class=\"_1nz9l7j\"><div class=\"_2n7voam\"><div class=\"_gjw2an\" style=\"padding-top:66.6667%;background:#484848\"><div class=\"_1szwzht\"><div aria-busy=\"false\" aria-label=\"Private Room In Boutique Hotel 2 Min. To Beach #4\" class=\"_hxt6u1e\" role=\"img\" style=\"padding-top:66.6667%\"><div class=\"_4626ulj\"><img alt=\"Private Room In Boutique Hotel 2 Min. To Beach #4\" aria-hidden=\"true\" class=\"_91slf2a\" data-original-uri=\"https://a0.muscache.com/im/pictures/57848d67-f538-48ff-b926-a2c6628905f3.jpg?im_w=720\" src=\"https://a0.muscache.com/im/pictures/57848d67-f538-48ff-b926-a2c6628905f3.jpg?im_w=720\" style=\"object-fit:cover\"/><div class=\"_10xjrv2u\" style=\"background-image:url(https://a0.muscache.com/im/pictures/57848d67-f538-48ff-b926-a2c6628905f3.jpg?im_w=720);background-size:cover\"></div></div></div></div></div><div class=\"_5ogqp7\"><div class=\"_zjunba\" style=\"padding:8px\"><div></div></div><div class=\"_1xzy2\"><div class=\"_hd88sb\"><button aria-label=\"Previous image\" class=\"_1c5c8zn\" type=\"button\"><span class=\"_3hmsj\"><svg aria-hidden=\"true\" focusable=\"false\" role=\"presentation\" style=\"height:10px;width:10px;display:block;fill:currentColor\" viewbox=\"0 0 16 16\"><path d=\"m10.8 16c-.4 0-.7-.1-.9-.4l-6.8-6.7c-.5-.5-.5-1.3 0-1.8l6.8-6.7c.5-.5 1.2-.5 1.7 0s .5 1.2 0 1.7l-5.8 5.9 5.8 5.9c.5.5.5 1.2 0 1.7-.2.3-.5.4-.8.4\"></path></svg></span></button></div><div class=\"_l9kk1hc\"><button aria-label=\"Next image\" class=\"_1c5c8zn\" type=\"button\"><span class=\"_3hmsj\"><svg aria-hidden=\"true\" focusable=\"false\" role=\"presentation\" style=\"height:10px;width:10px;display:block;fill:currentColor\" viewbox=\"0 0 16 16\"><path d=\"m5.3 16c .3 0 .6-.1.8-.4l6.8-6.7c.5-.5.5-1.3 0-1.8l-6.8-6.7c-.5-.5-1.2-.5-1.7 0s-.5 1.2 0 1.7l5.8 5.9-5.8 5.9c-.5.5-.5 1.2 0 1.7.2.3.5.4.9.4\"></path></svg></span></button></div></div><div class=\"_1coc2b2\"></div></div></div></div><div class=\"_tmwq9g\"><div class=\"_r6zroz\"><div class=\"_1jzvdu8\"><div class=\"_1tanv1h\" style=\"margin-bottom:4px\"><div class=\"_167qordg\">Private room in Kecamatan Kuta Utara</div></div><div class=\"_bzh5lkq\" style=\"line-height:24px;max-height:24px;overflow:hidden;text-overflow:ellipsis;display:-webkit-box;-webkit-line-clamp:1;-webkit-box-orient:vertical\">Private Room In Boutique Hotel 2 Min. To Beach #4</div></div></div><div class=\"_12xcxtl\" style=\"margin-top:11px;width:32px\"></div><div class=\"_kqh46o\" style=\"margin-top:9px\">2 guests<span aria-hidden=\"true\"> · </span>1 bedroom<span aria-hidden=\"true\"> · </span>1 private bath</div><div class=\"_kqh46o\" style=\"margin-top:4px\">Wifi<span aria-hidden=\"true\"> · </span>Air conditioning</div><div class=\"_1bbeetd\"><div class=\"_ls0e43\"><div class=\"_l2ulkt8\"><div class=\"_1fwiw8gv\"><span><span class=\"_1p7iugi\"><span class=\"_krjbj\">Price:</span>$14</span> / night</span></div><div class=\"_vsjqit\" style=\"margin-top:2px\"><span class=\"_krjbj\">Price:</span><div class=\"_17y0hv9\"><div><button class=\"_ebe4pze\" type=\"button\">$81 total<span class=\"_krjbj\">Show details</span></button></div></div></div></div></div></div></div></div><div></div><div style=\"margin-top:24px;margin-bottom:4px\"><div class=\"_7qp4lh\"></div></div></div></div></div></div></div>,\n",
              " <div class=\"_8ssblpx\"><div class=\"_gig1e7\"><div itemprop=\"itemListElement\" itemscope=\"\" itemtype=\"http://schema.org/ListItem\"><meta content=\"CENTRAL Canggu. 1 KM to Batu Bolong Beach (5) - null - Canggu\" itemprop=\"name\"/><meta content=\"9\" itemprop=\"position\"/><meta content=\"undefined/rooms/39891423?check_in=2020-12-29&amp;check_out=2021-01-03&amp;previous_page_section_name=1000\" itemprop=\"url\"/><div><div><div class=\"_1048zci\"><a aria-label=\"CENTRAL Canggu. 1 KM to Batu Bolong Beach (5)\" class=\"_gjfol0\" data-check-info-section=\"true\" href=\"/rooms/39891423?check_in=2020-12-29&amp;check_out=2021-01-03&amp;previous_page_section_name=1000&amp;federated_search_id=268eacb7-7083-49b5-8b36-ae8226ab9fa2\" rel=\"noopener noreferrer\" target=\"listing_39891423\"></a><div class=\"_1nz9l7j\"><div class=\"_2n7voam\"><div class=\"_gjw2an\" style=\"padding-top:66.6667%;background:#484848\"><div class=\"_1szwzht\"><div aria-busy=\"false\" aria-label=\"CENTRAL Canggu. 1 KM to Batu Bolong Beach (5)\" class=\"_hxt6u1e\" role=\"img\" style=\"padding-top:66.6667%\"><div class=\"_4626ulj\"><img alt=\"CENTRAL Canggu. 1 KM to Batu Bolong Beach (5)\" aria-hidden=\"true\" class=\"_91slf2a\" data-original-uri=\"https://a0.muscache.com/im/pictures/da344b5c-5bd0-41b1-aca4-61533baea5c6.jpg?im_w=720\" src=\"https://a0.muscache.com/im/pictures/da344b5c-5bd0-41b1-aca4-61533baea5c6.jpg?im_w=720\" style=\"object-fit:cover\"/><div class=\"_10xjrv2u\" style=\"background-image:url(https://a0.muscache.com/im/pictures/da344b5c-5bd0-41b1-aca4-61533baea5c6.jpg?im_w=720);background-size:cover\"></div></div></div></div></div><div class=\"_5ogqp7\"><div class=\"_zjunba\" style=\"padding:8px\"><div><div class=\"_snufp9\" style=\"background-color:rgba(255, 255, 255, 0.95);border:0.5px solid rgba(0, 0, 0, 0.2);color:#222222\"><div class=\"_ufoy4t\">SUPERHOST</div></div></div></div><div class=\"_1xzy2\"><div class=\"_hd88sb\"><button aria-label=\"Previous image\" class=\"_1c5c8zn\" type=\"button\"><span class=\"_3hmsj\"><svg aria-hidden=\"true\" focusable=\"false\" role=\"presentation\" style=\"height:10px;width:10px;display:block;fill:currentColor\" viewbox=\"0 0 16 16\"><path d=\"m10.8 16c-.4 0-.7-.1-.9-.4l-6.8-6.7c-.5-.5-.5-1.3 0-1.8l6.8-6.7c.5-.5 1.2-.5 1.7 0s .5 1.2 0 1.7l-5.8 5.9 5.8 5.9c.5.5.5 1.2 0 1.7-.2.3-.5.4-.8.4\"></path></svg></span></button></div><div class=\"_l9kk1hc\"><button aria-label=\"Next image\" class=\"_1c5c8zn\" type=\"button\"><span class=\"_3hmsj\"><svg aria-hidden=\"true\" focusable=\"false\" role=\"presentation\" style=\"height:10px;width:10px;display:block;fill:currentColor\" viewbox=\"0 0 16 16\"><path d=\"m5.3 16c .3 0 .6-.1.8-.4l6.8-6.7c.5-.5.5-1.3 0-1.8l-6.8-6.7c-.5-.5-1.2-.5-1.7 0s-.5 1.2 0 1.7l5.8 5.9-5.8 5.9c-.5.5-.5 1.2 0 1.7.2.3.5.4.9.4\"></path></svg></span></button></div></div><div class=\"_1coc2b2\"></div></div></div></div><div class=\"_tmwq9g\"><div class=\"_r6zroz\"><div class=\"_1jzvdu8\"><div class=\"_1tanv1h\" style=\"margin-bottom:4px\"><div class=\"_167qordg\">Private room in Canggu</div></div><div class=\"_bzh5lkq\" style=\"line-height:24px;max-height:24px;overflow:hidden;text-overflow:ellipsis;display:-webkit-box;-webkit-line-clamp:1;-webkit-box-orient:vertical\">CENTRAL Canggu. 1 KM to Batu Bolong Beach (5)</div></div></div><div class=\"_12xcxtl\" style=\"margin-top:11px;width:32px\"></div><div class=\"_kqh46o\" style=\"margin-top:9px\">2 guests<span aria-hidden=\"true\"> · </span>1 bedroom<span aria-hidden=\"true\"> · </span>1 bed<span aria-hidden=\"true\"> · </span>1 private bath</div><div class=\"_kqh46o\" style=\"margin-top:4px\">Pool<span aria-hidden=\"true\"> · </span>Wifi<span aria-hidden=\"true\"> · </span>Air conditioning<span aria-hidden=\"true\"> · </span>Kitchen</div><div class=\"_1wl86jn\" style=\"margin-top:8px\"><div class=\"_132lfqt\"><div class=\"_wi2nk7\"><div class=\"_dqf2jj\"><div class=\"_5qtx03\"><div style=\"height:12px;width:12px;display:block\"></div></div><div class=\"_17bkx6k\">New lower price</div></div></div></div></div><div class=\"_1bbeetd\"><div class=\"_vaj62s\"><span class=\"_18khxk1\"><span class=\"_5g1etn\"><svg aria-hidden=\"true\" focusable=\"false\" role=\"presentation\" style=\"height:14px;width:14px;fill:currentColor\" viewbox=\"0 0 1000 1000\"><path d=\"M972 380c9 28 2 50-20 67L725 619l87 280c11 39-18 75-54 75-12 0-23-4-33-12L499 790 273 962a58 58 0 0 1-78-12 50 50 0 0 1-8-51l86-278L46 447c-21-17-28-39-19-67 8-24 29-40 52-40h280l87-279c7-23 28-39 52-39 25 0 47 17 54 41l87 277h280c24 0 45 16 53 40z\"></path></svg></span><span class=\"_krjbj\">Rating 4.93 out of 5;</span><span aria-hidden=\"true\" class=\"_10fy1f8\">4.93</span><span class=\"_krjbj\">14 reviews</span><span aria-hidden=\"true\" class=\"_a7a5sx\"> (<!-- -->14<!-- -->)</span></span></div><div class=\"_ls0e43\"><div class=\"_l2ulkt8\"><div class=\"_1fwiw8gv\"><span><span class=\"_1p7iugi\"><span class=\"_16shi2n\"><span class=\"_krjbj\">Previous price:</span>$71</span><span class=\"_krjbj\">Discounted price:</span>$35</span> / night</span></div><div class=\"_vsjqit\" style=\"margin-top:2px\"><span class=\"_krjbj\">Price:</span><div class=\"_17y0hv9\"><div><button class=\"_ebe4pze\" type=\"button\">$202 total<span class=\"_krjbj\">Show details</span></button></div></div></div></div></div></div></div></div><div></div><div style=\"margin-top:24px;margin-bottom:4px\"><div class=\"_7qp4lh\"></div></div></div></div></div></div></div>,\n",
              " <div class=\"_8ssblpx\"><div class=\"_gig1e7\"><div itemprop=\"itemListElement\" itemscope=\"\" itemtype=\"http://schema.org/ListItem\"><meta content=\"Rasa sayang double room 208 - null - Kecamatan Kuta Selatan\" itemprop=\"name\"/><meta content=\"10\" itemprop=\"position\"/><meta content=\"undefined/rooms/46692195?check_in=2020-12-29&amp;check_out=2021-01-03&amp;previous_page_section_name=1000\" itemprop=\"url\"/><div><div><div class=\"_1048zci\"><a aria-label=\"Rasa sayang double room 208\" class=\"_gjfol0\" data-check-info-section=\"true\" href=\"/rooms/46692195?check_in=2020-12-29&amp;check_out=2021-01-03&amp;previous_page_section_name=1000&amp;federated_search_id=268eacb7-7083-49b5-8b36-ae8226ab9fa2\" rel=\"noopener noreferrer\" target=\"listing_46692195\"></a><div class=\"_1nz9l7j\"><div class=\"_2n7voam\"><div class=\"_gjw2an\" style=\"padding-top:66.6667%;background:#484848\"><div class=\"_1szwzht\"><div aria-busy=\"false\" aria-label=\"Rasa sayang double room 208\" class=\"_hxt6u1e\" role=\"img\" style=\"padding-top:66.6667%\"><div class=\"_4626ulj\"><img alt=\"Rasa sayang double room 208\" aria-hidden=\"true\" class=\"_91slf2a\" data-original-uri=\"https://a0.muscache.com/im/pictures/474632d3-5a05-4546-907e-67138a9ebbb7.jpg?im_w=720\" src=\"https://a0.muscache.com/im/pictures/474632d3-5a05-4546-907e-67138a9ebbb7.jpg?im_w=720\" style=\"object-fit:cover\"/><div class=\"_10xjrv2u\" style=\"background-image:url(https://a0.muscache.com/im/pictures/474632d3-5a05-4546-907e-67138a9ebbb7.jpg?im_w=720);background-size:cover\"></div></div></div></div></div><div class=\"_5ogqp7\"><div class=\"_zjunba\" style=\"padding:8px\"><div><div class=\"_snufp9\" style=\"background-color:rgba(255, 255, 255, 0.95);border:0.5px solid rgba(0, 0, 0, 0.2);color:#222222\"><div class=\"_ufoy4t\">SUPERHOST</div></div></div></div><div class=\"_1xzy2\"><div class=\"_hd88sb\"><button aria-label=\"Previous image\" class=\"_1c5c8zn\" type=\"button\"><span class=\"_3hmsj\"><svg aria-hidden=\"true\" focusable=\"false\" role=\"presentation\" style=\"height:10px;width:10px;display:block;fill:currentColor\" viewbox=\"0 0 16 16\"><path d=\"m10.8 16c-.4 0-.7-.1-.9-.4l-6.8-6.7c-.5-.5-.5-1.3 0-1.8l6.8-6.7c.5-.5 1.2-.5 1.7 0s .5 1.2 0 1.7l-5.8 5.9 5.8 5.9c.5.5.5 1.2 0 1.7-.2.3-.5.4-.8.4\"></path></svg></span></button></div><div class=\"_l9kk1hc\"><button aria-label=\"Next image\" class=\"_1c5c8zn\" type=\"button\"><span class=\"_3hmsj\"><svg aria-hidden=\"true\" focusable=\"false\" role=\"presentation\" style=\"height:10px;width:10px;display:block;fill:currentColor\" viewbox=\"0 0 16 16\"><path d=\"m5.3 16c .3 0 .6-.1.8-.4l6.8-6.7c.5-.5.5-1.3 0-1.8l-6.8-6.7c-.5-.5-1.2-.5-1.7 0s-.5 1.2 0 1.7l5.8 5.9-5.8 5.9c-.5.5-.5 1.2 0 1.7.2.3.5.4.9.4\"></path></svg></span></button></div></div><div class=\"_1coc2b2\"></div></div></div></div><div class=\"_tmwq9g\"><div class=\"_r6zroz\"><div class=\"_1jzvdu8\"><div class=\"_1tanv1h\" style=\"margin-bottom:4px\"><div class=\"_167qordg\">Private room in Kecamatan Kuta Selatan</div></div><div class=\"_bzh5lkq\" style=\"line-height:24px;max-height:24px;overflow:hidden;text-overflow:ellipsis;display:-webkit-box;-webkit-line-clamp:1;-webkit-box-orient:vertical\">Rasa sayang double room 208</div></div></div><div class=\"_12xcxtl\" style=\"margin-top:11px;width:32px\"></div><div class=\"_kqh46o\" style=\"margin-top:9px\">2 guests<span aria-hidden=\"true\"> · </span>1 bedroom<span aria-hidden=\"true\"> · </span>1 bed<span aria-hidden=\"true\"> · </span>1 shared bath</div><div class=\"_kqh46o\" style=\"margin-top:4px\">Wifi<span aria-hidden=\"true\"> · </span>Air conditioning</div><div class=\"_1bbeetd\"><div class=\"_ls0e43\"><div class=\"_l2ulkt8\"><div class=\"_1fwiw8gv\"><span><span class=\"_1p7iugi\"><span class=\"_krjbj\">Price:</span>$9</span> / night</span></div><div class=\"_vsjqit\" style=\"margin-top:2px\"><span class=\"_krjbj\">Price:</span><div class=\"_17y0hv9\"><div><button class=\"_ebe4pze\" type=\"button\">$50 total<span class=\"_krjbj\">Show details</span></button></div></div></div></div></div></div></div></div><div></div><div style=\"margin-top:24px;margin-bottom:0\"><div class=\"_7qp4lh\"></div></div></div></div></div></div></div>]"
            ]
          },
          "metadata": {
            "tags": []
          },
          "execution_count": 7
        }
      ]
    },
    {
      "cell_type": "markdown",
      "metadata": {
        "deletable": false,
        "editable": false,
        "nbgrader": {
          "cell_type": "markdown",
          "checksum": "c1775b8745f8d916797798ff26cf2818",
          "grade": false,
          "grade_id": "cell-2819b31a4a01cc6b",
          "locked": true,
          "schema_version": 3,
          "solution": false,
          "task": false
        },
        "id": "ttCqezQNO5rT"
      },
      "source": [
        "The following cell runs additional checks to your code. Please **don't write any code here**. Just leave it as it is."
      ]
    },
    {
      "cell_type": "code",
      "metadata": {
        "deletable": false,
        "editable": false,
        "nbgrader": {
          "cell_type": "code",
          "checksum": "1996fada8e838cb2dc6b123f5e407f2a",
          "grade": true,
          "grade_id": "cell-4b33d651bee3f077",
          "locked": true,
          "points": 0.5,
          "schema_version": 3,
          "solution": false,
          "task": false
        },
        "id": "wPy7n9hCO5rT"
      },
      "source": [
        "# LEAVE BLANK"
      ],
      "execution_count": 8,
      "outputs": []
    },
    {
      "cell_type": "markdown",
      "metadata": {
        "deletable": false,
        "editable": false,
        "nbgrader": {
          "cell_type": "markdown",
          "checksum": "98bc520139204aa779166e593cafdbf8",
          "grade": false,
          "grade_id": "cell-847592f1ed1f91e0",
          "locked": true,
          "schema_version": 3,
          "solution": false,
          "task": false
        },
        "id": "yQuHt08MO5rT"
      },
      "source": [
        "## Retrieving the data\n",
        "\n",
        "Now that you wrote the function to retrieve the code for all the separate listings, let's retrieve separate information for each of them.\n",
        "\n",
        "<div class=\"alert alert-info\"><b>Exercise 3 </b>Write the code to complete function <i>get_listing_title</i>. This function should take a soup object containing the code for an individual listing as input and return a <b>string </b>with its title as output. If no title is listed, then the function should return a <i>None</i> in boolean form.</div>"
      ]
    },
    {
      "cell_type": "code",
      "metadata": {
        "deletable": false,
        "nbgrader": {
          "cell_type": "code",
          "checksum": "d6a924bbd8f1e5371c49bb122ec53842",
          "grade": false,
          "grade_id": "cell-e8f86186ea01c58b",
          "locked": false,
          "schema_version": 3,
          "solution": true,
          "task": false
        },
        "id": "uAkkNIBEO5rT"
      },
      "source": [
        "def get_listing_title(listing):\n",
        "#With .find we get the string of an individual listing, with .find_all we would get a list with all titles.\n",
        "  for l in listing:\n",
        "    try:\n",
        "      return str(l.find('div', {'class': '_bzh5lkq'}).text)\n",
        "    except:\n",
        "      return None"
      ],
      "execution_count": 9,
      "outputs": []
    },
    {
      "cell_type": "code",
      "metadata": {
        "colab": {
          "base_uri": "https://localhost:8080/",
          "height": 35
        },
        "id": "s_o_e_Ce6EBg",
        "outputId": "f6cbf3b8-24ec-458b-f346-8fd651e5340b"
      },
      "source": [
        "get_listing_title(get_listings(page_1)[0])"
      ],
      "execution_count": 10,
      "outputs": [
        {
          "output_type": "execute_result",
          "data": {
            "application/vnd.google.colaboratory.intrinsic+json": {
              "type": "string"
            },
            "text/plain": [
              "'2BR & Private Pool luxury villa Seminyak'"
            ]
          },
          "metadata": {
            "tags": []
          },
          "execution_count": 10
        }
      ]
    },
    {
      "cell_type": "code",
      "metadata": {
        "colab": {
          "base_uri": "https://localhost:8080/"
        },
        "id": "if8twf1rfGtw",
        "outputId": "48d8d020-e55a-45b8-86e2-9a9045d0dd30"
      },
      "source": [
        "type(get_listing_title(get_listings(page_1)[0]))"
      ],
      "execution_count": 11,
      "outputs": [
        {
          "output_type": "execute_result",
          "data": {
            "text/plain": [
              "str"
            ]
          },
          "metadata": {
            "tags": []
          },
          "execution_count": 11
        }
      ]
    },
    {
      "cell_type": "markdown",
      "metadata": {
        "deletable": false,
        "editable": false,
        "nbgrader": {
          "cell_type": "markdown",
          "checksum": "371cb767361e96d177d3c6aa43b07b8e",
          "grade": false,
          "grade_id": "cell-ad7819fd2d105e26",
          "locked": true,
          "schema_version": 3,
          "solution": false,
          "task": false
        },
        "id": "4IsslsO_O5rT"
      },
      "source": [
        "The following cell runs additional checks to your code. Please **don't write any code here**. Just leave it as it is."
      ]
    },
    {
      "cell_type": "code",
      "metadata": {
        "deletable": false,
        "editable": false,
        "nbgrader": {
          "cell_type": "code",
          "checksum": "60521153e577a891ce1a72a0addf9fc7",
          "grade": true,
          "grade_id": "cell-45c2a243fd718e24",
          "locked": true,
          "points": 0.5,
          "schema_version": 3,
          "solution": false,
          "task": false
        },
        "id": "cr27YjexO5rT"
      },
      "source": [
        "# LEAVE BLANK"
      ],
      "execution_count": 12,
      "outputs": []
    },
    {
      "cell_type": "markdown",
      "metadata": {
        "deletable": false,
        "editable": false,
        "nbgrader": {
          "cell_type": "markdown",
          "checksum": "ca8bbf85e2a335672366df51874ac125",
          "grade": false,
          "grade_id": "cell-4002dcc653300291",
          "locked": true,
          "schema_version": 3,
          "solution": false,
          "task": false
        },
        "id": "hzDLO7RWO5rT"
      },
      "source": [
        "<div class=\"alert alert-info\"><b>Exercise 4 </b>Write the code to complete function <i>get_listing_subtitle</i>. This function should take a soup object containing the code for an individual listing as input and return a <b>string</b> with its subtitle as output. If no subtitle is listed, then the function should return a <i>None</i> in boolean form.</div>"
      ]
    },
    {
      "cell_type": "code",
      "metadata": {
        "deletable": false,
        "nbgrader": {
          "cell_type": "code",
          "checksum": "f4eb153cbd870c227c9c3ab7091d1c8d",
          "grade": false,
          "grade_id": "cell-1689d7e4d996b9f4",
          "locked": false,
          "schema_version": 3,
          "solution": true,
          "task": false
        },
        "id": "eYrvwTLWO5rT"
      },
      "source": [
        "def get_listing_subtitle(listing):\n",
        "\n",
        "#With .find we get the string of an individual listing, with .find_all we would get a list with all titles.\n",
        "  for l in listing:\n",
        "    try:\n",
        "      return str(l.find('div', {'class': '_1tanv1h'}).text)\n",
        "    except:\n",
        "      return None"
      ],
      "execution_count": 13,
      "outputs": []
    },
    {
      "cell_type": "code",
      "metadata": {
        "colab": {
          "base_uri": "https://localhost:8080/",
          "height": 35
        },
        "id": "WjiMInlF31EI",
        "outputId": "1f9e2ebe-ef50-43c5-ad98-70eac63b77ef"
      },
      "source": [
        "get_listing_subtitle(get_listings(page_1)[0])"
      ],
      "execution_count": 14,
      "outputs": [
        {
          "output_type": "execute_result",
          "data": {
            "application/vnd.google.colaboratory.intrinsic+json": {
              "type": "string"
            },
            "text/plain": [
              "'Entire villa in Kuta Utara'"
            ]
          },
          "metadata": {
            "tags": []
          },
          "execution_count": 14
        }
      ]
    },
    {
      "cell_type": "code",
      "metadata": {
        "colab": {
          "base_uri": "https://localhost:8080/"
        },
        "id": "bZe2NbDhpKfu",
        "outputId": "79844941-c366-4615-e694-20aa48756855"
      },
      "source": [
        "type(get_listing_subtitle(get_listings(page_1)[0]))"
      ],
      "execution_count": 15,
      "outputs": [
        {
          "output_type": "execute_result",
          "data": {
            "text/plain": [
              "str"
            ]
          },
          "metadata": {
            "tags": []
          },
          "execution_count": 15
        }
      ]
    },
    {
      "cell_type": "markdown",
      "metadata": {
        "deletable": false,
        "editable": false,
        "nbgrader": {
          "cell_type": "markdown",
          "checksum": "43692e2e24ab9dd35e79ae0f26396f12",
          "grade": false,
          "grade_id": "cell-ad781fd2d105e26",
          "locked": true,
          "schema_version": 3,
          "solution": false,
          "task": false
        },
        "id": "sjWdrgn7O5rT"
      },
      "source": [
        "The following cell runs additional checks to your code. Please **don't write any code here**. Just leave it as it is."
      ]
    },
    {
      "cell_type": "code",
      "metadata": {
        "deletable": false,
        "editable": false,
        "nbgrader": {
          "cell_type": "code",
          "checksum": "1929fa4f160cfcfc245346f5db7b1d70",
          "grade": true,
          "grade_id": "cell-45c2a243fd78e24",
          "locked": true,
          "points": 0.5,
          "schema_version": 3,
          "solution": false,
          "task": false
        },
        "id": "28dTu8I2O5rT"
      },
      "source": [
        "# LEAVE BLANK"
      ],
      "execution_count": 16,
      "outputs": []
    },
    {
      "cell_type": "markdown",
      "metadata": {
        "deletable": false,
        "editable": false,
        "nbgrader": {
          "cell_type": "markdown",
          "checksum": "9c3cbab44bbf0d8714ce2904ea6487fb",
          "grade": false,
          "grade_id": "cell-b0d42d4b36c13526",
          "locked": true,
          "schema_version": 3,
          "solution": false,
          "task": false
        },
        "id": "e7hDgNsnO5rT"
      },
      "source": [
        "Right below each listing's title there's a list of attribute that contains information about the number of guests allowed, the number of bedrooms, the number of beds and the number bathrooms. Let's create a new function that retrieves this information for each separate listing. \n",
        "\n",
        "<div class=\"alert alert-info\"><b>Exercise 5 </b>Write the code to complete function <i>get_listing_info</i>. This function should take a soup object containing the code for an individual listing as input and return a <b>string</b> with the general listing information as output. If no information is provided, then the function should return a <i>None</i> in boolean form.</div>\n",
        "\n",
        "<div class=\"alert alert-warning\">For the example shown above, the function get_listing_info should return a string \"2 guests · 1 bedroom · 1 bed · 1.5 baths\".</div>"
      ]
    },
    {
      "cell_type": "code",
      "metadata": {
        "deletable": false,
        "nbgrader": {
          "cell_type": "code",
          "checksum": "124cd05cdb9a68534313ec36b125af00",
          "grade": false,
          "grade_id": "cell-8cd48dced81c6a67",
          "locked": false,
          "schema_version": 3,
          "solution": true,
          "task": false
        },
        "id": "6cdlJ3YvO5rT"
      },
      "source": [
        "def get_listing_info(listing):\n",
        "\n",
        "    for l in listing:\n",
        "        try:\n",
        "            return str(l.find_all('div', {'class': '_kqh46o'})[0].text)\n",
        "        except:\n",
        "            return None"
      ],
      "execution_count": 17,
      "outputs": []
    },
    {
      "cell_type": "code",
      "metadata": {
        "colab": {
          "base_uri": "https://localhost:8080/",
          "height": 35
        },
        "id": "F414B0aCWZxP",
        "outputId": "1af7aa8f-2fdd-4862-cf8d-bfc172f7120c"
      },
      "source": [
        "get_listing_info(get_listings(page_1)[0])"
      ],
      "execution_count": 18,
      "outputs": [
        {
          "output_type": "execute_result",
          "data": {
            "application/vnd.google.colaboratory.intrinsic+json": {
              "type": "string"
            },
            "text/plain": [
              "'4 guests · 2 bedrooms · 2 beds · 2 baths'"
            ]
          },
          "metadata": {
            "tags": []
          },
          "execution_count": 18
        }
      ]
    },
    {
      "cell_type": "code",
      "metadata": {
        "colab": {
          "base_uri": "https://localhost:8080/"
        },
        "id": "46b5KFYEmOxQ",
        "outputId": "d0b862c9-a804-4d3a-b0a6-9eaf93a90cba"
      },
      "source": [
        "type(get_listing_info(get_listings(page_1)[0]))"
      ],
      "execution_count": 19,
      "outputs": [
        {
          "output_type": "execute_result",
          "data": {
            "text/plain": [
              "str"
            ]
          },
          "metadata": {
            "tags": []
          },
          "execution_count": 19
        }
      ]
    },
    {
      "cell_type": "markdown",
      "metadata": {
        "deletable": false,
        "editable": false,
        "nbgrader": {
          "cell_type": "markdown",
          "checksum": "716a512d8d81f236b122f13fa97957ca",
          "grade": false,
          "grade_id": "cell-6ceb170594b64bcc",
          "locked": true,
          "schema_version": 3,
          "solution": false,
          "task": false
        },
        "id": "tA15s52qO5rT"
      },
      "source": [
        "The following cell runs additional checks to your code. Please **don't write any code here**. Just leave it as it is."
      ]
    },
    {
      "cell_type": "code",
      "metadata": {
        "deletable": false,
        "editable": false,
        "nbgrader": {
          "cell_type": "code",
          "checksum": "6bc74cc7fa4f31aa56b6a01adec24b18",
          "grade": true,
          "grade_id": "cell-e8a436310f15ed08",
          "locked": true,
          "points": 0.5,
          "schema_version": 3,
          "solution": false,
          "task": false
        },
        "id": "oausnteWO5rT"
      },
      "source": [
        "# LEAVE BLANK"
      ],
      "execution_count": 20,
      "outputs": []
    },
    {
      "cell_type": "markdown",
      "metadata": {
        "deletable": false,
        "editable": false,
        "nbgrader": {
          "cell_type": "markdown",
          "checksum": "2e400f9325f82a33878226e0ef45ff07",
          "grade": false,
          "grade_id": "cell-d4b9f8970c8c331f",
          "locked": true,
          "schema_version": 3,
          "solution": false,
          "task": false
        },
        "id": "LoMY00k-O5rT"
      },
      "source": [
        "Below that information list, there is yet another list that contains information about different ammenities.\n",
        "\n",
        "<div class=\"alert alert-info\"><b>Exercise 6 </b>Write the code to complete function <i>get_listing_ammenities</i>. This function should take a soup object containing the code for an individual listing as input and return a <b>string</b> with the listing ammenities information as output. If no information is provided, then the function should return a <i>None</i> in boolean form.</div>\n",
        "\n",
        "<div class=\"alert alert-warning\">For the example shown above, the function get_listing_ammenities should return a string \"Pool · Wifi · Air conditioning · Kitchen\".</div>"
      ]
    },
    {
      "cell_type": "markdown",
      "metadata": {
        "id": "P9XVQ-XtaTaR"
      },
      "source": [
        ""
      ]
    },
    {
      "cell_type": "code",
      "metadata": {
        "deletable": false,
        "nbgrader": {
          "cell_type": "code",
          "checksum": "54a80d468b1add34315cc6b7feeb53fb",
          "grade": false,
          "grade_id": "cell-2e7e3371291fdb72",
          "locked": false,
          "schema_version": 3,
          "solution": true,
          "task": false
        },
        "id": "9iC6f4KIO5rT"
      },
      "source": [
        "def get_listing_ammenities(listing):\n",
        "    for l in listing:\n",
        "        try:\n",
        "            return str(l.find_all('div', {'class': '_kqh46o'})[1].text)\n",
        "        except:\n",
        "            return None"
      ],
      "execution_count": 21,
      "outputs": []
    },
    {
      "cell_type": "code",
      "metadata": {
        "colab": {
          "base_uri": "https://localhost:8080/",
          "height": 35
        },
        "id": "l_dI4b4y2cFJ",
        "outputId": "d2067a1e-f22e-40a1-85ee-7bc042631bfd"
      },
      "source": [
        "get_listing_ammenities(get_listings(page_1)[0])"
      ],
      "execution_count": 22,
      "outputs": [
        {
          "output_type": "execute_result",
          "data": {
            "application/vnd.google.colaboratory.intrinsic+json": {
              "type": "string"
            },
            "text/plain": [
              "'Pool · Wifi · Air conditioning · Kitchen'"
            ]
          },
          "metadata": {
            "tags": []
          },
          "execution_count": 22
        }
      ]
    },
    {
      "cell_type": "code",
      "metadata": {
        "colab": {
          "base_uri": "https://localhost:8080/"
        },
        "id": "sthXMhYvzULS",
        "outputId": "4d901661-3cbd-477b-cdbc-e6bdaad91cfb"
      },
      "source": [
        "type(get_listing_ammenities(get_listings(page_1)[0]))"
      ],
      "execution_count": 23,
      "outputs": [
        {
          "output_type": "execute_result",
          "data": {
            "text/plain": [
              "str"
            ]
          },
          "metadata": {
            "tags": []
          },
          "execution_count": 23
        }
      ]
    },
    {
      "cell_type": "markdown",
      "metadata": {
        "deletable": false,
        "editable": false,
        "nbgrader": {
          "cell_type": "markdown",
          "checksum": "79cea87db3731fcd271e77bfd8415290",
          "grade": false,
          "grade_id": "cell-f2ae61060678b8a1",
          "locked": true,
          "schema_version": 3,
          "solution": false,
          "task": false
        },
        "id": "giF4j1OuO5rT"
      },
      "source": [
        "The following cell runs additional checks to your code. Please **don't write any code here**. Just leave it as it is."
      ]
    },
    {
      "cell_type": "code",
      "metadata": {
        "deletable": false,
        "editable": false,
        "nbgrader": {
          "cell_type": "code",
          "checksum": "df460d5ce01b1e1f50398c9519f0efa4",
          "grade": true,
          "grade_id": "cell-bf2c12476bb13d0d",
          "locked": true,
          "points": 0.5,
          "schema_version": 3,
          "solution": false,
          "task": false
        },
        "id": "9Nw6tGVcO5rT"
      },
      "source": [
        "# LEAVE BLANK"
      ],
      "execution_count": 24,
      "outputs": []
    },
    {
      "cell_type": "markdown",
      "metadata": {
        "id": "aSgUD_8NO5rT"
      },
      "source": [
        "<div class=\"alert alert-info\"><b>Exercise 7 </b>Write the code to complete function <i>get_listing_rating</i>. This function should take a soup object containing the code for an individual listing as input and return a <b>float</b> with its average rating as output. If no rating is listed, then the function should return a <i>None</i> in boolean form.</div>"
      ]
    },
    {
      "cell_type": "code",
      "metadata": {
        "deletable": false,
        "nbgrader": {
          "cell_type": "code",
          "checksum": "250492ea91d69c1e4f152600a210762d",
          "grade": false,
          "grade_id": "cell-f2bc50624dbb40ce",
          "locked": false,
          "schema_version": 3,
          "solution": true,
          "task": false
        },
        "id": "_aRVKZJaO5rT"
      },
      "source": [
        "def get_listing_rating(listing):\n",
        "    for l in listing:\n",
        "        try:\n",
        "            return float(l.find('span', {'class': '_10fy1f8'}).text)\n",
        "        except:\n",
        "            return None"
      ],
      "execution_count": 25,
      "outputs": []
    },
    {
      "cell_type": "code",
      "metadata": {
        "colab": {
          "base_uri": "https://localhost:8080/"
        },
        "id": "p6ExCkVvbRfI",
        "outputId": "af5f250d-c219-465d-e80a-9945910bbc20"
      },
      "source": [
        "get_listing_rating(get_listings(page_1)[1])"
      ],
      "execution_count": 26,
      "outputs": [
        {
          "output_type": "execute_result",
          "data": {
            "text/plain": [
              "4.82"
            ]
          },
          "metadata": {
            "tags": []
          },
          "execution_count": 26
        }
      ]
    },
    {
      "cell_type": "code",
      "metadata": {
        "colab": {
          "base_uri": "https://localhost:8080/"
        },
        "id": "ac53SfGQ_oiX",
        "outputId": "02aba863-1770-4e03-8bc0-12d8e4d0e557"
      },
      "source": [
        "type(get_listing_rating(get_listings(page_1)[1]))"
      ],
      "execution_count": 27,
      "outputs": [
        {
          "output_type": "execute_result",
          "data": {
            "text/plain": [
              "float"
            ]
          },
          "metadata": {
            "tags": []
          },
          "execution_count": 27
        }
      ]
    },
    {
      "cell_type": "markdown",
      "metadata": {
        "deletable": false,
        "editable": false,
        "nbgrader": {
          "cell_type": "markdown",
          "checksum": "be7394478cbe13a89c599643b7850051",
          "grade": false,
          "grade_id": "cell-ad781fd2d10e26",
          "locked": true,
          "schema_version": 3,
          "solution": false,
          "task": false
        },
        "id": "Gqrjp8d4O5rT"
      },
      "source": [
        "The following cell runs additional checks to your code. Please **don't write any code here**. Just leave it as it is."
      ]
    },
    {
      "cell_type": "code",
      "metadata": {
        "deletable": false,
        "editable": false,
        "nbgrader": {
          "cell_type": "code",
          "checksum": "2464f518fcb8e29342aa0ce78cb2b2bf",
          "grade": true,
          "grade_id": "cell-4c2a243fd78e24",
          "locked": true,
          "points": 0.75,
          "schema_version": 3,
          "solution": false,
          "task": false
        },
        "id": "8SY_UrI7O5rT"
      },
      "source": [
        "# LEAVE BLANK"
      ],
      "execution_count": 28,
      "outputs": []
    },
    {
      "cell_type": "markdown",
      "metadata": {
        "id": "q6I4u6SHO5rT"
      },
      "source": [
        "<div class=\"alert alert-info\"><b>Exercise 8 </b>Write the code to complete function <i>get_listing_reviews</i>. This function should take a soup object containing the code for an individual listing as input and return an <b>int</b> with its number of reviews as output. If no reviews are included, then the function should return a <i>None</i> in boolean form.</div>"
      ]
    },
    {
      "cell_type": "code",
      "metadata": {
        "deletable": false,
        "nbgrader": {
          "cell_type": "code",
          "checksum": "ff5ea4ba19f3c9c0664f957914ef6df4",
          "grade": false,
          "grade_id": "cell-83a938a9399a8a44",
          "locked": false,
          "schema_version": 3,
          "solution": true,
          "task": false
        },
        "id": "4SiyHPz2O5rT"
      },
      "source": [
        "def get_listing_reviews(listing):\n",
        "  for l in listing: \n",
        "    try:\n",
        "      d = (l.find(\"span\", {\"class\": \"_a7a5sx\"}).text).split()[0]\n",
        "      return (int(d[1:len(d)-1]))\n",
        "    except:\n",
        "      return None\n",
        "\n",
        "#In the first line after the else we obtain the number in this form \"\\xa0(47)\". First we split the string so that we only have the (47)\n",
        "#Then we have to remove the parenthesis and retrieve the number as an int. \n",
        "#We retrieve the first character of the number (4) and then all the characters until the last (7). To do this we want the length of the string minus 1, cause we don't want the parenthesis\n",
        "#Then, we convert it to an integer with int() function."
      ],
      "execution_count": 29,
      "outputs": []
    },
    {
      "cell_type": "code",
      "metadata": {
        "colab": {
          "base_uri": "https://localhost:8080/"
        },
        "id": "FezKsEmEchgS",
        "outputId": "aab103b4-0faf-4ec6-c9fd-872ba257bf89"
      },
      "source": [
        "get_listing_reviews(get_listings(page_1)[1])"
      ],
      "execution_count": 30,
      "outputs": [
        {
          "output_type": "execute_result",
          "data": {
            "text/plain": [
              "310"
            ]
          },
          "metadata": {
            "tags": []
          },
          "execution_count": 30
        }
      ]
    },
    {
      "cell_type": "code",
      "metadata": {
        "colab": {
          "base_uri": "https://localhost:8080/"
        },
        "id": "9vlKO64Qqqs9",
        "outputId": "e171afdd-f953-48b3-b938-5579e9adf649"
      },
      "source": [
        "type(get_listing_reviews(get_listings(page_1)[1]))"
      ],
      "execution_count": 31,
      "outputs": [
        {
          "output_type": "execute_result",
          "data": {
            "text/plain": [
              "int"
            ]
          },
          "metadata": {
            "tags": []
          },
          "execution_count": 31
        }
      ]
    },
    {
      "cell_type": "markdown",
      "metadata": {
        "deletable": false,
        "editable": false,
        "nbgrader": {
          "cell_type": "markdown",
          "checksum": "dfce2acb241282a1617cf9b81f098346",
          "grade": false,
          "grade_id": "cell-d781fd2d10e26",
          "locked": true,
          "schema_version": 3,
          "solution": false,
          "task": false
        },
        "id": "rngGHPYJO5rT"
      },
      "source": [
        "The following cell runs additional checks to your code. Please **don't write any code here**. Just leave it as it is."
      ]
    },
    {
      "cell_type": "code",
      "metadata": {
        "deletable": false,
        "editable": false,
        "nbgrader": {
          "cell_type": "code",
          "checksum": "9488541045fb888aa3e9f20b8ad68c9f",
          "grade": true,
          "grade_id": "cell-42a243fd78e24",
          "locked": true,
          "points": 0.75,
          "schema_version": 3,
          "solution": false,
          "task": false
        },
        "id": "6gXRU64HO5rT"
      },
      "source": [
        "# LEAVE BLANK"
      ],
      "execution_count": 32,
      "outputs": []
    },
    {
      "cell_type": "markdown",
      "metadata": {
        "deletable": false,
        "editable": false,
        "nbgrader": {
          "cell_type": "markdown",
          "checksum": "6b3d10c60c102172b9c76f43270e7240",
          "grade": false,
          "grade_id": "cell-bd598b09b5bbae98",
          "locked": true,
          "schema_version": 3,
          "solution": false,
          "task": false
        },
        "id": "jzhFBDCGO5rT"
      },
      "source": [
        "<div class=\"alert alert-info\"><b>Exercise 9 </b>Write the code to complete function <i>get_listing_price_per_night</i>. This function should take a soup object containing the code for an individual listing as input and return a <b>str</b> with its corresponding price per night. The string should only contain the actual number, nothing else. If no price is listed, then the function should return a <i>None</i> in boolean form.</div>"
      ]
    },
    {
      "cell_type": "code",
      "metadata": {
        "id": "GN-vp09MR2Ig"
      },
      "source": [
        "def get_listing_price_per_night(listing):\n",
        "\n",
        "  for l in listing: \n",
        "    try:\n",
        "      price = l.find('span', {'class': '_1p7iugi'}).text.split()\n",
        "      if len(price) == 1:\n",
        "        return str(price[0].lower().strip('price:$'))\n",
        "      if len(price) == 3:\n",
        "        return str(price[1].lower().strip('price:$').strip('discounted'))\n",
        "    except: \n",
        "      return None\n",
        "\n",
        "#The output returns something like \"previous price$92DiscountedPrice:$56\" or \"Price:$92\"\n",
        "#If the lenght is equal to 1 (second case) we can remove the Price:$ part\n",
        "#If the lenght is equal to 3 (third case) we can remove the Price:$ part and then the discounted part\n",
        "#We lower case everything cause maybe in some instances its \"discounted\" rather than \"Discounted\""
      ],
      "execution_count": 74,
      "outputs": []
    },
    {
      "cell_type": "code",
      "metadata": {
        "id": "7Ffu6zAAqYvk",
        "colab": {
          "base_uri": "https://localhost:8080/",
          "height": 35
        },
        "outputId": "f34945e2-2299-4a14-c5ab-f1fe87fa7be7"
      },
      "source": [
        "get_listing_price_per_night(get_listings(get_page(url)))"
      ],
      "execution_count": 77,
      "outputs": [
        {
          "output_type": "execute_result",
          "data": {
            "application/vnd.google.colaboratory.intrinsic+json": {
              "type": "string"
            },
            "text/plain": [
              "'77'"
            ]
          },
          "metadata": {
            "tags": []
          },
          "execution_count": 77
        }
      ]
    },
    {
      "cell_type": "code",
      "metadata": {
        "colab": {
          "base_uri": "https://localhost:8080/"
        },
        "id": "CZwbeS7Cu19V",
        "outputId": "18589d6e-26b5-4966-c874-8e2bd5ccfc74"
      },
      "source": [
        "type(get_listing_price_per_night(get_listings(get_page(url))))"
      ],
      "execution_count": 76,
      "outputs": [
        {
          "output_type": "execute_result",
          "data": {
            "text/plain": [
              "str"
            ]
          },
          "metadata": {
            "tags": []
          },
          "execution_count": 76
        }
      ]
    },
    {
      "cell_type": "markdown",
      "metadata": {
        "deletable": false,
        "editable": false,
        "nbgrader": {
          "cell_type": "markdown",
          "checksum": "2590d2390d4bfda86aca3bef3328ce5d",
          "grade": false,
          "grade_id": "cell-4be125725c82984f",
          "locked": true,
          "schema_version": 3,
          "solution": false,
          "task": false
        },
        "id": "8kMf0Sy1O5rT"
      },
      "source": [
        "The following cell runs additional checks to your code. Please **don't write any code here**. Just leave it as it is."
      ]
    },
    {
      "cell_type": "code",
      "metadata": {
        "deletable": false,
        "editable": false,
        "nbgrader": {
          "cell_type": "code",
          "checksum": "7b261cbf3c4361a145cb7eaf67086786",
          "grade": true,
          "grade_id": "cell-53705be480bdba16",
          "locked": true,
          "points": 1.5,
          "schema_version": 3,
          "solution": false,
          "task": false
        },
        "id": "YAKUxfbLO5rT"
      },
      "source": [
        "# LEAVE BLANK"
      ],
      "execution_count": 36,
      "outputs": []
    },
    {
      "cell_type": "markdown",
      "metadata": {
        "deletable": false,
        "editable": false,
        "nbgrader": {
          "cell_type": "markdown",
          "checksum": "2ff2f0995c377277d430f82e2c3c049a",
          "grade": false,
          "grade_id": "cell-61dbba21276d1bb9",
          "locked": true,
          "schema_version": 3,
          "solution": false,
          "task": false
        },
        "id": "10R9QgHDO5rT"
      },
      "source": [
        "<div class=\"alert alert-info\"><b>Exercise 10 </b>Write the code to complete function <i>get_listing_total_price</i>. This function should take a soup object containing the code for an individual listing as input and return a <b>string</b> with its total price. This string should only contain the actual number, nothing else. If no total price is listed, then the function should return a <i>None</i> in boolean form.</div>"
      ]
    },
    {
      "cell_type": "code",
      "metadata": {
        "id": "D9ozHrn2k1-N"
      },
      "source": [
        "def get_listing_total_price(listing):\n",
        "  for l in listing:\n",
        "    try:\n",
        "      return l.find('button', {'class': '_ebe4pze'}).text.split(\"$\")[1].split()[0]\n",
        "    except:\n",
        "      return None\n",
        "\n",
        "#We want the first and only value of the list \n",
        "#The output returns something like \"$398 totalShow details\"-> with split()the output is \"['$485', 'totalShow', 'details']\"\n",
        "#With .split()[0] the output is-> '$485'\n",
        "#With .split()[0].split($) I get [$, 485]\n",
        "#With .split()[0].split($)[1] I get 485 "
      ],
      "execution_count": 37,
      "outputs": []
    },
    {
      "cell_type": "code",
      "metadata": {
        "colab": {
          "base_uri": "https://localhost:8080/",
          "height": 35
        },
        "id": "AEEHuBLqrmsg",
        "outputId": "508315e0-f8ed-4df4-d421-2e1b70979382"
      },
      "source": [
        "get_listing_total_price(get_listings(page_1)[8])"
      ],
      "execution_count": 38,
      "outputs": [
        {
          "output_type": "execute_result",
          "data": {
            "application/vnd.google.colaboratory.intrinsic+json": {
              "type": "string"
            },
            "text/plain": [
              "'89'"
            ]
          },
          "metadata": {
            "tags": []
          },
          "execution_count": 38
        }
      ]
    },
    {
      "cell_type": "code",
      "metadata": {
        "colab": {
          "base_uri": "https://localhost:8080/"
        },
        "id": "9fQLfcgZvDNX",
        "outputId": "49f6d696-f2a8-4bc9-834e-bbb9a5ae2f84"
      },
      "source": [
        "type(get_listing_total_price(get_listings(page_1)[8]))"
      ],
      "execution_count": 39,
      "outputs": [
        {
          "output_type": "execute_result",
          "data": {
            "text/plain": [
              "str"
            ]
          },
          "metadata": {
            "tags": []
          },
          "execution_count": 39
        }
      ]
    },
    {
      "cell_type": "markdown",
      "metadata": {
        "deletable": false,
        "editable": false,
        "nbgrader": {
          "cell_type": "markdown",
          "checksum": "f3417f8bb5597bbb3fd7605c60f8bcdb",
          "grade": false,
          "grade_id": "cell-bb50a747c535f555",
          "locked": true,
          "schema_version": 3,
          "solution": false,
          "task": false
        },
        "id": "ZfQOHdsoO5rT"
      },
      "source": [
        "The following cell runs additional checks to your code. Please **don't write any code here**. Just leave it as it is."
      ]
    },
    {
      "cell_type": "code",
      "metadata": {
        "deletable": false,
        "editable": false,
        "nbgrader": {
          "cell_type": "code",
          "checksum": "b234cf2e1dc71fc1e0273d1bad7157af",
          "grade": true,
          "grade_id": "cell-f153c404e92c8d71",
          "locked": true,
          "points": 1,
          "schema_version": 3,
          "solution": false,
          "task": false
        },
        "id": "eZpyTbgUO5rT"
      },
      "source": [
        "# LEAVE BLANK"
      ],
      "execution_count": 40,
      "outputs": []
    },
    {
      "cell_type": "markdown",
      "metadata": {
        "id": "PKio2h-qO5rT"
      },
      "source": [
        "Final thing left to do it to come up with a way to extract the data from all the different pages. At the end of each page, there is a link that allows you to access the next page.\n",
        "\n",
        "<div class=\"alert alert-info\"><b>Exercise 11 </b>Write the code to complete function <i>find_next_page</i>.This function should take a soup object containing the code for an individual page as input and return the <b> complete url</b> for the next page. If there are no more pages left, it should return a <i>None</i> in boolean form. The base_url has already been defined for you.</div>"
      ]
    },
    {
      "cell_type": "code",
      "metadata": {
        "id": "gYp2wQeTqVC8"
      },
      "source": [
        "def find_next_page(page):\n",
        "  base_url = \"https://airbnb.com\"\n",
        "  try:\n",
        "    nextpage = base_url + get_page(url).find_all(\"div\", {\"class\": \"_jro6t0\"})[0].find(\"a\",{'class':'_za9j7e'})['href']\n",
        "  except:\n",
        "    nextpage = None\n",
        "  return nextpage\n",
        "    \n",
        "#find_next_page(url)"
      ],
      "execution_count": 41,
      "outputs": []
    },
    {
      "cell_type": "code",
      "metadata": {
        "colab": {
          "base_uri": "https://localhost:8080/",
          "height": 69
        },
        "id": "nee3MmmmSqPL",
        "outputId": "f5229f03-1c3d-403d-926e-7670da261bb0"
      },
      "source": [
        "find_next_page(get_page(url))"
      ],
      "execution_count": 42,
      "outputs": [
        {
          "output_type": "execute_result",
          "data": {
            "application/vnd.google.colaboratory.intrinsic+json": {
              "type": "string"
            },
            "text/plain": [
              "'https://airbnb.com/s/Bali--Indonesia/homes?tab_id=home_tab&checkin=2020-12-29&refinement_paths%5B%5D=%2Fhomes&source=structured_search_input_header&checkout=2021-01-03&search_type=pagination&place_id=ChIJoQ8Q6NNB0S0RkOYkS7EPkSQ&federated_search_session_id=a8d358ed-26cc-4f53-a4e0-43a437a0151b&items_offset=20&section_offset=3'"
            ]
          },
          "metadata": {
            "tags": []
          },
          "execution_count": 42
        }
      ]
    },
    {
      "cell_type": "markdown",
      "metadata": {
        "deletable": false,
        "editable": false,
        "nbgrader": {
          "cell_type": "markdown",
          "checksum": "5998392469b5c111a4f77adc3705f52c",
          "grade": false,
          "grade_id": "cell-bb50a747c535f55",
          "locked": true,
          "schema_version": 3,
          "solution": false,
          "task": false
        },
        "id": "n4yQDUIEO5rT"
      },
      "source": [
        "The following cell runs additional checks to your code. Please **don't write any code here**. Just leave it as it is."
      ]
    },
    {
      "cell_type": "code",
      "metadata": {
        "deletable": false,
        "editable": false,
        "nbgrader": {
          "cell_type": "code",
          "checksum": "d808e335c7c1f93ade5a8955a561aa23",
          "grade": true,
          "grade_id": "cell-f153c04e92c8d71",
          "locked": true,
          "points": 1,
          "schema_version": 3,
          "solution": false,
          "task": false
        },
        "id": "Co73lpqlO5rT"
      },
      "source": [
        "# LEAVE BLANK"
      ],
      "execution_count": 43,
      "outputs": []
    },
    {
      "cell_type": "markdown",
      "metadata": {
        "deletable": false,
        "editable": false,
        "nbgrader": {
          "cell_type": "markdown",
          "checksum": "479a43b4a2f2303855b9e668d96888f2",
          "grade": false,
          "grade_id": "cell-144040afde561d2e",
          "locked": true,
          "schema_version": 3,
          "solution": false,
          "task": false
        },
        "id": "caxffuZLO5rT"
      },
      "source": [
        "Great! You now have all the functions you need to retrieve the data for the different listings, for all the different pages. Let's do just that.\n",
        "\n",
        "<div class=\"alert alert-info\"><b>Exercise 12 </b>Write the code to retrieve the data above for all the listings in all the different pages. Store this information in lists called <i>title</i>, <i>subtitle</i>, <i>info</i>, <i>ammenities</i>, <i>rating</i>, <i>reviews</i>, <i>price_per_night</i> and <i>total_price</i>. The lists have already been initialized for you.</div>\n",
        "\n",
        "<div class=\"alert alert-warning\">Take a moment to think how you can reuse all the code you already wrote to solve this exercise. You can of course come up with other ways to do it, but my advice is that you make sure you use all the functions above.</div>"
      ]
    },
    {
      "cell_type": "code",
      "metadata": {
        "id": "dg9rjYc1bEQR"
      },
      "source": [
        "title = []\n",
        "subtitle = []\n",
        "info = []\n",
        "ammenities = []\n",
        "rating = []\n",
        "reviews = []\n",
        "price_per_night = []\n",
        "total_price = []\n",
        "\n",
        "#First page url:\n",
        "url = 'https://www.airbnb.com/s/Bali--Indonesia/homes?tab_id=home_tab&refinement_paths%5B%5D=%2Fhomes&query=Bali%2C%20Indonesia&place_id=ChIJoQ8Q6NNB0S0RkOYkS7EPkSQ&checkin=2020-12-29&checkout=2021-01-03&source=structured_search_input_header&search_type=autocomplete_click'\n",
        "\n",
        "while url is not None:\n",
        "  soup = get_page(url)\n",
        "  listings = get_listings(soup)\n",
        "  for l in listings:\n",
        "    title.append(get_listing_title(l))\n",
        "    subtitle.append(get_listing_subtitle(l))\n",
        "    info.append(get_listing_info(l))\n",
        "    ammenities.append(get_listing_ammenities(l))\n",
        "    rating.append(get_listing_rating(l))\n",
        "    reviews.append(get_listing_reviews(l))\n",
        "    price_per_night.append(get_listing_price_per_night(l))\n",
        "    total_price.append(get_listing_total_price(l))\n",
        "  url = find_next_page(soup)"
      ],
      "execution_count": 44,
      "outputs": []
    },
    {
      "cell_type": "code",
      "metadata": {
        "id": "6iDRx1a9JUhY",
        "colab": {
          "base_uri": "https://localhost:8080/"
        },
        "outputId": "f9a75910-ece5-4712-8d4d-099a50b8ced0"
      },
      "source": [
        "len(title)"
      ],
      "execution_count": 45,
      "outputs": [
        {
          "output_type": "execute_result",
          "data": {
            "text/plain": [
              "300"
            ]
          },
          "metadata": {
            "tags": []
          },
          "execution_count": 45
        }
      ]
    },
    {
      "cell_type": "markdown",
      "metadata": {
        "deletable": false,
        "editable": false,
        "nbgrader": {
          "cell_type": "markdown",
          "checksum": "fdf6fedaee47c38aabb4aa2da4dc51c4",
          "grade": false,
          "grade_id": "cell-b50a747c535f555",
          "locked": true,
          "schema_version": 3,
          "solution": false,
          "task": false
        },
        "id": "9F-kv4uNO5rT"
      },
      "source": [
        "The following cells runs additional checks to your code. Please **don't write any code here**. Just leave them as they are."
      ]
    },
    {
      "cell_type": "code",
      "metadata": {
        "deletable": false,
        "editable": false,
        "nbgrader": {
          "cell_type": "code",
          "checksum": "dfd417f96fd233980e11c4fd116709d3",
          "grade": true,
          "grade_id": "cell-f153c404e92c8d7",
          "locked": true,
          "points": 0.25,
          "schema_version": 3,
          "solution": false,
          "task": false
        },
        "id": "TvGS5MqoO5rT"
      },
      "source": [
        "# LEAVE BLANK"
      ],
      "execution_count": 46,
      "outputs": []
    },
    {
      "cell_type": "code",
      "metadata": {
        "deletable": false,
        "editable": false,
        "nbgrader": {
          "cell_type": "code",
          "checksum": "951a49f3665e9ae8068a589e7f84485a",
          "grade": true,
          "grade_id": "cell-5d222735dffed626",
          "locked": true,
          "points": 0.25,
          "schema_version": 3,
          "solution": false,
          "task": false
        },
        "id": "aNIdZcmXO5rT"
      },
      "source": [
        "# LEAVE BLANK"
      ],
      "execution_count": 47,
      "outputs": []
    },
    {
      "cell_type": "code",
      "metadata": {
        "deletable": false,
        "editable": false,
        "nbgrader": {
          "cell_type": "code",
          "checksum": "5bee111880e5bf85df79b3c4d1c088a2",
          "grade": true,
          "grade_id": "cell-88bc54655780d5d7",
          "locked": true,
          "points": 0.25,
          "schema_version": 3,
          "solution": false,
          "task": false
        },
        "id": "qa1YJtepO5rT"
      },
      "source": [
        "# LEAVE BLANK"
      ],
      "execution_count": 48,
      "outputs": []
    },
    {
      "cell_type": "code",
      "metadata": {
        "deletable": false,
        "editable": false,
        "nbgrader": {
          "cell_type": "code",
          "checksum": "244e920be9e2a96639263274965d1cc7",
          "grade": true,
          "grade_id": "cell-a6d3f3343c9ca47a",
          "locked": true,
          "points": 0.25,
          "schema_version": 3,
          "solution": false,
          "task": false
        },
        "id": "_HJ7MGFBO5rT"
      },
      "source": [
        "# LEAVE BLANK"
      ],
      "execution_count": 49,
      "outputs": []
    },
    {
      "cell_type": "code",
      "metadata": {
        "deletable": false,
        "editable": false,
        "nbgrader": {
          "cell_type": "code",
          "checksum": "8cc7bc91cf22081657a824ffdff1ee09",
          "grade": true,
          "grade_id": "cell-3690284dc03e708a",
          "locked": true,
          "points": 0.25,
          "schema_version": 3,
          "solution": false,
          "task": false
        },
        "id": "k3KVxtP8O5rT"
      },
      "source": [
        "# LEAVE BLANK"
      ],
      "execution_count": 50,
      "outputs": []
    },
    {
      "cell_type": "code",
      "metadata": {
        "deletable": false,
        "editable": false,
        "nbgrader": {
          "cell_type": "code",
          "checksum": "239f1cf35b33e3e4b59a74c126460e9c",
          "grade": true,
          "grade_id": "cell-a7424957a3a0118b",
          "locked": true,
          "points": 0.25,
          "schema_version": 3,
          "solution": false,
          "task": false
        },
        "id": "kmlArV_LO5rT"
      },
      "source": [
        "# LEAVE BLANK"
      ],
      "execution_count": 51,
      "outputs": []
    },
    {
      "cell_type": "code",
      "metadata": {
        "deletable": false,
        "editable": false,
        "nbgrader": {
          "cell_type": "code",
          "checksum": "e35d2d70be89a5af9284c4576dccfa26",
          "grade": true,
          "grade_id": "cell-08a4988a5f788bac",
          "locked": true,
          "points": 0.25,
          "schema_version": 3,
          "solution": false,
          "task": false
        },
        "id": "F73Q_unBO5rT"
      },
      "source": [
        "# LEAVE BLANK"
      ],
      "execution_count": 52,
      "outputs": []
    },
    {
      "cell_type": "code",
      "metadata": {
        "deletable": false,
        "editable": false,
        "nbgrader": {
          "cell_type": "code",
          "checksum": "8770e764583432cd63357044fdcd29df",
          "grade": true,
          "grade_id": "cell-33241aeb0436d574",
          "locked": true,
          "points": 0.25,
          "schema_version": 3,
          "solution": false,
          "task": false
        },
        "id": "UqtVmRwEO5rT"
      },
      "source": [
        "# LEAVE BLANK"
      ],
      "execution_count": 53,
      "outputs": []
    },
    {
      "cell_type": "markdown",
      "metadata": {
        "deletable": false,
        "editable": false,
        "nbgrader": {
          "cell_type": "markdown",
          "checksum": "9b59463f737ee9e2d89a9f572ad208be",
          "grade": false,
          "grade_id": "cell-9eee4fdb9eaf4783",
          "locked": true,
          "schema_version": 3,
          "solution": false,
          "task": false
        },
        "id": "SuC6knfuO5rT"
      },
      "source": [
        "## Saving the data\n",
        "\n",
        "Now that you retrieved all the data the only thing left for you to do is store them in a DataFrame.\n",
        "\n",
        "<div class=\"alert alert-info\"><b>Exercise 13 </b>Write the code to save these data to a DataFrame object called <i>airbnb</i>. The names of the different columns should be equal to those of the lists you just created: <i>title</i>, <i>subtitle</i>, <i>info</i>, <i>ammenities</i>, <i>rating</i>, <i>reviews</i>, <i>price_per_night</i> and <i>total_price</i>. Don't define any index when defining your DataFrame.</div>"
      ]
    },
    {
      "cell_type": "markdown",
      "metadata": {
        "id": "xiFBQiLyFLFL"
      },
      "source": [
        "WHY IS REVIEWS IN A FLOAT FORM\n"
      ]
    },
    {
      "cell_type": "code",
      "metadata": {
        "deletable": false,
        "nbgrader": {
          "cell_type": "code",
          "checksum": "d689952999f4d2d18bb1b197782fcb2c",
          "grade": false,
          "grade_id": "cell-3bc00597312c36fe",
          "locked": false,
          "schema_version": 3,
          "solution": true,
          "task": false
        },
        "id": "Z6xjc8epO5rT",
        "colab": {
          "base_uri": "https://localhost:8080/",
          "height": 704
        },
        "outputId": "0462f488-e8bc-44ff-eb66-1971bdb5948f"
      },
      "source": [
        "import pandas as pd\n",
        "\n",
        "airbnb = pd.DataFrame(data = {'title': title,\n",
        "                          'subtitle': subtitle,\n",
        "                          'info': info,\n",
        "                          'ammenities': ammenities,\n",
        "                          'rating': rating,\n",
        "                          'reviews': reviews,\n",
        "                          'price_per_night': price_per_night,\n",
        "                          'total_price': total_price,\n",
        "                         })\n",
        "\n",
        "airbnb"
      ],
      "execution_count": 54,
      "outputs": [
        {
          "output_type": "execute_result",
          "data": {
            "text/html": [
              "<div>\n",
              "<style scoped>\n",
              "    .dataframe tbody tr th:only-of-type {\n",
              "        vertical-align: middle;\n",
              "    }\n",
              "\n",
              "    .dataframe tbody tr th {\n",
              "        vertical-align: top;\n",
              "    }\n",
              "\n",
              "    .dataframe thead th {\n",
              "        text-align: right;\n",
              "    }\n",
              "</style>\n",
              "<table border=\"1\" class=\"dataframe\">\n",
              "  <thead>\n",
              "    <tr style=\"text-align: right;\">\n",
              "      <th></th>\n",
              "      <th>title</th>\n",
              "      <th>subtitle</th>\n",
              "      <th>info</th>\n",
              "      <th>ammenities</th>\n",
              "      <th>rating</th>\n",
              "      <th>reviews</th>\n",
              "      <th>price_per_night</th>\n",
              "      <th>total_price</th>\n",
              "    </tr>\n",
              "  </thead>\n",
              "  <tbody>\n",
              "    <tr>\n",
              "      <th>0</th>\n",
              "      <td>LOWER PRICE - Special Offer For Monthly Rental !</td>\n",
              "      <td>Entire villa in Ketewel</td>\n",
              "      <td>8 guests · 4 bedrooms · 5 beds · 4.5 baths</td>\n",
              "      <td>Pool · Wifi · Air conditioning · Kitchen</td>\n",
              "      <td>NaN</td>\n",
              "      <td>NaN</td>\n",
              "      <td>354</td>\n",
              "      <td>2,020</td>\n",
              "    </tr>\n",
              "    <tr>\n",
              "      <th>1</th>\n",
              "      <td>gmb beachhouse bingin beachfront amazing villa</td>\n",
              "      <td>Island in Kabupaten Badung</td>\n",
              "      <td>4 guests · 3 bedrooms · 4 beds · 1 bath</td>\n",
              "      <td>Wifi · Air conditioning · Kitchen</td>\n",
              "      <td>4.77</td>\n",
              "      <td>82.0</td>\n",
              "      <td>180</td>\n",
              "      <td>1,084</td>\n",
              "    </tr>\n",
              "    <tr>\n",
              "      <th>2</th>\n",
              "      <td>Beautiful villa on the edge of BLUE LAGOON</td>\n",
              "      <td>Entire villa in Nusa Ceningan</td>\n",
              "      <td>2 guests · 1 bedroom · 1 bed · 1 bath</td>\n",
              "      <td>Pool · Wifi · Air conditioning</td>\n",
              "      <td>4.82</td>\n",
              "      <td>310.0</td>\n",
              "      <td>92</td>\n",
              "      <td>400</td>\n",
              "    </tr>\n",
              "    <tr>\n",
              "      <th>3</th>\n",
              "      <td>PROMO -70%- Amazing 4BR Villa With Ricefield View</td>\n",
              "      <td>Entire villa in Kecamatan Ubud</td>\n",
              "      <td>10 guests · 4 bedrooms · 6 beds · 4 baths</td>\n",
              "      <td>Pool · Wifi · Air conditioning · Kitchen</td>\n",
              "      <td>4.94</td>\n",
              "      <td>16.0</td>\n",
              "      <td>459</td>\n",
              "      <td>1,969</td>\n",
              "    </tr>\n",
              "    <tr>\n",
              "      <th>4</th>\n",
              "      <td>Villa Murai Sumberkima Hill</td>\n",
              "      <td>Entire villa in Pemuteran</td>\n",
              "      <td>2 guests · 1 bedroom · 1 bed · 1 bath</td>\n",
              "      <td>Pool · Wifi · Air conditioning · Kitchen</td>\n",
              "      <td>4.85</td>\n",
              "      <td>20.0</td>\n",
              "      <td>141</td>\n",
              "      <td>803</td>\n",
              "    </tr>\n",
              "    <tr>\n",
              "      <th>...</th>\n",
              "      <td>...</td>\n",
              "      <td>...</td>\n",
              "      <td>...</td>\n",
              "      <td>...</td>\n",
              "      <td>...</td>\n",
              "      <td>...</td>\n",
              "      <td>...</td>\n",
              "      <td>...</td>\n",
              "    </tr>\n",
              "    <tr>\n",
              "      <th>295</th>\n",
              "      <td>BALI - TWO-BEDROOM PRIVATE POOL IN UBUD</td>\n",
              "      <td>Resort room in Kecamatan Ubud</td>\n",
              "      <td>4 guests · 2 bedrooms · 2 beds · 2 baths</td>\n",
              "      <td>Pool · Wifi · Air conditioning · Kitchen</td>\n",
              "      <td>NaN</td>\n",
              "      <td>NaN</td>\n",
              "      <td>191</td>\n",
              "      <td>1,089</td>\n",
              "    </tr>\n",
              "    <tr>\n",
              "      <th>296</th>\n",
              "      <td>Avalon Ubud Villas, Bedroom #2</td>\n",
              "      <td>Hotel room in Ubud</td>\n",
              "      <td>3 guests · 1 bedroom · 1 bed · 1 bath</td>\n",
              "      <td>Pool · Wifi · Air conditioning</td>\n",
              "      <td>4.71</td>\n",
              "      <td>28.0</td>\n",
              "      <td>35</td>\n",
              "      <td>200</td>\n",
              "    </tr>\n",
              "    <tr>\n",
              "      <th>297</th>\n",
              "      <td>Luxury Tranquility in Canggu</td>\n",
              "      <td>Entire villa in Canggu</td>\n",
              "      <td>9 guests · 5 bedrooms · 6 beds · 6 baths</td>\n",
              "      <td>Pool · Wifi · Air conditioning · Kitchen</td>\n",
              "      <td>4.92</td>\n",
              "      <td>12.0</td>\n",
              "      <td>295</td>\n",
              "      <td>1,683</td>\n",
              "    </tr>\n",
              "    <tr>\n",
              "      <th>298</th>\n",
              "      <td>Stunning designer made villa Lora Sanur</td>\n",
              "      <td>Entire villa in Denpasar Selatan</td>\n",
              "      <td>8 guests · 4 bedrooms · 4 beds · 4.5 baths</td>\n",
              "      <td>Pool · Wifi · Air conditioning · Kitchen</td>\n",
              "      <td>4.86</td>\n",
              "      <td>7.0</td>\n",
              "      <td>97</td>\n",
              "      <td>551</td>\n",
              "    </tr>\n",
              "    <tr>\n",
              "      <th>299</th>\n",
              "      <td>❣️Hideout StaycationVilla-Budget Friendly-moks...</td>\n",
              "      <td>Private room in Ubud</td>\n",
              "      <td>2 guests · 1 bedroom · 1 bed · 1 private bath</td>\n",
              "      <td>Pool · Wifi · Air conditioning</td>\n",
              "      <td>4.81</td>\n",
              "      <td>276.0</td>\n",
              "      <td>18</td>\n",
              "      <td>87</td>\n",
              "    </tr>\n",
              "  </tbody>\n",
              "</table>\n",
              "<p>300 rows × 8 columns</p>\n",
              "</div>"
            ],
            "text/plain": [
              "                                                 title  ... total_price\n",
              "0     LOWER PRICE - Special Offer For Monthly Rental !  ...       2,020\n",
              "1       gmb beachhouse bingin beachfront amazing villa  ...       1,084\n",
              "2           Beautiful villa on the edge of BLUE LAGOON  ...         400\n",
              "3    PROMO -70%- Amazing 4BR Villa With Ricefield View  ...       1,969\n",
              "4                          Villa Murai Sumberkima Hill  ...         803\n",
              "..                                                 ...  ...         ...\n",
              "295            BALI - TWO-BEDROOM PRIVATE POOL IN UBUD  ...       1,089\n",
              "296                     Avalon Ubud Villas, Bedroom #2  ...         200\n",
              "297                       Luxury Tranquility in Canggu  ...       1,683\n",
              "298            Stunning designer made villa Lora Sanur  ...         551\n",
              "299  ❣️Hideout StaycationVilla-Budget Friendly-moks...  ...          87\n",
              "\n",
              "[300 rows x 8 columns]"
            ]
          },
          "metadata": {
            "tags": []
          },
          "execution_count": 54
        }
      ]
    },
    {
      "cell_type": "markdown",
      "metadata": {
        "deletable": false,
        "editable": false,
        "nbgrader": {
          "cell_type": "markdown",
          "checksum": "b4cf6d314a2d48e149dda435086a61de",
          "grade": false,
          "grade_id": "cell-bb0d90ad4cc09c7b",
          "locked": true,
          "schema_version": 3,
          "solution": false,
          "task": false
        },
        "id": "sxmRIIvGO5rT"
      },
      "source": [
        "The following cell runs additional checks to your code. Please **don't write any code here**. Just leave it as it is."
      ]
    },
    {
      "cell_type": "code",
      "metadata": {
        "deletable": false,
        "editable": false,
        "nbgrader": {
          "cell_type": "code",
          "checksum": "571e447ddefec9a01f74fefecb0e13cb",
          "grade": true,
          "grade_id": "cell-b44d817505370766",
          "locked": true,
          "points": 0.25,
          "schema_version": 3,
          "solution": false,
          "task": false
        },
        "id": "vObyRxKXO5rT"
      },
      "source": [
        "# LEAVE BLANK"
      ],
      "execution_count": 55,
      "outputs": []
    },
    {
      "cell_type": "markdown",
      "metadata": {
        "deletable": false,
        "editable": false,
        "nbgrader": {
          "cell_type": "markdown",
          "checksum": "a41dedfb442d78e870011db58bad2e66",
          "grade": false,
          "grade_id": "cell-e7c17d5e8ca769f8",
          "locked": true,
          "schema_version": 3,
          "solution": false,
          "task": false
        },
        "id": "5WX9prnVO5rT"
      },
      "source": [
        "Finally, save your DataFrame to a csv file by runnign the following cell."
      ]
    },
    {
      "cell_type": "code",
      "metadata": {
        "id": "vtdq9aHZO5rT"
      },
      "source": [
        "airbnb.to_csv(\"airbnb.csv\", index=False)"
      ],
      "execution_count": 56,
      "outputs": []
    },
    {
      "cell_type": "markdown",
      "metadata": {
        "deletable": false,
        "editable": false,
        "nbgrader": {
          "cell_type": "markdown",
          "checksum": "b5b54148763f063ea624a940269f9e40",
          "grade": false,
          "grade_id": "cell-e05f29a6fa8644c8",
          "locked": true,
          "schema_version": 3,
          "solution": false,
          "task": false
        },
        "id": "TTFsvOIaO5rT"
      },
      "source": [
        "## Bonus exercises\n",
        "\n",
        "In order to get bonus points, you'll need to redefine the way in which both the info and the ammenities data are stored. For each of this items, you retrieved the whole string containing information about different elements. Let's extract the separate information for each of these elements.\n",
        "\n",
        "<div class=\"alert alert-danger\"><b>Bonus 1 </b>Write the code to retrieve the individual data from the <i>info</i> list. This list should contain information about the number of guests, the number of bedrooms, the number of beds and the number of baths. Store the information for the number of guests, bedrooms and bathrooms in separate lists called <i>guests</i>, <i>bedrooms</i> and <i>baths</i>. The number of guests an dbedrooms should be store in <b>int</b> form, while the number of baths should be a <b>float</b>. The lists have already been initialized for you. If no value is given for any of the items, use a <i>None</i> in boolean form.</div>\n",
        "\n",
        "<div class=\"alert alert-warning\">Say the first element of you <i>info</i> list contains the string \"3 guests · 1 private bedroom · 2 beds · 1 shared bath\", then the first element of your <i>guests</i> list should be equal to 3, the first element of your <i>bedrooms</i> list should be equal to 1 and the first element of your <i>baths</i> list should be equal to 1. Equivalently, if the first element of you <i>info</i> list contains the string \"4 guests · Studio · 2 beds · 1 private bath\", then the first element of your <i>guests</i> list should be equal to 4, the first element of your <i>bedrooms</i> list should be equal to None and the first element of your <i>baths</i> list should be equal to 1.</div>\n",
        "\n",
        "<div class=\"alert alert-warning\">You'll find that, for some reason, certain listings have a very misterious thing called <i>Half-bath</i>. You can either encode those cases using a 0.5 in <b>float</b> form or a <i>None</i> in <b>boolean</b> form.</div>"
      ]
    },
    {
      "cell_type": "code",
      "metadata": {
        "deletable": false,
        "nbgrader": {
          "cell_type": "code",
          "checksum": "83f782b9df3ad23a6597fea7a807ed88",
          "grade": false,
          "grade_id": "cell-b948cd709ca248eb",
          "locked": false,
          "schema_version": 3,
          "solution": true,
          "task": false
        },
        "id": "NP8euDvtO5rT"
      },
      "source": [
        "guests = []\n",
        "bedrooms = []\n",
        "baths = []\n",
        "\n",
        "#I split the info column by the dot \n",
        "def split_get_listing_info(info):\n",
        "    info_split = []\n",
        "    for x in info:\n",
        "      try:\n",
        "        info_split.append(x.split(\"·\"))\n",
        "      except:\n",
        "        info_split.append(None)\n",
        "    return info_split"
      ],
      "execution_count": 57,
      "outputs": []
    },
    {
      "cell_type": "code",
      "metadata": {
        "id": "-bPe_gpgJjHK"
      },
      "source": [
        "#I extract detailed infos from the split info column \n",
        "for i in split_get_listing_info(info):\n",
        "    #guests\n",
        "    number_guest = i[0].split()[0]\n",
        "    guests.append(int(number_guest))\n",
        "    #bedrooms\n",
        "    number_bedrooms = i[1].split()[0]\n",
        "    if number_bedrooms.isdigit():\n",
        "      bedrooms.append(int(number_bedrooms))\n",
        "    else:\n",
        "      bedrooms.append(None)\n",
        "    #baths\n",
        "    try: \n",
        "      number_baths = i[3].split()[0]\n",
        "      baths.append(float(number_baths))\n",
        "    except: \n",
        "      baths.append(None)"
      ],
      "execution_count": 58,
      "outputs": []
    },
    {
      "cell_type": "markdown",
      "metadata": {
        "deletable": false,
        "editable": false,
        "nbgrader": {
          "cell_type": "markdown",
          "checksum": "a6224fbdc7de12b5295c60f7fd209e82",
          "grade": false,
          "grade_id": "cell-dadae4f660e52336",
          "locked": true,
          "schema_version": 3,
          "solution": false,
          "task": false
        },
        "id": "KLaauiaGO5rU"
      },
      "source": [
        "The following cells runs additional checks to your code. Please **don't write any code here**. Just leave them as they are."
      ]
    },
    {
      "cell_type": "code",
      "metadata": {
        "deletable": false,
        "editable": false,
        "nbgrader": {
          "cell_type": "code",
          "checksum": "57fb426e226c2e7408307a3d8b304284",
          "grade": true,
          "grade_id": "cell-7b39501ec328ded0",
          "locked": true,
          "points": 0.5,
          "schema_version": 3,
          "solution": false,
          "task": false
        },
        "id": "5KSFIiJqO5rU"
      },
      "source": [
        "# LEAVE BLANK"
      ],
      "execution_count": 59,
      "outputs": []
    },
    {
      "cell_type": "code",
      "metadata": {
        "deletable": false,
        "editable": false,
        "nbgrader": {
          "cell_type": "code",
          "checksum": "2a5083201ad12a336662bda8b0cf05f6",
          "grade": true,
          "grade_id": "cell-55efb8dca0f025c0",
          "locked": true,
          "points": 0.5,
          "schema_version": 3,
          "solution": false,
          "task": false
        },
        "id": "_KsJ-I_pO5rU"
      },
      "source": [
        "# LEAVE BLANK"
      ],
      "execution_count": 60,
      "outputs": []
    },
    {
      "cell_type": "code",
      "metadata": {
        "deletable": false,
        "editable": false,
        "nbgrader": {
          "cell_type": "code",
          "checksum": "8d38000fa4bf85abe5b2c07d1768a380",
          "grade": true,
          "grade_id": "cell-877afdfadb9ec778",
          "locked": true,
          "points": 0.5,
          "schema_version": 3,
          "solution": false,
          "task": false
        },
        "id": "BMQD-t50O5rU"
      },
      "source": [
        "# LEAVE BLANK"
      ],
      "execution_count": 61,
      "outputs": []
    },
    {
      "cell_type": "markdown",
      "metadata": {
        "deletable": false,
        "editable": false,
        "nbgrader": {
          "cell_type": "markdown",
          "checksum": "d9ecf8568be191fd4815c516f449de36",
          "grade": false,
          "grade_id": "cell-ef85e8a13c8738d9",
          "locked": true,
          "schema_version": 3,
          "solution": false,
          "task": false
        },
        "id": "MVgA2czmO5rU"
      },
      "source": [
        "Appart from the general information, when searching for the best choice, there might be some specific things we are looking for. I don't know about you, but I would definitely look for a place with a pool, a kitchen, wifi and definitely some air conditioning.\n",
        "\n",
        "<div class=\"alert alert-danger\"><b>Bonus 2 </b>Write the code to retrieve these data from the <i>ammenities</i> list. Remember that this list contains information about the different services that are offered in str form. For each of the 4 ammenities above (wiki, kitchen, air conditioning and pool) create a new list that stores a 1 in <b>int</b> form if the ammenity is present and a 0 in <b>int</b> form otherwise. Store these values in separate lists called <i>wifi</i>, <i>kitchen</i>, <i>air_conditioning</i> and <i>pool</i>. The lists have already been initialized for you. If the values in your <i>ammenities</i> is missing, use a <i>None</i> in boolean form for every individual ammenity.</div>\n",
        "\n",
        "<div class=\"alert alert-warning\">Say the first element of your <i>ammenities</i> list contains the string \"wifi · heating\", then the first element of your <i>wifi</i> list should be equal to 1, the first element of your <i>kitchen</i> list should be equal to 0,  the first element of your <i>air_conditioning</i> list should be equal to 0 and the first element of your <i>pool</i> list should be equal to 1.</div>"
      ]
    },
    {
      "cell_type": "code",
      "metadata": {
        "deletable": false,
        "nbgrader": {
          "cell_type": "code",
          "checksum": "a1b4f8b4cee23843e3cf16c656c2ddae",
          "grade": false,
          "grade_id": "cell-e8e2ab1d726d3920",
          "locked": false,
          "schema_version": 3,
          "solution": true,
          "task": false
        },
        "id": "ECfGSf4YO5rU"
      },
      "source": [
        "wifi = []\n",
        "kitchen = []\n",
        "air_conditioning = []\n",
        "pool = []\n",
        "\n",
        "for a in ammenities:\n",
        "  if a:\n",
        "    if \"Pool\" in a: \n",
        "      pool.append(1)\n",
        "    else:\n",
        "      pool.append(0)\n",
        "    if \"Wifi\" in a: \n",
        "      wifi.append(1)\n",
        "    else:\n",
        "      wifi.append(0)\n",
        "    if \"Air conditioning\" in a: \n",
        "      air_conditioning.append(1)\n",
        "    else:\n",
        "      air_conditioning.append(0)\n",
        "    if \"Air Kitchen\" in a: \n",
        "      kitchen.append(1)\n",
        "    else:\n",
        "      kitchen.append(0)  \n",
        "  else:\n",
        "    pool.append(None)\n",
        "    wifi.append(None)\n",
        "    air_conditioning.append(None)\n",
        "    kitchen.append(None)"
      ],
      "execution_count": 62,
      "outputs": []
    },
    {
      "cell_type": "markdown",
      "metadata": {
        "deletable": false,
        "editable": false,
        "nbgrader": {
          "cell_type": "markdown",
          "checksum": "6ec07918a12d9e87a5fdcbda75b59c24",
          "grade": false,
          "grade_id": "cell-dadae4f660e52f6",
          "locked": true,
          "schema_version": 3,
          "solution": false,
          "task": false
        },
        "id": "AWKnV78AO5rU"
      },
      "source": [
        "The following cells runs additional checks to your code. Please **don't write any code here**. Just leave them as they are."
      ]
    },
    {
      "cell_type": "code",
      "metadata": {
        "deletable": false,
        "editable": false,
        "nbgrader": {
          "cell_type": "code",
          "checksum": "c6450e6d8cbf92fcc199b2e269c8a4b7",
          "grade": true,
          "grade_id": "cell-7b39501effc328ded0",
          "locked": true,
          "points": 0.75,
          "schema_version": 3,
          "solution": false,
          "task": false
        },
        "id": "jL1IXVxWO5rU"
      },
      "source": [
        "# LEAVE BLANK"
      ],
      "execution_count": 63,
      "outputs": []
    },
    {
      "cell_type": "code",
      "metadata": {
        "deletable": false,
        "editable": false,
        "nbgrader": {
          "cell_type": "code",
          "checksum": "c9938ab23b5cc069b6f68176736c87e2",
          "grade": true,
          "grade_id": "cell-d33dc2fa442946572",
          "locked": true,
          "points": 0.75,
          "schema_version": 3,
          "solution": false,
          "task": false
        },
        "id": "KL9ZSX-6O5rU"
      },
      "source": [
        "# LEAVE BLANK"
      ],
      "execution_count": 64,
      "outputs": []
    },
    {
      "cell_type": "code",
      "metadata": {
        "deletable": false,
        "editable": false,
        "nbgrader": {
          "cell_type": "code",
          "checksum": "52190de9c361562345e44eea0bdf6769",
          "grade": true,
          "grade_id": "cell-9829fr4d01b60ce2c7",
          "locked": true,
          "points": 0.75,
          "schema_version": 3,
          "solution": false,
          "task": false
        },
        "id": "svbBubUXO5rU"
      },
      "source": [
        "# LEAVE BLANK"
      ],
      "execution_count": 65,
      "outputs": []
    },
    {
      "cell_type": "code",
      "metadata": {
        "deletable": false,
        "editable": false,
        "nbgrader": {
          "cell_type": "code",
          "checksum": "4dc8b31c6ca99f08d653f0f17e53bf7e",
          "grade": true,
          "grade_id": "cell-415609b6daa77e",
          "locked": true,
          "points": 0.75,
          "schema_version": 3,
          "solution": false,
          "task": false
        },
        "id": "RoXeJXrSO5rU"
      },
      "source": [
        "# LEAVE BLANK"
      ],
      "execution_count": 66,
      "outputs": []
    },
    {
      "cell_type": "markdown",
      "metadata": {
        "deletable": false,
        "editable": false,
        "nbgrader": {
          "cell_type": "markdown",
          "checksum": "b738787684b934ae1a2d0e4679e2c9f8",
          "grade": false,
          "grade_id": "cell-9eee4db9eaf4783",
          "locked": true,
          "schema_version": 3,
          "solution": false,
          "task": false
        },
        "id": "tpNWnkUmO5rU"
      },
      "source": [
        "<div class=\"alert alert-danger\"><b>Bonus 3 </b>Write the code to save these data to a DataFrame object called <i>airbnb</i>. This time, instead of including the columns <i>info</i> and <i>ammenities</i>, include the lists you created above. The names of the different columns should be equal to those of the lists you just created: <i>title</i>, <i>subtitle</i>, <i>rating</i>, <i>reviews</i>, <i>price_per_night</i>, <i>total_price</i>, <i>guests</i>, <i>bedrooms</i>, <i>baths</i>, <i>wifi</i>, <i>kitchen</i>, <i>air_conditioning</i> and <i>pool</i>. Don't define any index when defining your DataFrame.</div>"
      ]
    },
    {
      "cell_type": "code",
      "metadata": {
        "deletable": false,
        "nbgrader": {
          "cell_type": "code",
          "checksum": "b9aefc1ff39dc0f103f8474eea1657fb",
          "grade": false,
          "grade_id": "cellc00597312c36fe",
          "locked": false,
          "schema_version": 3,
          "solution": true,
          "task": false
        },
        "id": "bp2xz4zEO5rU",
        "colab": {
          "base_uri": "https://localhost:8080/",
          "height": 942
        },
        "outputId": "a2495987-e765-435e-c16d-1b3d2603d082"
      },
      "source": [
        "import pandas as pd\n",
        "data = {\"title\": title, \"subtitle\": subtitle, \"rating\": rating,\n",
        "        \"reviews\": reviews,\"price_per_night\": price_per_night,\"total_price\": total_price,\n",
        "        \"guests\": guests, \"bedrooms\": bedrooms,\"baths\": baths,\"wifi\": wifi,\n",
        "        \"kitchen\": kitchen,\"air_conditioning\": air_conditioning,\"pool\": pool,\n",
        "        }\n",
        "airbnb = pd.DataFrame(data=data)\n",
        "airbnb"
      ],
      "execution_count": 67,
      "outputs": [
        {
          "output_type": "execute_result",
          "data": {
            "text/html": [
              "<div>\n",
              "<style scoped>\n",
              "    .dataframe tbody tr th:only-of-type {\n",
              "        vertical-align: middle;\n",
              "    }\n",
              "\n",
              "    .dataframe tbody tr th {\n",
              "        vertical-align: top;\n",
              "    }\n",
              "\n",
              "    .dataframe thead th {\n",
              "        text-align: right;\n",
              "    }\n",
              "</style>\n",
              "<table border=\"1\" class=\"dataframe\">\n",
              "  <thead>\n",
              "    <tr style=\"text-align: right;\">\n",
              "      <th></th>\n",
              "      <th>title</th>\n",
              "      <th>subtitle</th>\n",
              "      <th>rating</th>\n",
              "      <th>reviews</th>\n",
              "      <th>price_per_night</th>\n",
              "      <th>total_price</th>\n",
              "      <th>guests</th>\n",
              "      <th>bedrooms</th>\n",
              "      <th>baths</th>\n",
              "      <th>wifi</th>\n",
              "      <th>kitchen</th>\n",
              "      <th>air_conditioning</th>\n",
              "      <th>pool</th>\n",
              "    </tr>\n",
              "  </thead>\n",
              "  <tbody>\n",
              "    <tr>\n",
              "      <th>0</th>\n",
              "      <td>LOWER PRICE - Special Offer For Monthly Rental !</td>\n",
              "      <td>Entire villa in Ketewel</td>\n",
              "      <td>NaN</td>\n",
              "      <td>NaN</td>\n",
              "      <td>354</td>\n",
              "      <td>2,020</td>\n",
              "      <td>8</td>\n",
              "      <td>4.0</td>\n",
              "      <td>4.5</td>\n",
              "      <td>1.0</td>\n",
              "      <td>0.0</td>\n",
              "      <td>1.0</td>\n",
              "      <td>1.0</td>\n",
              "    </tr>\n",
              "    <tr>\n",
              "      <th>1</th>\n",
              "      <td>gmb beachhouse bingin beachfront amazing villa</td>\n",
              "      <td>Island in Kabupaten Badung</td>\n",
              "      <td>4.77</td>\n",
              "      <td>82.0</td>\n",
              "      <td>180</td>\n",
              "      <td>1,084</td>\n",
              "      <td>4</td>\n",
              "      <td>3.0</td>\n",
              "      <td>1.0</td>\n",
              "      <td>1.0</td>\n",
              "      <td>0.0</td>\n",
              "      <td>1.0</td>\n",
              "      <td>0.0</td>\n",
              "    </tr>\n",
              "    <tr>\n",
              "      <th>2</th>\n",
              "      <td>Beautiful villa on the edge of BLUE LAGOON</td>\n",
              "      <td>Entire villa in Nusa Ceningan</td>\n",
              "      <td>4.82</td>\n",
              "      <td>310.0</td>\n",
              "      <td>92</td>\n",
              "      <td>400</td>\n",
              "      <td>2</td>\n",
              "      <td>1.0</td>\n",
              "      <td>1.0</td>\n",
              "      <td>1.0</td>\n",
              "      <td>0.0</td>\n",
              "      <td>1.0</td>\n",
              "      <td>1.0</td>\n",
              "    </tr>\n",
              "    <tr>\n",
              "      <th>3</th>\n",
              "      <td>PROMO -70%- Amazing 4BR Villa With Ricefield View</td>\n",
              "      <td>Entire villa in Kecamatan Ubud</td>\n",
              "      <td>4.94</td>\n",
              "      <td>16.0</td>\n",
              "      <td>459</td>\n",
              "      <td>1,969</td>\n",
              "      <td>10</td>\n",
              "      <td>4.0</td>\n",
              "      <td>4.0</td>\n",
              "      <td>1.0</td>\n",
              "      <td>0.0</td>\n",
              "      <td>1.0</td>\n",
              "      <td>1.0</td>\n",
              "    </tr>\n",
              "    <tr>\n",
              "      <th>4</th>\n",
              "      <td>Villa Murai Sumberkima Hill</td>\n",
              "      <td>Entire villa in Pemuteran</td>\n",
              "      <td>4.85</td>\n",
              "      <td>20.0</td>\n",
              "      <td>141</td>\n",
              "      <td>803</td>\n",
              "      <td>2</td>\n",
              "      <td>1.0</td>\n",
              "      <td>1.0</td>\n",
              "      <td>1.0</td>\n",
              "      <td>0.0</td>\n",
              "      <td>1.0</td>\n",
              "      <td>1.0</td>\n",
              "    </tr>\n",
              "    <tr>\n",
              "      <th>...</th>\n",
              "      <td>...</td>\n",
              "      <td>...</td>\n",
              "      <td>...</td>\n",
              "      <td>...</td>\n",
              "      <td>...</td>\n",
              "      <td>...</td>\n",
              "      <td>...</td>\n",
              "      <td>...</td>\n",
              "      <td>...</td>\n",
              "      <td>...</td>\n",
              "      <td>...</td>\n",
              "      <td>...</td>\n",
              "      <td>...</td>\n",
              "    </tr>\n",
              "    <tr>\n",
              "      <th>295</th>\n",
              "      <td>BALI - TWO-BEDROOM PRIVATE POOL IN UBUD</td>\n",
              "      <td>Resort room in Kecamatan Ubud</td>\n",
              "      <td>NaN</td>\n",
              "      <td>NaN</td>\n",
              "      <td>191</td>\n",
              "      <td>1,089</td>\n",
              "      <td>4</td>\n",
              "      <td>2.0</td>\n",
              "      <td>2.0</td>\n",
              "      <td>1.0</td>\n",
              "      <td>0.0</td>\n",
              "      <td>1.0</td>\n",
              "      <td>1.0</td>\n",
              "    </tr>\n",
              "    <tr>\n",
              "      <th>296</th>\n",
              "      <td>Avalon Ubud Villas, Bedroom #2</td>\n",
              "      <td>Hotel room in Ubud</td>\n",
              "      <td>4.71</td>\n",
              "      <td>28.0</td>\n",
              "      <td>35</td>\n",
              "      <td>200</td>\n",
              "      <td>3</td>\n",
              "      <td>1.0</td>\n",
              "      <td>1.0</td>\n",
              "      <td>1.0</td>\n",
              "      <td>0.0</td>\n",
              "      <td>1.0</td>\n",
              "      <td>1.0</td>\n",
              "    </tr>\n",
              "    <tr>\n",
              "      <th>297</th>\n",
              "      <td>Luxury Tranquility in Canggu</td>\n",
              "      <td>Entire villa in Canggu</td>\n",
              "      <td>4.92</td>\n",
              "      <td>12.0</td>\n",
              "      <td>295</td>\n",
              "      <td>1,683</td>\n",
              "      <td>9</td>\n",
              "      <td>5.0</td>\n",
              "      <td>6.0</td>\n",
              "      <td>1.0</td>\n",
              "      <td>0.0</td>\n",
              "      <td>1.0</td>\n",
              "      <td>1.0</td>\n",
              "    </tr>\n",
              "    <tr>\n",
              "      <th>298</th>\n",
              "      <td>Stunning designer made villa Lora Sanur</td>\n",
              "      <td>Entire villa in Denpasar Selatan</td>\n",
              "      <td>4.86</td>\n",
              "      <td>7.0</td>\n",
              "      <td>97</td>\n",
              "      <td>551</td>\n",
              "      <td>8</td>\n",
              "      <td>4.0</td>\n",
              "      <td>4.5</td>\n",
              "      <td>1.0</td>\n",
              "      <td>0.0</td>\n",
              "      <td>1.0</td>\n",
              "      <td>1.0</td>\n",
              "    </tr>\n",
              "    <tr>\n",
              "      <th>299</th>\n",
              "      <td>❣️Hideout StaycationVilla-Budget Friendly-moks...</td>\n",
              "      <td>Private room in Ubud</td>\n",
              "      <td>4.81</td>\n",
              "      <td>276.0</td>\n",
              "      <td>18</td>\n",
              "      <td>87</td>\n",
              "      <td>2</td>\n",
              "      <td>1.0</td>\n",
              "      <td>1.0</td>\n",
              "      <td>1.0</td>\n",
              "      <td>0.0</td>\n",
              "      <td>1.0</td>\n",
              "      <td>1.0</td>\n",
              "    </tr>\n",
              "  </tbody>\n",
              "</table>\n",
              "<p>300 rows × 13 columns</p>\n",
              "</div>"
            ],
            "text/plain": [
              "                                                 title  ... pool\n",
              "0     LOWER PRICE - Special Offer For Monthly Rental !  ...  1.0\n",
              "1       gmb beachhouse bingin beachfront amazing villa  ...  0.0\n",
              "2           Beautiful villa on the edge of BLUE LAGOON  ...  1.0\n",
              "3    PROMO -70%- Amazing 4BR Villa With Ricefield View  ...  1.0\n",
              "4                          Villa Murai Sumberkima Hill  ...  1.0\n",
              "..                                                 ...  ...  ...\n",
              "295            BALI - TWO-BEDROOM PRIVATE POOL IN UBUD  ...  1.0\n",
              "296                     Avalon Ubud Villas, Bedroom #2  ...  1.0\n",
              "297                       Luxury Tranquility in Canggu  ...  1.0\n",
              "298            Stunning designer made villa Lora Sanur  ...  1.0\n",
              "299  ❣️Hideout StaycationVilla-Budget Friendly-moks...  ...  1.0\n",
              "\n",
              "[300 rows x 13 columns]"
            ]
          },
          "metadata": {
            "tags": []
          },
          "execution_count": 67
        }
      ]
    },
    {
      "cell_type": "markdown",
      "metadata": {
        "deletable": false,
        "editable": false,
        "nbgrader": {
          "cell_type": "markdown",
          "checksum": "3ce46f085331898fa7a73bcfffbe12a6",
          "grade": false,
          "grade_id": "cl-bb0d90ad4cc09c7b",
          "locked": true,
          "schema_version": 3,
          "solution": false,
          "task": false
        },
        "id": "N-ViVY_pO5rU"
      },
      "source": [
        "The following cell runs additional checks to your code. Please **don't write any code here**. Just leave it as it is."
      ]
    },
    {
      "cell_type": "code",
      "metadata": {
        "deletable": false,
        "editable": false,
        "nbgrader": {
          "cell_type": "code",
          "checksum": "411fd90f4da554c2243c6ca926993b20",
          "grade": true,
          "grade_id": "cell-d817505370766",
          "locked": true,
          "points": 0.25,
          "schema_version": 3,
          "solution": false,
          "task": false
        },
        "id": "G_-90113O5rU"
      },
      "source": [
        "# LEAVE BLANK"
      ],
      "execution_count": 68,
      "outputs": []
    },
    {
      "cell_type": "markdown",
      "metadata": {
        "deletable": false,
        "editable": false,
        "nbgrader": {
          "cell_type": "markdown",
          "checksum": "40a9e2a5d711afc40b5e61df89b82612",
          "grade": false,
          "grade_id": "cell-212db721f7961a48",
          "locked": true,
          "schema_version": 3,
          "solution": false,
          "task": false
        },
        "id": "U5KSawHEO5rU"
      },
      "source": [
        "Once you are done update the file storign your previous data with the new information."
      ]
    },
    {
      "cell_type": "code",
      "metadata": {
        "id": "ECERVPQ9O5rU"
      },
      "source": [
        "airbnb.to_csv(\"airbnb.csv\")"
      ],
      "execution_count": 78,
      "outputs": []
    }
  ]
}